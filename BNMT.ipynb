{
  "nbformat": 4,
  "nbformat_minor": 0,
  "metadata": {
    "colab": {
      "name": "BNMT.ipynb",
      "provenance": [],
      "authorship_tag": "ABX9TyM7nFlQ9fJ+lkD2vSX8teDa",
      "include_colab_link": true
    },
    "kernelspec": {
      "name": "python3",
      "display_name": "Python 3"
    },
    "accelerator": "GPU"
  },
  "cells": [
    {
      "cell_type": "markdown",
      "metadata": {
        "id": "view-in-github",
        "colab_type": "text"
      },
      "source": [
        "<a href=\"https://colab.research.google.com/github/AbuKaisar24/Bengali-to-English-Machine-Translation/blob/master/BNMT.ipynb\" target=\"_parent\"><img src=\"https://colab.research.google.com/assets/colab-badge.svg\" alt=\"Open In Colab\"/></a>"
      ]
    },
    {
      "cell_type": "code",
      "metadata": {
        "id": "Asl-2cGf9_RK",
        "colab_type": "code",
        "colab": {
          "base_uri": "https://localhost:8080/",
          "height": 633
        },
        "outputId": "188726e1-51eb-4a6b-97e6-c14aefce7b73"
      },
      "source": [
        "!pip install tensorflow==1.14.0"
      ],
      "execution_count": null,
      "outputs": [
        {
          "output_type": "stream",
          "text": [
            "Collecting tensorflow==1.14.0\n",
            "\u001b[?25l  Downloading https://files.pythonhosted.org/packages/de/f0/96fb2e0412ae9692dbf400e5b04432885f677ad6241c088ccc5fe7724d69/tensorflow-1.14.0-cp36-cp36m-manylinux1_x86_64.whl (109.2MB)\n",
            "\u001b[K     |████████████████████████████████| 109.2MB 99kB/s \n",
            "\u001b[?25hRequirement already satisfied: astor>=0.6.0 in /usr/local/lib/python3.6/dist-packages (from tensorflow==1.14.0) (0.8.1)\n",
            "Requirement already satisfied: protobuf>=3.6.1 in /usr/local/lib/python3.6/dist-packages (from tensorflow==1.14.0) (3.10.0)\n",
            "Requirement already satisfied: six>=1.10.0 in /usr/local/lib/python3.6/dist-packages (from tensorflow==1.14.0) (1.12.0)\n",
            "Requirement already satisfied: absl-py>=0.7.0 in /usr/local/lib/python3.6/dist-packages (from tensorflow==1.14.0) (0.9.0)\n",
            "Requirement already satisfied: wheel>=0.26 in /usr/local/lib/python3.6/dist-packages (from tensorflow==1.14.0) (0.34.2)\n",
            "Collecting tensorboard<1.15.0,>=1.14.0\n",
            "\u001b[?25l  Downloading https://files.pythonhosted.org/packages/91/2d/2ed263449a078cd9c8a9ba50ebd50123adf1f8cfbea1492f9084169b89d9/tensorboard-1.14.0-py3-none-any.whl (3.1MB)\n",
            "\u001b[K     |████████████████████████████████| 3.2MB 33.7MB/s \n",
            "\u001b[?25hRequirement already satisfied: gast>=0.2.0 in /usr/local/lib/python3.6/dist-packages (from tensorflow==1.14.0) (0.3.3)\n",
            "Requirement already satisfied: wrapt>=1.11.1 in /usr/local/lib/python3.6/dist-packages (from tensorflow==1.14.0) (1.12.1)\n",
            "Requirement already satisfied: grpcio>=1.8.6 in /usr/local/lib/python3.6/dist-packages (from tensorflow==1.14.0) (1.28.1)\n",
            "Requirement already satisfied: google-pasta>=0.1.6 in /usr/local/lib/python3.6/dist-packages (from tensorflow==1.14.0) (0.2.0)\n",
            "Requirement already satisfied: keras-applications>=1.0.6 in /usr/local/lib/python3.6/dist-packages (from tensorflow==1.14.0) (1.0.8)\n",
            "Requirement already satisfied: keras-preprocessing>=1.0.5 in /usr/local/lib/python3.6/dist-packages (from tensorflow==1.14.0) (1.1.0)\n",
            "Collecting tensorflow-estimator<1.15.0rc0,>=1.14.0rc0\n",
            "\u001b[?25l  Downloading https://files.pythonhosted.org/packages/3c/d5/21860a5b11caf0678fbc8319341b0ae21a07156911132e0e71bffed0510d/tensorflow_estimator-1.14.0-py2.py3-none-any.whl (488kB)\n",
            "\u001b[K     |████████████████████████████████| 491kB 43.1MB/s \n",
            "\u001b[?25hRequirement already satisfied: numpy<2.0,>=1.14.5 in /usr/local/lib/python3.6/dist-packages (from tensorflow==1.14.0) (1.18.2)\n",
            "Requirement already satisfied: termcolor>=1.1.0 in /usr/local/lib/python3.6/dist-packages (from tensorflow==1.14.0) (1.1.0)\n",
            "Requirement already satisfied: setuptools in /usr/local/lib/python3.6/dist-packages (from protobuf>=3.6.1->tensorflow==1.14.0) (46.1.3)\n",
            "Requirement already satisfied: markdown>=2.6.8 in /usr/local/lib/python3.6/dist-packages (from tensorboard<1.15.0,>=1.14.0->tensorflow==1.14.0) (3.2.1)\n",
            "Requirement already satisfied: werkzeug>=0.11.15 in /usr/local/lib/python3.6/dist-packages (from tensorboard<1.15.0,>=1.14.0->tensorflow==1.14.0) (1.0.1)\n",
            "Requirement already satisfied: h5py in /usr/local/lib/python3.6/dist-packages (from keras-applications>=1.0.6->tensorflow==1.14.0) (2.10.0)\n",
            "Installing collected packages: tensorboard, tensorflow-estimator, tensorflow\n",
            "  Found existing installation: tensorboard 2.2.0\n",
            "    Uninstalling tensorboard-2.2.0:\n",
            "      Successfully uninstalled tensorboard-2.2.0\n",
            "  Found existing installation: tensorflow-estimator 2.2.0rc0\n",
            "    Uninstalling tensorflow-estimator-2.2.0rc0:\n",
            "      Successfully uninstalled tensorflow-estimator-2.2.0rc0\n",
            "  Found existing installation: tensorflow 2.2.0rc2\n",
            "    Uninstalling tensorflow-2.2.0rc2:\n",
            "      Successfully uninstalled tensorflow-2.2.0rc2\n",
            "Successfully installed tensorboard-1.14.0 tensorflow-1.14.0 tensorflow-estimator-1.14.0\n"
          ],
          "name": "stdout"
        }
      ]
    },
    {
      "cell_type": "code",
      "metadata": {
        "id": "vmOCDgPx-ZrU",
        "colab_type": "code",
        "colab": {
          "base_uri": "https://localhost:8080/",
          "height": 33
        },
        "outputId": "dadaf81d-a789-4690-ff8b-f1df74850591"
      },
      "source": [
        "from google.colab import drive\n",
        "drive.mount('/content/drive')"
      ],
      "execution_count": null,
      "outputs": [
        {
          "output_type": "stream",
          "text": [
            "Drive already mounted at /content/drive; to attempt to forcibly remount, call drive.mount(\"/content/drive\", force_remount=True).\n"
          ],
          "name": "stdout"
        }
      ]
    },
    {
      "cell_type": "code",
      "metadata": {
        "id": "YASlYcZP-vuU",
        "colab_type": "code",
        "colab": {
          "base_uri": "https://localhost:8080/",
          "height": 499
        },
        "outputId": "7abe49ab-1fab-48dc-a991-cfaa59c2dafa"
      },
      "source": [
        "import pandas as pd\n",
        "import numpy as np\n",
        "import string\n",
        "from string import digits\n",
        "import matplotlib.pyplot as plt\n",
        "%matplotlib inline\n",
        "import re\n",
        "import os\n",
        "from sklearn.utils import shuffle\n",
        "from sklearn.model_selection import train_test_split\n",
        "from keras.layers import Input, LSTM, Embedding, Dense, Bidirectional\n",
        "from keras.layers import Activation, dot, concatenate\n",
        "from keras.models import Model\n",
        "from keras.callbacks import TensorBoard, ModelCheckpoint, ReduceLROnPlateau, EarlyStopping\n",
        "from keras.preprocessing.text import Tokenizer\n",
        "import tensorflow as tf\n",
        "from gensim.models import Word2Vec\n",
        "from tqdm import tqdm_notebook\n",
        "import nltk\n",
        "%matplotlib inline  \n",
        "import matplotlib\n",
        "import matplotlib.pyplot as plt\n"
      ],
      "execution_count": null,
      "outputs": [
        {
          "output_type": "stream",
          "text": [
            "Using TensorFlow backend.\n",
            "/usr/local/lib/python3.6/dist-packages/tensorflow/python/framework/dtypes.py:516: FutureWarning: Passing (type, 1) or '1type' as a synonym of type is deprecated; in a future version of numpy, it will be understood as (type, (1,)) / '(1,)type'.\n",
            "  _np_qint8 = np.dtype([(\"qint8\", np.int8, 1)])\n",
            "/usr/local/lib/python3.6/dist-packages/tensorflow/python/framework/dtypes.py:517: FutureWarning: Passing (type, 1) or '1type' as a synonym of type is deprecated; in a future version of numpy, it will be understood as (type, (1,)) / '(1,)type'.\n",
            "  _np_quint8 = np.dtype([(\"quint8\", np.uint8, 1)])\n",
            "/usr/local/lib/python3.6/dist-packages/tensorflow/python/framework/dtypes.py:518: FutureWarning: Passing (type, 1) or '1type' as a synonym of type is deprecated; in a future version of numpy, it will be understood as (type, (1,)) / '(1,)type'.\n",
            "  _np_qint16 = np.dtype([(\"qint16\", np.int16, 1)])\n",
            "/usr/local/lib/python3.6/dist-packages/tensorflow/python/framework/dtypes.py:519: FutureWarning: Passing (type, 1) or '1type' as a synonym of type is deprecated; in a future version of numpy, it will be understood as (type, (1,)) / '(1,)type'.\n",
            "  _np_quint16 = np.dtype([(\"quint16\", np.uint16, 1)])\n",
            "/usr/local/lib/python3.6/dist-packages/tensorflow/python/framework/dtypes.py:520: FutureWarning: Passing (type, 1) or '1type' as a synonym of type is deprecated; in a future version of numpy, it will be understood as (type, (1,)) / '(1,)type'.\n",
            "  _np_qint32 = np.dtype([(\"qint32\", np.int32, 1)])\n",
            "/usr/local/lib/python3.6/dist-packages/tensorflow/python/framework/dtypes.py:525: FutureWarning: Passing (type, 1) or '1type' as a synonym of type is deprecated; in a future version of numpy, it will be understood as (type, (1,)) / '(1,)type'.\n",
            "  np_resource = np.dtype([(\"resource\", np.ubyte, 1)])\n",
            "/usr/local/lib/python3.6/dist-packages/tensorboard/compat/tensorflow_stub/dtypes.py:541: FutureWarning: Passing (type, 1) or '1type' as a synonym of type is deprecated; in a future version of numpy, it will be understood as (type, (1,)) / '(1,)type'.\n",
            "  _np_qint8 = np.dtype([(\"qint8\", np.int8, 1)])\n",
            "/usr/local/lib/python3.6/dist-packages/tensorboard/compat/tensorflow_stub/dtypes.py:542: FutureWarning: Passing (type, 1) or '1type' as a synonym of type is deprecated; in a future version of numpy, it will be understood as (type, (1,)) / '(1,)type'.\n",
            "  _np_quint8 = np.dtype([(\"quint8\", np.uint8, 1)])\n",
            "/usr/local/lib/python3.6/dist-packages/tensorboard/compat/tensorflow_stub/dtypes.py:543: FutureWarning: Passing (type, 1) or '1type' as a synonym of type is deprecated; in a future version of numpy, it will be understood as (type, (1,)) / '(1,)type'.\n",
            "  _np_qint16 = np.dtype([(\"qint16\", np.int16, 1)])\n",
            "/usr/local/lib/python3.6/dist-packages/tensorboard/compat/tensorflow_stub/dtypes.py:544: FutureWarning: Passing (type, 1) or '1type' as a synonym of type is deprecated; in a future version of numpy, it will be understood as (type, (1,)) / '(1,)type'.\n",
            "  _np_quint16 = np.dtype([(\"quint16\", np.uint16, 1)])\n",
            "/usr/local/lib/python3.6/dist-packages/tensorboard/compat/tensorflow_stub/dtypes.py:545: FutureWarning: Passing (type, 1) or '1type' as a synonym of type is deprecated; in a future version of numpy, it will be understood as (type, (1,)) / '(1,)type'.\n",
            "  _np_qint32 = np.dtype([(\"qint32\", np.int32, 1)])\n",
            "/usr/local/lib/python3.6/dist-packages/tensorboard/compat/tensorflow_stub/dtypes.py:550: FutureWarning: Passing (type, 1) or '1type' as a synonym of type is deprecated; in a future version of numpy, it will be understood as (type, (1,)) / '(1,)type'.\n",
            "  np_resource = np.dtype([(\"resource\", np.ubyte, 1)])\n"
          ],
          "name": "stderr"
        },
        {
          "output_type": "display_data",
          "data": {
            "text/html": [
              "<p style=\"color: red;\">\n",
              "The default version of TensorFlow in Colab will switch to TensorFlow 2.x on the 27th of March, 2020.<br>\n",
              "We recommend you <a href=\"https://www.tensorflow.org/guide/migrate\" target=\"_blank\">upgrade</a> now\n",
              "or ensure your notebook will continue to use TensorFlow 1.x via the <code>%tensorflow_version 1.x</code> magic:\n",
              "<a href=\"https://colab.research.google.com/notebooks/tensorflow_version.ipynb\" target=\"_blank\">more info</a>.</p>\n"
            ],
            "text/plain": [
              "<IPython.core.display.HTML object>"
            ]
          },
          "metadata": {
            "tags": []
          }
        }
      ]
    },
    {
      "cell_type": "code",
      "metadata": {
        "id": "dv0BJbFS-98t",
        "colab_type": "code",
        "colab": {
          "resources": {
            "http://localhost:8080/nbextensions/google.colab/files.js": {
              "data": "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",
              "ok": true,
              "headers": [
                [
                  "content-type",
                  "application/javascript"
                ]
              ],
              "status": 200,
              "status_text": ""
            }
          },
          "base_uri": "https://localhost:8080/",
          "height": 73
        },
        "outputId": "ad45a40b-7097-4643-90cb-a17fde0f0390"
      },
      "source": [
        "from google.colab import files\n",
        "uploaded = files.upload()"
      ],
      "execution_count": null,
      "outputs": [
        {
          "output_type": "display_data",
          "data": {
            "text/html": [
              "\n",
              "     <input type=\"file\" id=\"files-de403577-fc5e-4001-ada7-8e542db3afa4\" name=\"files[]\" multiple disabled />\n",
              "     <output id=\"result-de403577-fc5e-4001-ada7-8e542db3afa4\">\n",
              "      Upload widget is only available when the cell has been executed in the\n",
              "      current browser session. Please rerun this cell to enable.\n",
              "      </output>\n",
              "      <script src=\"/nbextensions/google.colab/files.js\"></script> "
            ],
            "text/plain": [
              "<IPython.core.display.HTML object>"
            ]
          },
          "metadata": {
            "tags": []
          }
        },
        {
          "output_type": "stream",
          "text": [
            "Saving NMT.xlsx to NMT (1).xlsx\n"
          ],
          "name": "stdout"
        }
      ]
    },
    {
      "cell_type": "code",
      "metadata": {
        "id": "z1wDs1k7_DiK",
        "colab_type": "code",
        "colab": {}
      },
      "source": [
        "import io\n",
        "data = io.BytesIO(uploaded['NMT.xlsx']) \n"
      ],
      "execution_count": null,
      "outputs": []
    },
    {
      "cell_type": "code",
      "metadata": {
        "id": "0FIY-8w-Vk0X",
        "colab_type": "code",
        "colab": {
          "base_uri": "https://localhost:8080/",
          "height": 197
        },
        "outputId": "debcea1f-bb79-43e1-f3a7-841910a79e2d"
      },
      "source": [
        "import pandas as pd   \n",
        "df = pd.read_excel(data)\n",
        "#df.sheet_names\n",
        "df.head()"
      ],
      "execution_count": null,
      "outputs": [
        {
          "output_type": "execute_result",
          "data": {
            "text/html": [
              "<div>\n",
              "<style scoped>\n",
              "    .dataframe tbody tr th:only-of-type {\n",
              "        vertical-align: middle;\n",
              "    }\n",
              "\n",
              "    .dataframe tbody tr th {\n",
              "        vertical-align: top;\n",
              "    }\n",
              "\n",
              "    .dataframe thead th {\n",
              "        text-align: right;\n",
              "    }\n",
              "</style>\n",
              "<table border=\"1\" class=\"dataframe\">\n",
              "  <thead>\n",
              "    <tr style=\"text-align: right;\">\n",
              "      <th></th>\n",
              "      <th>English</th>\n",
              "      <th>Bengali</th>\n",
              "    </tr>\n",
              "  </thead>\n",
              "  <tbody>\n",
              "    <tr>\n",
              "      <th>0</th>\n",
              "      <td>Like usual Eid-Festival was organized by diffe...</td>\n",
              "      <td>'এবারও দেশের বিভিন্ন টেলিভিশন চ্যানেলে ছিল ঈদ-...</td>\n",
              "    </tr>\n",
              "    <tr>\n",
              "      <th>1</th>\n",
              "      <td>Programs were telecasted for five days.</td>\n",
              "      <td>'পাঁচ দিন ধরে চলেছে অনুষ্ঠানমালা'</td>\n",
              "    </tr>\n",
              "    <tr>\n",
              "      <th>2</th>\n",
              "      <td>The special arrangement is made with those.</td>\n",
              "      <td>'সেগুলো নিয়েই এ বিশেষ আয়োজন'</td>\n",
              "    </tr>\n",
              "    <tr>\n",
              "      <th>3</th>\n",
              "      <td>And those programs had different names.</td>\n",
              "      <td>'আর সেসব অনুষ্ঠানের ছিল বাহারি নামও'</td>\n",
              "    </tr>\n",
              "    <tr>\n",
              "      <th>4</th>\n",
              "      <td>It broadcasted beyond the borders of the country.</td>\n",
              "      <td>'এর প্রচারের আওতা দেশের সীমানা পেরিয়ে বিদেশ পর...</td>\n",
              "    </tr>\n",
              "  </tbody>\n",
              "</table>\n",
              "</div>"
            ],
            "text/plain": [
              "                                             English                                            Bengali\n",
              "0  Like usual Eid-Festival was organized by diffe...  'এবারও দেশের বিভিন্ন টেলিভিশন চ্যানেলে ছিল ঈদ-...\n",
              "1            Programs were telecasted for five days.                  'পাঁচ দিন ধরে চলেছে অনুষ্ঠানমালা'\n",
              "2        The special arrangement is made with those.                       'সেগুলো নিয়েই এ বিশেষ আয়োজন'\n",
              "3            And those programs had different names.               'আর সেসব অনুষ্ঠানের ছিল বাহারি নামও'\n",
              "4  It broadcasted beyond the borders of the country.  'এর প্রচারের আওতা দেশের সীমানা পেরিয়ে বিদেশ পর..."
            ]
          },
          "metadata": {
            "tags": []
          },
          "execution_count": 5
        }
      ]
    },
    {
      "cell_type": "code",
      "metadata": {
        "id": "byhRkN1PVx_b",
        "colab_type": "code",
        "colab": {}
      },
      "source": [
        "df.English = df.English.apply(lambda x: str(x.lower()))\n",
        "df.Bengali = df.Bengali.apply(lambda x: str(x))\n",
        "exclude = set(string.punctuation)\n",
        "df.English = df.English.apply(lambda x: ''.join(ch for ch in x if ch not in exclude))\n",
        "df.Bengali = df.Bengali.apply(lambda x: ''.join(ch for ch in x if ch not in exclude))"
      ],
      "execution_count": null,
      "outputs": []
    },
    {
      "cell_type": "code",
      "metadata": {
        "id": "K22ZwAygXJZO",
        "colab_type": "code",
        "colab": {
          "base_uri": "https://localhost:8080/",
          "height": 347
        },
        "outputId": "19c9611f-a75c-467a-fa49-bdb9c11d6d1b"
      },
      "source": [
        "df.sample(10)"
      ],
      "execution_count": null,
      "outputs": [
        {
          "output_type": "execute_result",
          "data": {
            "text/html": [
              "<div>\n",
              "<style scoped>\n",
              "    .dataframe tbody tr th:only-of-type {\n",
              "        vertical-align: middle;\n",
              "    }\n",
              "\n",
              "    .dataframe tbody tr th {\n",
              "        vertical-align: top;\n",
              "    }\n",
              "\n",
              "    .dataframe thead th {\n",
              "        text-align: right;\n",
              "    }\n",
              "</style>\n",
              "<table border=\"1\" class=\"dataframe\">\n",
              "  <thead>\n",
              "    <tr style=\"text-align: right;\">\n",
              "      <th></th>\n",
              "      <th>English</th>\n",
              "      <th>Bengali</th>\n",
              "    </tr>\n",
              "  </thead>\n",
              "  <tbody>\n",
              "    <tr>\n",
              "      <th>1032</th>\n",
              "      <td>which thing is very much available in the mari...</td>\n",
              "      <td>৯ সামুদ্রিক মাছে কোনটি প্রচুর পরিমাণ পাওয়া যায়</td>\n",
              "    </tr>\n",
              "    <tr>\n",
              "      <th>78</th>\n",
              "      <td>17614 hours are spent only to telecast adverti...</td>\n",
              "      <td>এর মধ্যে ১৭৬১৪ ঘণ্টা ব্যয় হয়েছে শুধু বিজ্ঞাপন ...</td>\n",
              "    </tr>\n",
              "    <tr>\n",
              "      <th>799</th>\n",
              "      <td>sablu is the son of poor rickshaw driver prana...</td>\n",
              "      <td>সাবলু দরিদ্র রিকশাচালক প্রণব কান্তি নাথের ছেলে</td>\n",
              "    </tr>\n",
              "    <tr>\n",
              "      <th>1695</th>\n",
              "      <td>rice has been collected in accordance with the...</td>\n",
              "      <td>সরকারি নিয়মনীতি মেনেই চাল সংগ্রহ হয়েছে</td>\n",
              "    </tr>\n",
              "    <tr>\n",
              "      <th>994</th>\n",
              "      <td>‘answer food creates immune system in the body’</td>\n",
              "      <td>উত্তর খাদ্যই দেহের রোগ প্রতিরোধ ক্ষমতা গড়ে তোলে</td>\n",
              "    </tr>\n",
              "    <tr>\n",
              "      <th>893</th>\n",
              "      <td>but repeatedly they are to be frustrated</td>\n",
              "      <td>কিন্তু বারবারই তাদের হতাশ হতে হয়</td>\n",
              "    </tr>\n",
              "    <tr>\n",
              "      <th>303</th>\n",
              "      <td>tv channels embellished their programs with ra...</td>\n",
              "      <td>দেশের টিভি চ্যানেলগুলো ঈদে আনন্দের ডালি সাজিয়ে...</td>\n",
              "    </tr>\n",
              "    <tr>\n",
              "      <th>1637</th>\n",
              "      <td>his family is crowded with son daughter in law...</td>\n",
              "      <td>ছেলে ছেলের বউ নাতিনাতনিতে পরিপূর্ণ তাঁর সংসার</td>\n",
              "    </tr>\n",
              "    <tr>\n",
              "      <th>256</th>\n",
              "      <td>i was sitting with great hope to see humayun a...</td>\n",
              "      <td>বড় আশা নিয়ে বসেছিলাম হুমায়ূন আহমেদের নাটক দেখতে</td>\n",
              "    </tr>\n",
              "    <tr>\n",
              "      <th>1192</th>\n",
              "      <td>the strong circle has taken possession of the ...</td>\n",
              "      <td>সেই চরের দখল নিয়েছে শক্তিশালী চক্র</td>\n",
              "    </tr>\n",
              "  </tbody>\n",
              "</table>\n",
              "</div>"
            ],
            "text/plain": [
              "                                                English                                            Bengali\n",
              "1032  which thing is very much available in the mari...     ৯ সামুদ্রিক মাছে কোনটি প্রচুর পরিমাণ পাওয়া যায়\n",
              "78    17614 hours are spent only to telecast adverti...  এর মধ্যে ১৭৬১৪ ঘণ্টা ব্যয় হয়েছে শুধু বিজ্ঞাপন ...\n",
              "799   sablu is the son of poor rickshaw driver prana...     সাবলু দরিদ্র রিকশাচালক প্রণব কান্তি নাথের ছেলে\n",
              "1695  rice has been collected in accordance with the...             সরকারি নিয়মনীতি মেনেই চাল সংগ্রহ হয়েছে\n",
              "994     ‘answer food creates immune system in the body’    উত্তর খাদ্যই দেহের রোগ প্রতিরোধ ক্ষমতা গড়ে তোলে\n",
              "893            but repeatedly they are to be frustrated                   কিন্তু বারবারই তাদের হতাশ হতে হয়\n",
              "303   tv channels embellished their programs with ra...  দেশের টিভি চ্যানেলগুলো ঈদে আনন্দের ডালি সাজিয়ে...\n",
              "1637  his family is crowded with son daughter in law...      ছেলে ছেলের বউ নাতিনাতনিতে পরিপূর্ণ তাঁর সংসার\n",
              "256   i was sitting with great hope to see humayun a...    বড় আশা নিয়ে বসেছিলাম হুমায়ূন আহমেদের নাটক দেখতে\n",
              "1192  the strong circle has taken possession of the ...                 সেই চরের দখল নিয়েছে শক্তিশালী চক্র"
            ]
          },
          "metadata": {
            "tags": []
          },
          "execution_count": 9
        }
      ]
    },
    {
      "cell_type": "markdown",
      "metadata": {
        "id": "L-Vg_0TVsbgp",
        "colab_type": "text"
      },
      "source": [
        "#seq2seq\n",
        "\n"
      ]
    },
    {
      "cell_type": "code",
      "metadata": {
        "id": "gwahJ1uafCGX",
        "colab_type": "code",
        "colab": {
          "base_uri": "https://localhost:8080/",
          "height": 50
        },
        "outputId": "115a2ada-fee8-400c-f4ed-86934304ee86"
      },
      "source": [
        "import sys\n",
        "import os\n",
        "import pandas as pd\n",
        "import numpy as np\n",
        "\n",
        "from sklearn.model_selection import train_test_split\n",
        "\n",
        "import nltk\n",
        "nltk.download('punkt') # Uncomment if running from Google Colab\n",
        "from nltk.translate.bleu_score import corpus_bleu\n",
        "from keras.layers import Input, LSTM, Embedding, Dense\n",
        "from keras.models import Model"
      ],
      "execution_count": null,
      "outputs": [
        {
          "output_type": "stream",
          "text": [
            "[nltk_data] Downloading package punkt to /root/nltk_data...\n",
            "[nltk_data]   Package punkt is already up-to-date!\n"
          ],
          "name": "stdout"
        }
      ]
    },
    {
      "cell_type": "code",
      "metadata": {
        "id": "iPKkFP48f-64",
        "colab_type": "code",
        "colab": {}
      },
      "source": [
        "df.Bengali = df.Bengali.apply(lambda x : 'START_  '+ x + ' _END')"
      ],
      "execution_count": null,
      "outputs": []
    },
    {
      "cell_type": "code",
      "metadata": {
        "id": "hCPJd2SIVcEr",
        "colab_type": "code",
        "colab": {}
      },
      "source": [
        "input_texts = list()\n",
        "target_texts = list()\n",
        "input_characters = set()\n",
        "target_characters = set()"
      ],
      "execution_count": null,
      "outputs": []
    },
    {
      "cell_type": "code",
      "metadata": {
        "id": "HMF59RbHdhl-",
        "colab_type": "code",
        "colab": {}
      },
      "source": [
        "for i in df.English:\n",
        "  input_texts.append(str(i))\n",
        "for i in df.Bengali:\n",
        "  target_texts.append(str(i)) "
      ],
      "execution_count": null,
      "outputs": []
    },
    {
      "cell_type": "code",
      "metadata": {
        "id": "Qc8_usThfZVm",
        "colab_type": "code",
        "colab": {}
      },
      "source": [
        "\n",
        "# Source Vocabulary\n",
        "Source_vocabulary=set()\n",
        "source_length_list=[]\n",
        "for line in input_texts:\n",
        "    source_length_list.append(len(nltk.word_tokenize(line)))\n",
        "    for word in nltk.word_tokenize(line):\n",
        "        if word not in Source_vocabulary:\n",
        "            Source_vocabulary.add(word)\n",
        " \n",
        "\n",
        "# Target Vocabulary\n",
        "target_vocabulary=set()\n",
        "target_length_list=[]\n",
        "for line in target_texts:\n",
        "    target_length_list.append(len(nltk.word_tokenize(line)))\n",
        "    for word in nltk.word_tokenize(line):\n",
        "        if word not in target_vocabulary:\n",
        "            target_vocabulary.add(word)\n",
        "\n",
        "num_source_tokens = len(Source_vocabulary)\n",
        "num_target_tokens = len(target_vocabulary)\n",
        "\n",
        "max_source_seq_length = np.max(source_length_list)\n",
        "max_target_seq_length = np.max(target_length_list)"
      ],
      "execution_count": null,
      "outputs": []
    },
    {
      "cell_type": "code",
      "metadata": {
        "id": "w-A2iWeLflXp",
        "colab_type": "code",
        "colab": {}
      },
      "source": [
        "input_texts_train, input_texts_test, target_texts_train, target_texts_test = train_test_split(\n",
        "    input_texts,target_texts, test_size=0.20, random_state=42)"
      ],
      "execution_count": null,
      "outputs": []
    },
    {
      "cell_type": "code",
      "metadata": {
        "id": "7j74drfkgKmq",
        "colab_type": "code",
        "colab": {
          "base_uri": "https://localhost:8080/",
          "height": 153
        },
        "outputId": "f3d33fb6-c47f-4584-9a1f-5ae4e26d5c1e"
      },
      "source": [
        "print('Number of samples:', len(input_texts))\n",
        "print('Number of unique source language tokens:', num_source_tokens)\n",
        "print('Number of unique target language tokens:', num_target_tokens)\n",
        "print('Max sequence length of source language:', max_source_seq_length)\n",
        "print('Max sequence length of target language:', max_target_seq_length)\n",
        "print(\"Source Vocabulary\",Source_vocabulary)\n",
        "print(\"Target Vocabulary\",target_vocabulary)"
      ],
      "execution_count": null,
      "outputs": [
        {
          "output_type": "stream",
          "text": [
            "Number of samples: 1781\n",
            "Number of unique source language tokens: 4024\n",
            "Number of unique target language tokens: 5171\n",
            "Max sequence length of source language: 21\n",
            "Max sequence length of target language: 25\n",
            "Source Vocabulary {'universities', 'suit', 'declare', 'islamic', 'devoted', 'perosn', 'fairly', 'power', 'double', 'quickly', 'question', 'rais', 'rainit', 'students', 'love', 'purchase', 'injured', 'jessore', 'obeyed', 'creating', 'businessman', 'das', 'carried', 'canceled', 'talking', 'enthusiasm', 'sands', 'welcomed', 'esho', 'waste', 'elements', 'shatkania', 'ointment', 'mehendi', 'maryam', 'lavlu', 'zillurs', 'accept', 'excellency', 'charity', 'toward', 'listen', 'build', 'fund', 'megawatt', 'independence', 'shares', 'statement', 'leaders', 'features', 'sun', 'nirob', 'innings', 'british', 'threatens', 'zone', 'puller', 'explained', 'consideration', 'still', 'mejbaur', 'why', 'momentum', 'kashmirs', 'sorrows', 'swimming', 'mushfiqur', 'contemporary', 'fraud', 'dunn', 'teacher', 'following', 'meanwhile', 'elections', 'associated', 'against', 'wahiduzzaman', 'ward', 'serial', 'laptops', 'sent', 'awakened', 'asia', 'registry', 'inhuman', 'horror', 'limit', 'karz', 'fight', 'dominica', 'grandson', 'moveableimmovable', 'ignorance', 'chairman', 'whip', 'choosing', 'enthusiastically', 'abujh', 'jay', 'notebook', 'ran', 'appointed', 'per', 'himthe', 'yadav', 'remote', 'claimant', 'picture', 'speech', 'proceed', 'believe', 'classical', '1105', 'story', 'excellent', 'jude', '2nd', 'badarkhali', 'foods', 'fewer', 'nonviolent', 'bunk', 'games', 'consolation', 'nalinikant', 'plots', 'chattagram', 'highest', 'column', 'as', 'patiencethis', 'jumped', 'transportation', 'hearing', 'gadhanagor', 'ahmmed', 'wait', 'dignity', '30th', 'traded', 'understanding', 'hasinas', 'africa', 'rare', 'surovie', 'computer', 'modern', 'tried', 'finding', 'panchayet', 'because', 'sheet', 'academy', 'according', 'september', 'nalitabari', 'mahathero', '23', 'pop', 'face', 'monir', 'leader', 'terms', 'clotting', 'dhinnesh', 'before', 'ride', 'manpower', 'mara', 'abm', 'ara', 'akshay', 'warning', 'expecting', 'samrat', 'muslim', 'united', 'song', 'slr', 'abhaynagar', 'panamnagar', 'add', 'centurion', 'judge', 'empire', 'actually', 'x', '17614', 'phone', 'england', 'india', '199', 'objection', 'doubt', 'stays', 'city', 'product', 'misery', 'proper', 'resources', 'led', 'babu', 'lost', 'handle', 'ancient', 'afsarul', 'calculation', 'anandamela', 'album', 'successively', 'live', '100', 'worship', 'fan', 'started', 'rumi', 'situation', 'forgotten', 'workshops', 'agency', 'guard', 'milon', 'communication', 'net', 'pajama', '2013', 'tool', 'university', 'definitely', 'cinema', 'people', 'mud', 'appreciate', 'avoided', 'conducted', 'happen', 'returned', 'star14', 'mad', 'kondia', 'twinkle', 'ramdashat', 'planning', 'offers', 'bangladeshi', 'object', 'fascinated', 'home', 'demanded', 'desh', 'wasa', 'ensure', 'hopes', 'seawater', 'ap', 'evident', 'awareness', 'wwwdigitalbagerhatorg', 'spends', 'arising', 'complains', 'hemonto', 'daruchini', 'meantime', 'dissent', 'touching', 'dairy', 'money', 'womens', 'uddin', 'wasted', 'shahadat', 'harrdy', 'down', 'answered', 'wishing', 'provider', 'start', 'understands', 'adjoining', 'ate', 'esha', 'rokeya', 'boats', 'nice', 'collection', 'capasiaa', 'adrita', 'i', 'yeh', 'lots', 'rivals', 'aren', 'sand', 'show', 'muslims', 'treaty', 'drug', '‘', 'site', 'iceland', 'discussing', 'monday', 'recovery', 'tortured', 'galm', 'eyes', 'fourmonths', 'row', 'particular', 'strong', 'ghar', 'whole', 'coil', 'taught', 'kidszone', 'coela', 'favor', 'participated', 'kashmir', 'engaged', 'amisha', 'addiction', 'heroin', 'felt', 'properly', 'camp', 'cock', 'trophy', 'ensurity', 'labor', 'suspected', 'fighting', 'protect', 'grow', 'birthday', 'shahjahan', 'argue', 'disrespectful', 'initiated', 'testimony', 'narayanganj', 'conflicted', 'ideal', 'great', 'environment', 'translation', 'moment', 'expected', 'bit', 'tornado', 'bodies', 'theatre', 'models', 'pen', 'growth', 'turning', 'consummate', 'pulak', 'dompara', 'nonmalignant', 'risk', 'chondipur', 'chokher', 'fantastic', 'letters', 'tasteless', 'follower', 'moments', 'scenes', 'conjuming', 'counsel', 'attack', 'crores', 'contrarily', 'probable', 'laage', 'anything', 'hassans', 'sources', 'victory', 'ipo', 'feeling', 'children', 'three', 'divided', 'liters', 'alternative', 'pranab', 'pona', 'didnt', 'mohommad', 'bogus', 'groupinglobbying', 'brilliant', 'status', 'lifetime', 'lashkaretaiba', 'mount', 'content', 'haoyar', 'ah', 'physics', 'andro', 'bhattashali', 'ei', 'detached', 'studying', 'villages', 'technology', 'champion', 'background', 'fee', 'pakistan', 'chinese', 'lawsuits', 'version', 'pagla', 'mohan', 'grammatically', 'guild', 'khiladi', 'organizer', 'mak', 'maubadi', 'completeness', 'sangsar', 'bear', 'just', 'filling', 'pull', 'seems', 'due', 'southwestern', 'dirt', 'singers', 'singings', 'hathazari', 'kochiya', 'description', 'manila', 'least', 'announces', 'shows', 'kingdom', 'informed', 'u', 'happened', 'disease', 'roofs', 'there', 'soldiers', 'ansar', 'shontan', 'vain', 'convulsion', 'seas', 'thanks', 'language', 'prayed', 'hid', 'road', 'next', 'mirpur', 'generation', 'newspaper', 'advertisement', 'crippled', 'acclimatize', 'admitted', 'james', 'periodically', 'oil', 'showing', 'ajay', 'similarly', 'alone', 'entire', 'ruling', 'period', 'import', 'nurse', 'aros', 'bazal', 'graduation', 'upajela', 'devdas', 'become', 'ccf', 'ego', 'discussion', 'blooming', 'finished', 'brickbats', 'fearing', 'somehow', 'laughed', 'fans', 'baper', 'eid', 'sold', 'survie', 'nisbutt', 'fun', 'masum', 'nowshin', 'patriotism', 'duty', 'example', 'mother', 'him', 'hours', 'safe', 'ordinary', 'followed', 'soft', 'possible', 'riaz', 'utilization', 'seem', 'end', 'valley', 'set', 'rajshahi', 'kept', 'alright', 'jara', 'differently', 'semifinal', 'subdistrict', '1140', 'colleges', 'sweet', 'september2009', 'goat', 'will', 'robert', 'work', 'letter', 'reached', 'ministers', 'protest', 'abolish', 'zonal', 'akash', 'military', 'looked', 'beautiful', 'organizations', 'laal', 'works', 'sub', 'assistance', 'unlocked', 'required', 'between', 'favorite', 'couples', 'subject', 'rock', 'incidents', 'rules', 'anchored', 'lose', 'shampatti', 'milanayatan', 'myanmar', 'guy', 'head', 'ibrahim', 'beds', 'disturbed', 'mahindra', 'hit', 'instruments', 'named', 'peonage', 'means', 'maheshkhali', '01715241720', 'knew', 'aesthetic', 'vadontro', 'rendered', 'thought', 'year', 'huge', 'talks', 'factories', 'rangunia', 'collaboration', 'aspect', 'watching', 'murder', 'ent', 'kaif', 'vague', 'continues', 'step', 'darkest', 'bondhusova', '4th', 'creates', 'extortion', 'painting', 'negative', 'somthing', 'padma', 'suspect', 'east', 'wake', 'torch', 'riot', 'systemwe', 'lata', 'nurjahan', 'hospital', 'obscene', 'false', 'acquisition', 'tenders', 'block', 'pusan', 'sharp', 'judd', 'confirmed', 'went', 'name', 'movie', 'district', '830', 'thirsty', 'destroy', 'them', 'improve', 'azad', 'produced', 'ourselves', 'urged', 'fair', 'claimed', 'repair', 'upon', 'accent', 'kind', 'class', 'documents', 'prepared', 'compalaint', 'nath', 'joyag', 'kader', 'banglavision', 'arms', 'selected', 'william', 'verdict', 'clothes', 'khannasir', 'glasses', 'tangle', 'advertisements', 'position', 'lac', 'stood', 'break', 'saw', 'survey', 'bengal', 'afraid', 'avoid', 'ahmeds', 'sell', 'obsessed', 'wildfire', 'bcc', 'banu', '60', 'khandivya', 'dressup', 'occassion', 'kamal', 'permanent', 'night', 'hurt', 'odit', 'knocking', 'womans', 'makeup', 'ekla', 'sorrow', 'revised', 'suddenly', 'fully', 'prothomalo', '6135', 'decision', 'e', 'sampanwala', 'blessing', 'aktari', 'won', 'granary', 'religion', 'childrens', 'supporters', 'speakers', 'motorcycle', 'rafiq', 'ashley', 'wanted', 'crisis', 'hisher', 'momo', 'sirazuddoula', 'store', 'recite', '30', 'hasn', 'mahmud', 'upzilla', 'check', 'timeless', 'raj', 'sa', 'actress', 'continuing', 'companys', 'storey', 'turag', 'treatment', 'tomarh', 'jacklepos', 'fundamentally', 'villagers', 'raided', 'of', 'alamgir', 'garv', 'having', 'doors', 'context', 'claims', 'humorous', 'andora', 'constipation', 'accepts', 'bring', 'workshop', 'waiting', 'support', 'public', 'informs', 'mustafa', 'kong', 'spread', 'voice', 'educative', 'eye', 'choose', 'managed', 'late', 'alomgir', 'throughout', 'free', 'sunshine', 'ferdous', '4922', 'twelve', 'laid', 'created', 'ash', 'mohibul', 'land', 'morning', 'creations', '505', 'rattling', 'daughter', 'continue', 'dhoni', 'effective', 'quasidisease', 'rtv', 'choppers', 'not', 'embarrassed', 'hundreds', 'anik', 'want', 'wall', 'reality', 'gorokghata', 'continuously', 'couldn', 'contestants', 'vehicles', 'teeth', 'icl', 'constantly', 'corrected', '56', 'stumbles', 'compassion', 'everyone', 'bengali', 'etv', 'finalization', '…don', 'pass', 'ratio', 'audacity', 'our', 'bacchan', 'section', 'tvmagazine', 'died', 'broom', 'tanima', 'six', 'overcome', 'watson', 'rule', '192928', '123000', 'basicity', 'houses', 'koler', 'give', 'thirteen', '12', 'fare', 'trouble', 'mahmood', 'mohara', 'democracy', 'oldest', 'by', 'lands', 'friends', 'shanbag', 'west', 'nandit', 'casts', 'golam', 'repeatedly', 'mila', 'played', 'shon', 'moving', 'tazin', 'established', 'countless', 'subrana', 'fiction', 'dhomktu', 'severe', 'linux', 'problematic', 'calcium', 'platform', 'accompanied', 'something', 'schools', 'second', 'resolved', 'disable', 'at', 'parallel', 'board', 'recession', 'poemsrhymematching', 'handy', 'kone', 'puri', 'variations', 'communicated', 'teenagers', 'networking', 'fatekharkul', 'control', 'schedule', '106', 'providing', 'ministry', 'reservoir', 'same', 'ramu', '1982', 'reconciliation', 'tree', 'phosphorus', 'southwest', 'game', 'we', 'form', 'motijhil', 'fifty', 'devgn', 'massacre', 'chonamia', 'enjoying', 'food', 'ramganj', 'mewho', 'rotation', 'health', 'awami', 'recently', 'stick', 'bunks', 'notification', 'shah', 'akmal', 'abdur', '26', 'debate', '5', 'majhe', 'mayjune', 'nutritious', 'fled', 'speak', 'reasonable', 'locality', 'helper', 'conspicuous', 'hemalota', 'chowdhury', 'social', 'gentlemen', 'contribution', 'fhilip', 'ray', 'revelation', 'basis', 'coastguard', 'salt', 'wash', 'doubted', 'departed', 'mass', 'indies', 'failed', 'unit', 'crosses', 'reasonably', 'liotta', 'ct', 'sabotage', 'trained', 'red', 'fire', 'artist', '35', 'medical', 'media', 'srabanti', 'voiced', 'subsidies', 'awlad', 'masud', 'vrindaban', 'australia', 'rukh', 'ziaul', 'oldage', 'killed', 'preparations', 'thank', 'wisdom', 'shawon', 'nazruls', 'characters', 'mercurial', 'metaphorical', 'senior', 'gasbased', 'premier', 'procession', 'feel', 'open', 'auditorium', 'cd', 'faruki', 'anis', 'countries', 'pulling', 'flag', 'forced', 'metropolitan', 'president', 'educate', 'had', 'yours', 'education', 'benefit', 'qualified', 'beg', 'surgeon', 'maubadis', 'his', 'reporters', 'psychological', 'spoken', 'urge', 'targets', 'mumbai', 'seemed', 'ontorikkho', 'force', 'probal', 'generosity', 'level', 'conditions', 'maharashtra', 'sixteen', 'khatun', 'guide', 'electromagnetic', 'newold', 'foreign', 'nurtured', 'hardinge', 'bridge', 'up', 'proved', 'price', 'complaint', 'petrobangla', 'learn', '1868', 'prevails', '2868', 'boys', 'occur', 'puppets', 'deposit', 'involved', 'leisure', 'mouth', 'place', 'engine', 'travel', 'mp', 'looking', 'largely', 'subjects', 'nominated', 'hatred', 'us', 'prince', 'labourer', 'increased', 'eliminate', 'syed', '5th', 'teaching', 'root', 'hamid', 'noon', 'worker', 'screen', 'stunned', 'districts', 'valo', 'honorable', 'posts', 'albums', 'sidor', 'bull', 'rumana', 'nova', 'seven', 'human', 'cement', 'performers', 'debesh', 'unexplained', 'euphorias', 'june2009', 'benifit', 'study', 'post', 'security', 'presenter', 'rice', 'capacity', 'alarmingly', '2009', 'capital', 'away', 'embellished', 'fathers', 'shown', 'ak47', 'married', 'kumar', 'hindi', 'your', 'cautious', 'receive', 'nonviolence', 'enmity', 'dakha', 'imported', 'relative', 'install', 'satkania', 'presenters', 'roles', 'raise', 'ended', 'sometime', 'artificial', 'shahriar', 'simulation', 'detailed', 'came', 'daribari', 'agricultural', 'prefer', 'further', 'bangladesh', 'director', 'mattresses', 'desperate', 'chakraborty', 'escaped', 'marketed', 'hands', 'company', 'agent', 'jobs', 'stock', 'mola', 'tears', 'bangmoyi', 'screenwriter', 'have', 'pool', 'residence', 'manowar', 'think', 'm', 'kamrul', 'giving', 'sohrab', 'shovon', 'katrina', 'hema', 'huts', 'thirdly', 'chartered', '1110', '10', 'constitution', 'presentation', 'arrogant', 'suffers', 'executed', '700', 'monastery', 'briddhasram', 'deal', 'cause', 'deepika', 'implementing', 'miar', 'short', 'half', 'is', 'far', 'bangabandhu', 'burnt', 'leadersactivists', '20', 'senate', 'bagerhat', 'baburam', 'organ', 'wish', 'department', 'industries', 'chest', 'nothing', 'reduce', 'opened', 'affecting', 'powder', 'incessant', 'ceremonies', 'village', 'fugitive', 'sense', '414', 'policymaker', 'circulation', 'canorous', 'cant', 'arabic', 'nepal', 'submitted', 'dawn', 'contact', 'ruler', 'behalf', 'wrong', 'sharing', 'fdc', 'fotepurmekhol', 'seeing', 'impossible', 'marathi', 'royal', 'relation', 'positive', 'optimistic', 'otherwisei', 'borders', 'phones', 'sequence', 'much', 'ohida', 'sentence', 'hafizur', 'heat', 'training', 'heavy', 'states', 'though', 'practice', 'movements', 'band', 'razzak', 'since', 'ntv', 'marine', 'recitation', 'so', 'total', 'wit', 'drink', 'remained', 'mukutnight', 'illness', 'hiccups', 'carmic', 'annul', 'chakaria', 'curved', 'armed', 'understood', 'navigability', 'each', 'vitamins', 'kaka', 'elsewhere', 'procedure', 'persons', 'clashed', 'clarity', 'again', 'enters', 'now', '800', 'accepted', 'child', 'bharti', 'tensed', 'financial', 'vision', 'except', 'gari', 'types', '1st', 'jaishtha', 'nation', 'solving', 'actoralso', 'liquor', 'back', 'bangles', 'passing', 'songs', 'notice', 'license', 'spent', '1525', 'lotus', 'actors', 'nepals', 'last', 'high', 'tittle', 'rises', 'taller', 'blind', 'firmly', 'leads', 'kaisa', '1200pm', 'scene', 'immune', 'highlight', 'matching', 'suborans', 'charge', 'considered', 'reason', 'cng', 'dancing', 'nazrul', 'share', 'shame', 'tubewell', 'shanti', 'strike', 'curs', 'evacuation', 'volume', 'closely', 'gan', 'wishes', '1314', 'listening', 'waterways', 'men', 'pronouncing', 'every', 'colored', 'films', 'collecting', 'calling', 'identify', 'ingratiating', 'sake', 'bajan', '2189', 'saidits', 'travis', 'reign', 'ears', 'tension', 'physically', 'habib', 'too', 'screwed', 'peoples', 'ghat', 'jbl', 'collected', 'sad', 'subarna', 'kanto', 'posture', 'labour', 'charged', 'league', 'pacific', 'arriving', 'unpleasant', 'balo', 'aynababa', 'advocacy', 'reunion', 'ball', 'conquered', 'khokon', 'hayat', 'sarwar', 'corners', 'raozan', 'rounded', 'blanchard', 'ami', 'called', 'comment', 'fish', 'behave', 'dancer', 'mukherh', 'reproductivehealth', 'factor', '33', 'sallal', 'failure', 'arefin', 'suman', 'looks', '1thousand', 'shiraz', '41', 'announcer', 'sticks', 'clerk', 'twice', 'sanyal', 'nipa', 'appreciable', 'souls', 'college', '©', 'hint', 'ghur', 'use', 'motives', 'given', 'passenger', 'dance', 'lets', 'size', '7', 'beam', 'my', 'useless', 'opening', 'orosh', 'hira', 'clubbing', 'keep', 'laser', 'society', 'scary', 'someday', 'topic', 'ganchil', 'doctor', 'needs', 'castle', 'accidents', 'fruit', 'mandap', 'does', 'againwill', 'foster', 'ghuddi', 'shakibmashrafi', 'carrying', 'draft', 'press', 'abids', 'moms', 'btn', 'extent', 'sheikh', 'brothers', 'restless', 'tech', 'dollor', 'coach', 'kayarh', 'know', 'indolent', 'deepak', 'harrison', 'important', 'baby', 'lichtenstein', 'fictional', 'october', 'anand', 'itihas', 'presenting', 'craftsman', 'roquib', 'chaired', 'fulfill', 'events', 'playing', 'nine', 'kids', 'source', 'aired', 'tell', 'happens', 'rimzheem', 'fusion', 'rebellion', 'selim', 'mohamedan', 'shipan', 'emotion', 'appearance', 'added', 'thathya', 'words', 'youngsters', 'read', 'promising', 'registered', 'obesity', 'yet', 'kulkarni', 'ecstasy', 'current', 'bedao', 'shilpa', 'fatehabad', 'ramification', 'begins', 'amader', 'working', 'announced', 'xavier', 'entered', 'instead', 'residential', 'ujjal', '297', 'badly', '”', 'hijack', 'remain', 'quarreling', 'natyamata', 'sings', 'languages', 'marrage', 'without', 'spoke', 'test', 'theater', 'unknown', 'rulers', 'curtains', 'principal', 'issue', 'local', 'ownersplease', 'karim', 'praised', 'carpets', 'autarchy', 'convocation', 'usa', 'shop', 'exemplary', 'channels', 'favourite', 'present', 'munshi', 'builds', 'rasiklal', 'proven', 'richi', 'attend', 'feet', 'gardiola', 'obey', 'type', '163000', 'opportunity', 'discuss', 'tisma', 'manage', 'excitement', 'alauddin', 't', 'saint', 'other', 'challenge', 'thiefs', 'heard', 'meetings', 'learned', 'hati', 'accuse', '2003', 'civil', 'january', 'rhythm', 'paid', 'warrior', 'lyrics', 'overcoming', 'shwapon', 'raised', 'fastest', 'its', 'nearly', 'boycotting', 'korea', 'from', 'kiln', 'karthik', 'founder', 'task', 'lazy', 'rainy', 'detained', 'invested', 'wonderful', 'mix', 'prime', 'only', 'paying', 'where', 'chairmanship', 'shipping', 'izzat', 'expectation', 'devotion', 'cross', 'estimated', 'few', 'bir', 'chandra', 'patrons', 'police', '21th', 'urgent', 'match', 'issued', 'math', 'poor', 'formed', '80th', '8', 'stern', 'apathy', 'comments', 'struggled', 'am', 'confess', 'tied', 'let', 'condition', 'meeting', 'na', 'ability', 'history', 'audition', 'muhammad', 'harmony', 'young', 'accordance', '22', 'command', 'base', 'apologized', 'mofazzal', 'changes', 'including', 'length', 'comes', 'middle', 'known', 'promo', 'midnight', 'tempo', 'maya', 'cup', 'culture', 'steps', 'secret', 'sumangal', 'major', 'typesalive', 'sides', 'storyline', 'done', 'innovative', 'garden', 'surprises', 'welcome', 'scandal', 'bollywood', 'romantic', 'engineer', 'masood', 'violence', 'initiative', 'diversity', 'lynks', 'broken', 'drama', 'depth', 'enter', 'phrase', 'saiful', 'mathematics', 'respected', 'lights', 'nei', 'view', 'similarities', 'thinking', 'patience', 'executive', '1909', 'former', 'artists', 'option', 'httpswikiubuntucomdevelopmentcodenames', 'joy', 'around', 'sunil', 'amer', 'million', 'selfdepended', 'this', 'torture', 'knowing', 'became', 'arundhati', 'cancelled', 'culprit', 'living', 'vegetable', 'wow', 'dreams', 'results', 'chakrabarty', 'her', 'unity', 'produce', 'victim', 'malini', 'tora', 'brother', 'cooperation', 'bone', 'didn', 'held', 'industry', 'uncooked', 'deployed', 'activists', 'watch', 'need', 'banner', 'saving', 'pubali', 'body', 'sack', 'considering', 'closedtone', 'ontohin', 'jointly', 'akram', 'seats', 'search', 'unique', 'unforgivable', 'saha', 'simply', 'official', 'ritually', 'however', 'speaks', 'doctors', 'makes', 'responsibilities', 'teams', 'request', 'whether', 'randy', 'leadership', 'previous', 'ethically', 'tk', 'rights', 'dialogs', 'seek', 'resolve', 'conflict', 'salman', 'pond', 'park', 'selfsacrificing', 'fortune', 'loadsheding', 'screenplay', 'chittagong', 'informations', 'broadcast', 'dreamed', 'deep', 'jam', 'spears', 'listened', 'woe', 'fix', 'metropolis', 'sound', 'cougar', '330', 'brings', 'sex', 'tuesday', 'brand', 'needed', 'powers', 'candidate', 'deposited', 'pantha', 'indigenous', 'humyon', 'traffic', 'little', 'embankment', 'photography', 'visitors', 'khola', 'lomboripara', 'own', 'editorial', '21', 'indias', 'ganraj', 'like', 'possibility', 'conscious', 'compromise', 'jalil', 'towards', 'light', 'pressure', 'candidates', 'strengthening', 'himself', 'nonacceptance', 'excessive', 'dip', 'striking', 'isn', 'funding', 'which', 'eleven', 'ocean', 'conduct', 'exposed', 'annoyance', 'difficult', 't20', 'patient', 'glass', 'foteyabad', 'torturing', 'released', 'clock', 'actor', 'passionately', 'illegal', 'shashon', 'padukone', 'regard', 'recommendations', 'gathered', '12pm', 'currently', '227', 'locations', 'equally', 'selfwritten', 'accepting', 'memories', 'already', 'nye', 'leaving', 'amin', 'ironc', 'mine', 'physiology', 'boyfriend', 'blood', 'nobab', 'sanjay', 'ruthless', 'raho', 'arranged', 'provincial', 'tv', '430', 'brusts', 'c', 'herself', 'wont', 'asked', 'economist', 'shortage', 'baily', 'owner', 'twenty', 'traditional', 'first', 'creek', 'implemented', 'haron', 'fulfillment', 'upcoming', 'wants', 'joyagath', 'beauty', 'distance', 'barcelona', 'earning', '3', 'gandhiji', 'wwwforumnokiacom', 'minimize', 'save', '638', 'day', 'bijori', 'abroad', 'numerical', 'fixed', 'boundaries', 'office', 'methods', 'singer', 'decreases', 'chander', 'literature', 'ataur', '48', 'acoustic', 'tests', 'rape', '1819', 'hammam', 'course', 'sultana', 'composed', 'appliance', 'worked', 'exicited', 'pinde', 'ratan', 'shatru', 'secretive', 'haq', 'jahangir', 'comparison', 'tunes', 'independent', 'sonargaon', 'event', 'impatient', 'dreaming', 'field', 'ifc', 'majority', 'pm', 'time', 'area', 'southwales', 'telecast', 'magazine', 'amitabh', 'divorce', 'saying', 'commission', 'enjoyed', 'complications', 'im', 'car', 'ligduno', 'evicted', 'low', 'owners', 'measurement', 'idol', 'mostly', 'teachers', 'jonne', 'significance', 'stages', 'experience', 'mainly', 'took', 'begum', 'universe', 'dhuti', 'space', 'applicable', 'jaya', 'mungeshkar', 'shamim', 'member', 'khanna', 'into', 'ends', 'gender', 'slide', 'complex', 'ganchils', 'caretaker', 'economy', 'eidfestival', 'solution', 'praise', 'evidence', 'calls', 'talked', 'communal', 'bnp', 'ailana', 'prematurely', 'stuck', 'protein', 'moon', 'hasanehsan', 'iqbal', 'jungurdi', 'rally', 'serve', 'anuradha', 'kaderi', 'traders', 'officers', 'date', 'solved', 'usual', 'jonty', 'cubic', '745', 'runa', 'teller', 'haider', 'varat', 'nolini', 'the', 'sajjad', 'mobiles', 'thrown', 'best', 'wear', 'occasion', 'go', 'totally', 'do', 'fear', 'radhanagar', 'speed', 'ahmed', 'business', 'beside', 'daily', 'season', 'sheban', 'true', '29', 'existence', 'shonbag', 'been', 'kalimuddin', 'painful', 'milan', 'hire', 'recommended', 'sodium', 'location', 'gate', 'mahfuz', 'custody', 'writers', 'entrust', 'kamran', 'voters', 'od', 'rahim', 'super', '300', 'awarded', 'bangla', 'happy', 'says', 'women', 'rambharan', 'tucker', 'putting', 'miakamrul', 'keeping', 'bhuiya', 'wrote', 'vase', 'exceptions', 'doing', 'hakim', 'restraint', 'quit', 'mondol', 'kanti', 'trials', 'property', 'response', 'mela', 'affected', 'hopeful', '230', 'surpassing', 'holes', 'milk', 'simultaneously', 'teknaf', 'meson', 'sushmita', 'promise', 'near', 'sampan', 'parts', 'hoiya', 'eating', 'tarashankar', 'regulatory', 'btv', '1936', 'greencalm', 'allegations', 'residents', 'exebution', 'quality', '400', 'atiqs', 'chattopadhyay', 'coming', '15', 'outpost', 'decorated', 'toughened', 'wasim', 'protested', 'porabondor', 'and', 'discovery', 'celebrity', 'incedent', 'hanging', '65', 'through', 'sadiya', 'riots', 'heritage', 'unimaginable', 'acted', 'skills', 'cleaned', 'torched', 'way', 'dhela', 'congress', 'beginning', 'numerous', 'passed', 'delwar', 'philosophy', 'group', 'gas', 'haque', 'then', 'questioning', 'listener', 'single', 'translated', 'speaker', 'faruk', 'impertinence', '20201130', 'rap', 'move', 'depends', 'movies', 'profitable', 'shouting', 'purnima', 'flower', 'gone', 'battery', 'ahosan', 'project', 'communist', 'careful', 'using', 'left', 'easily', 'machinationhe', 'trying', 'were', 'student', 'shops', 'interest', 'footballer', 'direction', 'tolerate', 'fell', 'losing', 'fourth', 'format', 'shilpakala', 'regularly', 'patelbobby', 'biplob', 'tumor', 'bapu', 'wearing', 'interruption', 'america', 'knows', 'incorrect', 'marry', 'sang', 'mid', 'judgment', '2061', 'successful', 'quotient', 'desire', 'cs', 'bishash', 'fray', 'thousand', 'singing', 'closed', 'vinod', 'walk', 'emotional', 'complements', 'out', 'multistorey', 'nagging', '28', 'recovered', 'phono', 'monarchy', 'colonialist', 'nature', 'times', 'voices', '900', 'crushed', 'transferred', 'shivas', 'ending', 'borther', 'provided', 'get', 'relationship', 'mile', 'finalized', 'families', 'raped', 'swapan', 'operation', 'sung', 'brindaban', 'below', 'rab', 'pal', 'vessel', 'thake', 'advertising', 'dse', 'bolo', 'always', 'identity', 'regular', 'auto', 'fostered', 'driven', 'poem', 'solok', 'apu', 'policy', 'fallen', 'bank', 'obedient', 'return', 'are', 'bow', 'secure', 'quarrel', 'settle', 'stories', '2887', 'agitations', 'validity', 'writing', 'elusive', 'large', 'watched', 'rabindranath', 'asking', '1942', 'fishery', 'shepherd', 'boy', 'biggest', 'camera', 'shahed', 'footprint', 'overwhelmed', 'deol', 'bashar', 'mahadi', 'wellliked', 'elo', 'besides', 'wrongly', 'preferred', 'friday', 'temporary', 'obstacles', 'balochistan', 'me', 'realised', 'unstable', 'grabbing', 'semester', 'stay', 'limited', 'products', 'case', 'silvana', 'bada', 'members', 'howeverthe', 'you', 'ruled', 'would', 'seikh', 'brush', 'man', 'olympiad', 'community', 'such', 'km', 'directed', 'side', 'corporation', 'partho', 'shakespeare', 'it', 'satyanarayana', 'expenses', 'formal', 'istanbul', 'past', 'building', 'pankaj', 'prachandas', 'programs', 'lakh', '1997', 'skin', 'maybe', 'yesterday', 'channel', 'published', 'minister', 'any', 'tvs', 'vs', 'debendranayana', 'increase', 'starred', 'remember', 'moreover', 'dramas', 'lalon', 'moushumi', '1200', 'captured', 'assembled', 'crossing', 'concerts', '1893', 'champions', 'very', 'delegates', 'correct', 'post11minute', 'propose', 'tone', 'bipasha', 'republic', 'floor', 'votes', 'indian', 'assistant', 'gives', 'war', 'here', 'chant', 'saberi', 'based', 'mahbubul', 'singersactors', 'explanation', 'aaa', 'highly', 'category', 'maintained', 'inside', 'strata', 'mean', 'keya', 'mahatma', 'apurbo', 'ji', 'arrangements', 'influence', 'pleasure', 'harold', 'fatherthe', 'extreme', 'khushir', 'long', 'grameenphone', 'robbers', 'recommendation', 'these', 'sister', 'uttam', 'alter', 'northern', 'babarh', 'questions', 'supliment', 'deewana', 'anthem', 'freedom', 'king', 'don', 'kiribati', 'did', 'eligible', 'yeras', 'municipal', 'liter', 'includes', 'kirtonkhola', 'commissioner', 'football', 'refinery', 'incomplete', 'telling', 'on', 'char', 'promised', 'cressida', 'ahmad', 'naval', 'ranbir', 'formulate', 'pretoria', 'deher', 'likes', 'son', 'toilets', 'report', 'asutush', 'foundation', 'found', 'tomar', 'their', 'jitendra', 'separeted', 'counter', '601member', 'anywhere', 'releasing', 'all', 'natok', 'naming', 'attacking', 'remaining', 'personality', 'pistol', 'television', 'gandhis', 'lynk', 'durchori', 'chokhe', 'complain', 'relief', 'scarcity', 'rana', 'oldmen', 'mawla', 'minutes', 'slogan', 'entertaining', 'horizon', 'sabse', 'beyond', 'infrastructural', '55', 'missing', 'otc', 'council', 'harrased', 'islam', 'sorroundings', 'has', 'remarkable', 'bolded', 'injection', 'outsource', 'excuses', 'weak', 'carry', '2', 'wouldnt', 'khashnagar', 'exchange', 'also', 'page', 'renowned', 'alokito', 'dialogue', 'weavers', 'army', 'abul', 'mollik', 'fbcci', 'lead', 'kutubuddin', 'diego', '1981', 'during', 'audience', 'should', 'begin', 'touqir', 'rinku', 'aria', 'rate', 'exile', 'mistake', 'filed', '2025', 'perfection', 'teamwork', 'pain', 'performances', 'importance', 'equity', 'german', 'naju', 'dudly', 'ranbirs', 'liberation', 'panic', 'towquir', 'station', 'greed', 'meditating', 'sea', '1115', 'playful', 'tomorrow', 'musha', '24th', 'internal', '17', 'hills', 'arif', '7km', 'liked', 'kilometers', 'irrelevant', 'intense', 'telecasting', 'opinion', 'detalis', 'try', 'shitalakshya', 'executioner', 'separately', 'artiste', 'another', 'helm', 'wasn', 'dvd', 'dutt', 'keeper', 'steal', 'investigations', 'investigation', 'sons', 'bhikhu', 'sale', 'jure', 'lot', 'possession', 'plan', 'tele', 'file', 'government', 'variant', 'boat', 'kalia', 'could', 'spending', 'bycycle', 'levels', 'interval', 'a', 'she', 'episode', '51', 'silent', 'disciples', 'presence', 'salary', 'please', 'envy', 'in', 'master', 'costive', 'swimmer', 'reduced', 'shaheb', 'pretty', 'sixty', 'vice', 'various', 'enamul', 'dust', 'waited', 'towkir', 'officials', 'hasan', 'help', '520', 'cobad', 'thats', 'basically', 'days', 'seller', 'variation', '1975', 'berao', 'printed', 'rise', 'victoria', 'rest', 'tupa', 'understand', 'wicket', 'chat', 'nagarjuna', 'pari', '20201205', 'lovewithout', 'everybody', 'akbar', 'more', 'specialist', 'matter', 'politician', 'bulding', 'bail', 'market', 'inspiration', 'nobody', 'madhushudhun', 'operated', '2778', 'shetty', 'consensus', '“', 'mistakes', 'sing', 'unfavorable', 'reflect', 'account', 'kusum', 'serious', 'ceremony', 'lives', 'milkvita', 'opposite', 'lebels', '023000', 'skillfully', 'tanvir', 'winter', 'markets', 'mtv', 'mithun', 'significant', 'faruq', 'lighting', 'main', 'punish', 'billion', 'morte', '–jonota', 'famous', 'national', 'grows', 'almighty', 'art', 'rahman', 'if', 'b', 'whatever', 'electronics', 'job', 'shihab', 'incident', 'video', 'achievement', 'lailars', 'gahchil', 'navy', 'repairing', 'sablu', 'effect', 'point', 'once', 'penalty', 'elected', 'skilled', 'hugely', 'wounds', 'sections', 'convict', 'necessity', 'write', 'rupantar', 'youth', 'uneasy', 'along', 'irregularities', 'bondhu', 'simplify', 'trophe', 'chyannika', 'number', 'leave', 'future', 'miserable', 'gradually', 'soul', '40', 'others', 'cigarette', 'biddhasram', 'matubbor', 'organize', 'lack', 'destroyed', 'abu', 'nicely', 'chennai', 'possibilities', 'acts', 'abolishes', 'performance', 'years', 'eternal', 'refugees', 'otherwise', 'recent', '555', '6th', 'bangalore', 'with', 'annual', 'ceased', 'saturday', 'etc', 'restrictions', '45', 'jaker', 'busiest', 'toe', 'aristocratic', 'greetings', 'causes', 'south', 'sec', 'shortrit', 'plays', 'extinct', 'borkol', 'gary', 'when', '13', 'hypocrite', 'segment', 'located', '10times', 'mastery', 'brightly', '67', 'ramgonj', 'sahara', 'humayun', 'minute', 'couldnt', 'corrections', 'starts', '1992', 'moni', 'd', 'merilprothom', 'play', 'offer', 'tools', 'amazed', 'achieve', 'namaste', 'concentrated', 'exhibition', 'rattri', 'fishing', 'difference', 'reza', 'built', 'politically', 'opponent', 'goes', 'keshabpur', 'announcement', 'fate', 'lively', 'town', 'gold', 'musician', 'samsur', 'r', 'trial', 'organizers', 'discussed', '104th', 'patriots', 'organized', 'enjoy', 'finsidil', 'deck', 'brick', 'unregistered', 'word', 'broadcasted', 'newly', 'bliss', 'colleagues', 'parties', 'relevant', 'court', 'yerash', 'ever', 'desher', 'dowla', 'feelings', 'dhaka', 'gyanosree', 'philosopher', 'rural', 'dug', 'unnecessary', 'neighbor', 'white', 'studies', 'rama', 'expensive', 'vitamin', 'idea', 'mascots', 'healthless', '1', 'heart', '1947', 'madrasa', 'style', 'ahead', 'anyone', 'barrier', 'grenades', 'vcd', 'lrb', 'anent', 'recited', 'hanif', 'care', 'movement', 'book', 'got', 'rangamati', 'thirty', 'was', 'ghazal', 'today', 'system', 'house', 'reader', 'later', 'whose', 'muhibbullah', 'cases', 'fascination', 'mirza', 'faced', 'stroked', 'bhaba', 'available', 'canada', 'medium', 'cricket', 'tisha', 'krisoker', 'prices', 'rangmastiri', 'baffled', 'sushil', 'hold', 'strongly', 'fazle', 'ill', 'can', 'sword', 'parcent', 'roast', 'month', 'ambika', 'stand', 'nearby', 'culvert', 'bosss', 'shari', 'sincere', 'dogs', 'handed', 'measure', 'directing', 'derail', 'defeated', 'till', 'accident', 'someone', 'fragile', 'worshiper', '2006', 'f1', 'recate', 'mahfouz', 'religious', 'although', 'father', 'occurs', 'award', 'surprised', 'selfcompleted', 'rather', 'told', 'thee', 'victims', 'joyin', 'reception', 'supply', 'deviation', 'similar', 'mustafizur', 'ra', 'actual', 'emptiness', 'anti', 'guardian', 'animas', 'hot', 'bcb', 'arrested', 'loves', 'approximately', 'jail', 'areas', '2010', 'mokammel', 'banks', 'cognized', 'domination', 'visit', 'acceptable', 'region', '20201202', 'right', 'authenticity', '120', '198', 'stated', 'topus', '113000', 'school', 'committee', '530', 'courage', 'conference', 'sounded', 'weaker', 'accustomed', 'old', '2222', 'pace', 'admire', 'scientists', 'eight', 'many', 'playwright', 'authority', 'youngest', 'release', 'cracks', 'winning', 'bought', 'doesn', 'both', 'repaired', 'selling', 'bhattarai', 'modon', 'helps', 'scared', 'iodine', 'endlisteners', 'classes', 'line', 'result', 'supervising', 'anyhow', 'trusted', 'club', 'offered', 'received', 'mamata', 'dearth', 'anger', 'juniors', 'humanity', 'brac', 'shokal', 'administrative', 'country', 'increasing', 'hindusmuslims', '49', 'proposal', 'teledirector', 'lusid', '1948', 'eyes2', 'running', 'starting', 'details', 'names', 'taken', 'dominance', 'church', 'sick', 'investment', 'born', 'older', 'fotepur', 'firms', 'tendency', 'occupation', 'fever', 'stop', 'dighi', 'izaz', 'controversy', 'related', 'series', 'construction', 'maizbhandari', 'zealand', 'controlling', 'happening', 'development', 'standard', 'headquarter', 'madhav', '1100', 'unusual', 'upper', 'oppi', 'music', 'what', 'immensely', 'eat', 'whenever', 'crore', 'never', 'production', 'points', 'everyday', 'ali', 'tine', 'hut', 'edisode', 'declared', 'teenager', 'complained', 'surplus', 'speaking', 'vanished', 'paper', 'sorry', 'in190', 'directly', 'easy', 'facts', 'patiya', 'brazil', 'evict', 'selection', 'one', 'khan', 'praising', 'portion', 'perfect', 'about', 'shooting', 'well', 'among', 'everywhere', 'mode', 'professor', 'imaginary', 'secondary', 'azaadi', 'accountancy', 'bukar', 'mon', 'economic', 'air', 'unbelievable', 'convener', 'manna', 'restlessly', 'appeared', 'himher', 'mothers', 'some', 'hopefully', 'afternoon', 'entering', 'attractive', 'khela', 'bazar', 'corruption', 'run', 'lara', 'despite', 'london', '201617', 'kilns', 'addition', 'rickshaw', 'five', 'consists', 'alam', 'filled', 'meditation', 'couple', 'effort', 'interesting', 'azizul', 'packages', 'taher', 'waved', 'wife', 'center', 'underway', 'passport', 'mohona', 'family', 'management', 'huda', 'essentially', 'appropriate', 'tremendously', 'touched', 'dhamail', 'alloted', 'mind', 'attackers', 'aranno', 'often', 'exceptional', 'polity', 'written', 'hindus', 'sort', 'midland', 'going', 'imf', 'satyajit', 'akhando', 'zero', 'atn', 'see', 'list', 'teach', 'truth', 'duties', 'hear', 'spite', 'better', 'absolute', 'noakhali', 'nabi', 'gangajatra', 'information', 'making', 'companies', 'frame', 'together', 'specific', 'separated', 'butt', 'role', 'flamboyance', 'unworthy', 'ford', 'dangling', '1914', 'roads', 'toilet', 'adding', 'pelvic', 'soon', 'trust', 'weeks', 'ashikoshe', 'kings', 'flour', 'personal', 'eternalcompetitor', 'salahuddin', 'shrimp', 'shelter', 'daughters', '1989', 'until', 'rivers', 'gazi', 'developed', 'kabir', 'rouf', 'across', 'over', 'observed', 'most', 'party', 'ekushey', 'sajal', 'gosh', 'firstly', 'hole', 'asifs', 'preparation', 'law', 'weakness', 'writer', 'natasha', 'simple', 'familiar', 'dad', 'arrest', 'spoiled', 'luminous', '2186', 'assured', 'ear', 'programmenews', 'taka', 'surprisingly', 'straight', 'citys', 'saints', 'mayor', 'adviolence', 'ulochori', 'showed', 'even', 'apart', 'songket', 'sadness', 'aging', 'front', 'girl', 'leaser', 'inaugurated', 'empty', 'fall', 'gaye', 'frustrated', 'cultural', 'numbers', 'act', 'interrogate', 'anemia', 'loans', 'being', 'wouldn', 'age', 'nutrition', 'theft', 'temptation', 'shook', 'medal', 'jokes', 'news', 'humaiun', 'computers', 'bound', 'cook', 'institutions', 'evening', 'authorities', 'look', 'dont', 'hundred', 'spinners', 'roy', 'finish', 'takes', 'operate', 'under', 'ago', 'update', 'follow', 'withdrawal', 'problem', 'startedat', 'reconstruct', 'hampered', 'boss', 'lived', 'familythey', 'he', 'depended', 'serving', 'graphics', 'water', 'sensitive', 'studied', 'call', 'sells', 'strengthen', 'western', '1130', 'players', 'pallab', 'necessary', 'passage', 'preserved', 'opportunities', 'believes', 'touch', 'falling', 'bus', 'caused', 'ugly', 'abdul', 'less', 'exactly', 'stirring', 'willing', 'duti', 'driver', 'small', 'rakibur', 'new', 'audio', 'normal', 'say', 'planned', 'hong', 'sitting', 'heshe', 'excluding', 'cala', 'arbo', 'ground', 'come', 'liability', 'identified', 'militant', 'kranti', 'audiences', 'kulpodi', 'take', 'shongket', 'argument', 'create', 'utilize', 'shamsul', 'efforts', 'sounds', 'vottoshali', 'improved', 'tender', 'militancy', 'real', 'budget', 's', 'who', 'modesty', 'approved', 'recruit', 'membership', 'order', 'murdered', 'function', 'kurta', 'extraordinarily', 'deputy', 'begining', 'action', 'bitumin', 'proportionally', 'rejecting', 'mitu', 'attraction', 'intention', 'helping', 'death', 'countrys', 'website', 'thousands', 'resort', 'managing', 'books', 'baba', 'api', 'siblings', 'afroza', 'undergoing', 'forgiveness', 'but', 'situations', 'ak', 'equal', 'easier', 'concerned', 'educational', 'healthy', 'passengers', 'jovert', 'two', 'qualification', 'no', 'explain', '515', 'tune', 'seen', 'shrirampur', 'revolutionary', 'sherpur', 'authorized', 'lonely', 'character', 'koromchad', 'spectacular', 'rent', 'protesters', 'bad', 'storm', 'khemmanand', 'gdp', 'pomp', 'joined', 'muslin', 'depend', 'hard', '2014', 'robery', 'sanjida', 'visiting', 'knock', 'regional', 'ideas', 'festival', 'priority', 'marriage', 'forum', 'courtyard', 'mb', 'door', 'aim', 'those', 'getting', 'relations', 'concentrate', 'munnabhai', 'months', 'bringing', 'accounting', 'ambitious', 'might', 'diganta', 'governmental', 'submergence', 'burning', 'whom', 'puja', 'enemy', 'proposed', 'almost', 'expert', 'circle', 'chances', 'confident', 'hugged', 'foot', 'anwar', 'dona', 'scholarship', 'shuvo', 'vote', 'garment', 'doubtful', 'must', '’', 'pani', 'literary', 'allocations', 'hollywood', 'reversed', 'peace', 'mission', 'redefined', 'partially', 'north', 'damages', 'projects', 'slow', 'recommending', 'individual', 'accused', 'citizen', 'aware', '11', 'telecasts', '500', 'neglectful', 'election', 'risky', 'things', 'md', 'negligence', 'blindness', 'millions', 'flattering', 'argentina', 'none', 'suffering', 'disclosed', 'survived', 'smiling', 'helpless', 'childhood', 'nupur', 'sugar', 'joya', 'god', 'absent', 'gentleman', 'postponed', 'survives', 'spelling', 'beaten', 'an', 'viewer', 'mazzai', 'activities', 'street', 'persian', 'strange', 'followers', 'suffer', 'agitation', 'dress', 'sometimes', 'startit', 'make', 'ahsan', 'homeland', 'abundance', 'theory', 'journalists', 'hope', 'items', 'entirely', 'frustrating', 'journey', '355', 'childs', 'grouping', '000000', 'feels', 'seventy', 'thursday', '72', 'shaped', 'maximum', 'dodul', 'life', 'earlier', 'answer', 'shaon', 'buyers', 'guiter', 'contents', 'die', 'akhi', 'sector', 'fairs', 'belongs', 'investors', 'telefilm', 'patiyas', 'chief', 'or', 'oilgas', 'barua', 'several', 'deceased', 'everest', 'disappointed', 'redhat', 'registration', 'helplessness', 'anarchy', 'stimulus', 'continuation', 'hotel', 'bandyopadhyay', 'wednesday', 'chand', 'journalist', 'staying', 'torned', 'stars', 'hardwork', 'motivation', 'organization', 'courts', 'lunch', 'bishalpur', 'made', 'lazyaimless', 'wellknown', 'universally', 'stolen', 'commerce', 'pictures', 'different', 'slovakia', 'falguni', 'global', 'wolfe', 'service', 'formation', 'roaming', 'investigating', 'motorcycles', 'noble', 'youthful', 'shaikh', 'thing', 'spirit', 'nayanthara', 'admission', 'hand', 'acting', 'trophyindia', 'after', 'to', 'ittadi', 'shooted', 'principle', 'indore', 'pein', 'sodiumb', 'lane', 'johannesburg', 'chars', 'jahirul', 'pride', 'popular', 'mahi', 'facilities', 'special', 'issues', 'within', 'installation', 'fabulous', 'amount', 'rid', 'terrorist', 'dancedance', 'cds', 'china', 'paisa', 'continuity', '61', 'anymore', 'constitutioneveryone', 'remanded', 'alo', 'union', 'dry', 'surpassed', 'suitable', 'good', 'youthis', 'preeti', 'vacation', 'able', 'selina', 'patronage', 'dramatization', 'above', 'husband', '1933', 'shanu', 'voucher', 'nochiketa', 'be', 'merely', 'absence', 'unconcerned', 'everything', 'shaheen', '1946', 'taiwan', 'political', 'general', '3taka', 'anushthan', 'proof', 'seeking', 'k', '…marriage', 'mandatory', 'how', 'performed', 'settled', 'convinced', 'needless', 'chanted', 'enjoyable', 'birth', '16', 'pattern', 'execution', 'winner', 'madan', 'tme', 'oliver', 'eshop', 'manner', 'defense', 'nawab', 'guidelines', 'than', 'pritom', 'warehouse', 'film', 'defeat', 'for', '–', 'tiger', 'laptop', 'programme', 'tina', 'stopped', 'anisul', 'oneday', 'kaniz', 'state', 'oppressed', 'shreshtha', 'hasina', 'sonjattra', 'hijackers', 'parents', 'cost', 'gandhi', 'expressed', 'parliament', 'bright', 'pail', 'filing', 'fisherman', '1869', 'prachanda', 'holding', 'outside', 'mahbub', 'legendary', 'nurunnahar', 'bourgeoisie', 'replica', 'they', 'pompously', 'dram', 'elita', 'technicians', 'musical', 'irritated', 'kapoor', 'progress', 'change', 'primary', 'upazila', 'mobile', 'rh', 'workers', 'chopra', 'turned', 'thinks', 'prevent', 'pronunciation', 'impulse', 'reach', 'international', 'drivers', 'philippine', 'continued', 'met', '1230', 'charecter', 'branch', 'nurul', 'crime', 'insisted', 'higher', 'prison', 'jonmodine', 'crowd', 'destructive', 'cows', 'really', 'drinking', 'english', 'ponds', 'walking', 'active', 'surely', 'taking', 'career', 'confidence', 'deshpremi', 'broad', 'conspiracy', '70', 'sid', '6', 'aich', 'sattar', 'forever', 'stage', 'dia', 'multinational', 'returns', 'quite', 'clearly', 'ozaroti', 'occupiers', 'troilus', 'kashmiri', 'ship', 'lawsuit', 'dadaasimanamang', 'person', 'quantum', 'supposed', 'officer', 'offended', 'win', 'yes', 'chanchal', 'miracle', 'ananta', 'younger', 'gangaazatras', 'shahabuddin', 'demands', 'uf06c', 'mostafa', 'urban', 'sarkar', 'electricity', 'gain', 'nomination', 'shot', 'said', 'adiba', 'conducting', 'fill', 'competition', 'atleast', 'gifted', 'challaenger', 'balu', 'marca', 'anniversary', '1972', 'thare', 'woman', 'diamond', 'dewan', 'exists', 'reaching', 'vacant', 'campaign', 'rahmatullah', 'river', 'star', 'manush', 'sports', 'sumon', 'diba', '3hour', 'responsibility', 'banaripara', 'enough', 'councils', 'financially', 'amrish', 'attacked', 'hossain', 'part', 'cementbricksand', 'demand', 'while', 'shurjotorun', 'connection', 'credence', 'catch', 'melodious', 'intellectual', 'world', 'big', 'solayman', 'administration', 'assaulted', '129', 'telecasted', 'program', 'educationist', 'gets', 'kishor', 'stream', 'included', 'used', 'else', 'bedding', 'forth', 'team', 'weapons', 'gave', 'dhiman', 'places', 'tamim', 'bankimf', 'may', '24', 'guest', 'bosudha', 'four', 'spot', 'constructed', 'jahangirs', 'fundamental', 'politics', 'arrived', 'huminity', 'bangladeshishabibul', 'perhaps', 'chance', 'percent', 'japan', 'widow', 'vendors', 'mahfuj', 'transport', 'clear', 'forces', 'larger', 'durpath', 'arrangement', 'presented', 'sideeffects', 'dollars', 'witnesses', 'unnamed', '215', 'pacers', 'ogo', 'commercially', 'goal', 'criticismsall', 'crowded', 'producer', 'singly', 'dancers', 'eve', 'chandraghona', 'figure', 'o', 'stable', 'parishad', 'requested', 'malnutrition', 'donation', 'that', 'costume', 'suffered', 'kaliganga', 'pep', 'deeds', 'impulsion', 'landlord', 'uposonghoraj'}\n",
            "Target Vocabulary {'সকলে', 'কালভার্টের', 'দোকান', 'র্যান্ডি', 'পরীক্ষায়', '১৮১৯', 'রাষ্ট্রই', 'তাঁদের', 'রাষ্ট্রের', 'নেতাকর্মীরা', 'লোডশেডিং', 'এরই', '২০১৬১৭', 'ক্যাটরিনা', 'বেলুচিস্তানের', 'নাগরিক', 'দলীয়', 'নোয়াখালী', 'বিচারক', 'প্রশাসনিক', 'জাহাঙ্গীরের', 'আইটি', 'করেননি', 'নারীরাও', 'ইজাজবাটহয়তোবাভুলকরেইকথাটাবলেছেন', 'আশ্চর্যজনকভাবে', 'ইঞ্জিনিয়ার', 'দূরপাঠ', 'থেমে', 'জমেনি', 'হাতেখড়ি', 'থিয়েটার', 'প্রতিনিয়ত', 'গণঅভ্যুত্থানের', 'নাটকটি', 'যত্নবান', 'উদ্যোগে', 'কেবল', 'নমস্তে', 'জমবে', 'ভিক্ষু', 'অনুমোদন', 'নাটকটা', 'অধৈর্য', 'পরও', '১৮৬৮', 'তুলনা', 'প্রাপ্য', 'স্বাধীনতা', 'স', 'আইনশৃঙ্খলা', 'রসাল', 'মিয়ানমারের', 'সাগর', 'বিনিয়োগকারীরা', 'টিভিমালিকদের', 'ভূমিকা', 'অনেকেআছেযাদেরক্রিকেটসম্পর্কেখুবভালোধারণানেই', 'সেখানেই', 'প্রচারে', 'বাদ্যবাজনা', 'নির্মাণের', 'বিবেচনাধীন', 'তরুণেরা', 'তারই', 'অ্যালবাম', 'এরাই', 'কর্জ', 'মাদক', 'এলাকাবাসী', 'সত্যনারায়ণের', 'জোরে', 'সরকারও', 'চালাচ্ছিলেন', 'ফতেয়াবাদে', 'দক্ষিণ', 'ভঙ্গিতে', 'দেখে', 'যদি', 'গোষ্ঠী', 'গান্ধীঅন্তঃপ্রাণ', 'দাপট', 'মিতুর', 'সালমাকে', 'হাজির', 'ক্ষমার', 'বেদম', 'ইটপাটকেল', 'মিনিটে', 'গ্রুপিং', 'এসে', 'প্রশ্নের', 'বেশ', 'উদ্বৃত্ত', 'সভাপতিত্ব', 'তীরের', 'অ্যাশলি', 'শিষ্যকে', 'ভূয়সী', 'থিয়েটারের', 'দেওয়ানা', 'সূর্যতরুণেরসঙ্গেঅবশ্যএকবারেইকথাহয়েগেছে', 'নন', 'মনোয়ার', 'উল্টে', 'গেছি', 'সদস্যের', 'নামে', 'ওয়ার্ড', 'নদী', 'অঞ্চল', 'থাকছেন', 'ক্ষতিগ্রস্ত', 'করলেন', 'দত্ত', 'ব্যর্থ', '৪', 'গর্তের', 'বিদ্যালয়', 'এসেই', 'মৌলিক', 'সংগীতশিল্পী', 'পদ্মার', 'ইতিহাসে', 'করেনি', 'স্ট্যান্ডের', 'ব্যয়বহুল', 'অতিষ্ঠ', 'এঁরা', 'মেলোডিসফ্ট', 'তুরাগ', 'শহরবন্দরে', '১৩', 'দিল', 'ছন্দদৌর্বল্য', 'বিক্ষোভকারীদের', 'হাস্যরসে', 'নাগার্জূন', 'দুটো', 'আদেশ', 'ফাঁকে', 'দাওবল্লম', 'বিজরী', 'কথাটাই', 'নূপুরের', 'হারিয়ে', 'মুন্সি', 'নিরসনের', 'আজাদি', 'মুক্তিযুদ্ধের', 'সিনেমা', 'নির্দেশে', 'খেলব', 'সমাদৃত', 'জানা', 'হত্যার', 'ওভারেই', 'চারতলা', 'পাইনি', 'করতেই', 'গাইতে', 'প্রতিষ্ঠান', 'ধৈর্য', 'অভাবে', 'আন্দোলন', 'কাশ্মীরের', 'বসকে', 'ওয়েবসাইট', 'শুধু', 'শুভ্রর', 'প্রভাব', 'হ্রাস', 'কারণ', 'কর্মযজ্ঞ', 'কৃষিসংস্কৃতি', 'অবাস্তবায়িত', 'রাখাল', 'জটিলতা', 'উভয়', 'পুনরুদ্ধার', 'চরের', 'ঢেলা', 'যেতেই', 'অগগ্রতি', 'এতেই', 'এমনকি', 'বন', 'ফতেখাঁরকুলের', 'জোরালো', 'অবস্থিত', 'পৌর', 'বালি', 'বাসে', 'ছিল', 'পাওয়ার', 'দিনব্যাপী', 'পঁচাত্তরে', 'ধ্রুপদী', 'ফোনালাপ', 'টেকনাফের', 'বেচে', 'তিনজন', 'ব্রুস', 'রেখে', 'পাশে', 'লেগে', 'কেয়া', 'ট্রান্সপোর্ট', 'কথাগুলোই', '১৮', 'জিনিস', 'চট্টগ্রামের', 'ব্যক্তি', 'প্রশিক্ষিত', 'হবেন', 'হাহাকার', 'দাশ', 'রোমান্টিক', 'সন্ধ্যায়', 'সমস্যা', 'নামকরণসংক্রান্ত', 'অসহায়', 'এরাও', 'বৃক্ষ', 'স্বচ্ছতার', 'পক্ষেই', 'উচ্চারিত', 'অর্পিত', 'ধনুকের', 'কাঁঠাল', 'নেতৃত্বের', 'ঢংএ', 'ফলবিক্রেতা', 'সঞ্চালকের', 'চাপ', 'অ্যাক্টরস', 'ওয়েস্টার্ন', 'জরিপ', 'ফেরে', 'তল্লাশির', 'জঙ্গি', 'শূন্যপদের', 'খায়', 'হাজার', 'আসিয়াছে', 'ভয়াবহতা', 'মিউজিক', 'পড়ার', 'তহবিলে', 'আখন্দ', 'বহু', 'ডোমপাড়া', 'দিকেও', 'সচেতনতা', 'ফল', 'মডেলদের', 'রাঙ্গুনিয়ায়', '২১৮৬টি', 'আহমেদের', 'অভিনয়', 'মল্লিক', 'জলে', 'অনেকে', 'টানটান', 'গায়ে', 'হাটহাজারী', 'খোকন', 'হতোদ্যম', 'অভিযোগপত্র', 'গণতন্ত্রকে', 'নির্মাণকাজ', 'নদের', 'গ্রেপ্তারআতঙ্ক', 'এফডিসির', 'ভাঙা', 'সমাগম', 'যাপন', 'দোকানে', 'প্রায়ই', 'তত্পর', 'অনেক', 'তোমার', 'সাধারণ', 'যাতা', 'মাউথ', 'ভিত্তি', 'কণ্ঠের', 'পানসে', 'লক্ষ্যমাত্রা', 'ফ্রেমেই', 'সামনের', 'ইয়ে', 'উথলানো', 'অনুপ্রেরণায়', 'প্রচণ্ডের', 'মতবাদ', 'বড়ুয়া', 'মহাসাগর', 'খাতের', 'জাল', 'পাঠ', 'মোতায়েন', 'তড়িত্', '৩০', 'দাবানলের', 'গ্রামীণফোনের', 'উচ্চতর', 'সড়কে', 'দিলেন', 'জেলা', 'রমরমা', 'খাই', 'সিং', 'রাইফেলস', 'নাশকতা', 'পুকুর', '১০৬টি', 'ঘনফুট', 'শোভন', 'গুঁড়ো', 'হয়', 'অংশ', 'লড়েছিল', 'সচেতন', '19500701', 'সমাজের', 'কোবাদদের', 'জলের', 'ঢাকায়', 'পরিক্রমার', 'সেবা', 'যথারীতি', 'গানে', 'নিড', 'রিকশাচালকের', 'আমার', 'আছেই', 'ভিসিডিতে', 'ভোটার', 'হারাতে', 'চ্যাম্পিয়নস', 'ইটভাটায়', 'ব্যাকরণগতভাবে', 'করেও', 'সাহায্য', 'ওয়েক', 'স্বাভাবিক', 'একাকার', 'ধরে', 'ক্রেসিদা', 'সবকিছু', 'সেলিব্রিটি', 'জেন্ডার', 'বিরুদ্ধেই', 'সার্জনকে', 'দাপটে', 'জুগিয়েছে', 'ছোনামিয়া', 'wwwdigitalbagerhatorg', 'গতকাল', 'আপত্তির', 'আপডেট', 'জায়গা', 'মেজ', 'করলে', 'বালুতে', 'শানু', 'খেলে', 'লাগে', 'বের', 'কোটি', 'শিশুর', 'নেতারা', 'কোস্টগার্ড', 'বিরুদ্ধে', 'গদি', 'উঠলে', 'যুক্ত', 'সবকিছুরই', '১১টায়', 'মিশন', 'ছোঁয়ায়', 'আমারও', 'দেখায়', 'শেক্সপিয়ার', 'গোরকঘাটাজনতাবাজার', 'কোনোভাবেই', 'মন্তব্য', 'মন্ত্রণালয়', 'সমরের', 'উদ্বৃত্তের', 'ভালোবেসে', 'বলেছি', 'রে', 'দেখিনি', 'আদালতে', 'ভিশন', 'তারকার', 'প্রলোভন', 'অহিংসার', 'সাঁতারপুলেই', 'অস্ত্র', 'নিরাপত্তা', 'ভদন্ত', 'নাথের', 'লিমিটেড', 'অক্টোবর', 'সাজিয়ে', 'সোমবার', 'যানবাহন', 'ডাক্তারের', 'ভুলে', 'কেঁওচিয়া', 'আপন', 'বোর্ডে', 'ঘোষণা', 'দেশীয়', 'নিয়ম', 'বাবার', 'বুকে', 'ছবির', 'জলিও', 'রেখেছে', 'সরল', 'সামগ্রিকভাবে', '‘', 'পরবর্তী', 'আমিও', 'পুরুষের', 'প্রশান্ত', 'মুশকিল', 'ধরতে', 'এরপর', 'না', 'আহত', 'ইনজেকশন', 'মতৈক্য', 'মোকাম্মেল', 'চতুর্থ', 'থাকবে', 'যুক্তরাষ্ট্রের', 'নির্দেশ', 'সেখান', 'খোলা', '৫৫', 'লীগের', 'মাড়িয়ে', 'অভিনয়শিল্পীর', 'কনটেন্ট', 'পারলে', 'পোশাকআশাক', 'অম্বিকাকালীগঙ্গা', 'তাঁহারা', 'স্বাভাবিকতা', 'মধ্য', 'পরিষদ', 'নাচে', 'ধুমধামের', 'সিলভানা', 'আসামিদের', 'আমেরিকা', 'কোবাদ', 'বিটিএন', 'রক্ষাকারী', 'অজ্ঞাত', 'শুরুতেই', 'মাছ', 'বলেছিল', 'চিত্কারের', 'করিম', 'ইশ', 'মুসলিম', 'ঘোর', 'অল্প', 'আয়োজক', 'হেঁটে', 'বাচনভঙ্গিতে', 'বিচলিত', 'ধরার', 'পড়েছেন', 'দাঁতের', 'কণ্ঠটা', 'আক্তার', 'নির্ভরশীল', 'বসেছিলাম', 'হয়নি', 'নিতাম', 'প্রস্তাব', 'আলোচনার', 'কারা', 'চলেছে', 'ঢাকার', 'বিশাল', '৩৫', 'মধ্যে', 'শেষে', 'জোকস', 'প্রতিবেদন', 'বিক্রি', 'মৌসুমী', 'ডাকাত', 'মোহামেডানে', 'ইক্যুইটি', 'নিয়ে', 'সন্ধ্যা', 'চয়নিকা', 'এনে', 'একপর্যায়ে', 'প্রমাণের', 'কিংবদন্তি', 'মেরিলপ্রথম', 'সত্য', 'নৌপথে', 'কাইজ্জা', 'কোনো', '১৯২৯', 'চর', 'বিকেলে', 'খুঁজি', 'প্রেমের', 'রোগ', 'ওইঘটনায়চারমাসেরনির্বাসনদণ্ডওভোগকরতেহয়েছেবার্সেলোনাকোচকে', 'পালিয়ে', 'ঝাঁপি', 'চান', 'অন্তত', 'নারীশিক্ষার', 'পারেনি', 'একজনের', 'মৌসুমের', 'ত্যাগের', 'বহুবার', 'শো', 'দেবেন', 'কাটিয়ে', 'পরিপ্রেক্ষিতে', 'ছায়াছবির', 'তারাশঙ্কর', 'সাতটা', 'শিল্পকারখানা', 'পাঠকদের', 'আরা', 'পরিবেশনার', 'ওঠেননি', 'আয়নাবাবা', 'নাটকের', 'রয়ে', 'বসানো', 'গলগণ্ড', 'কোবাদরা', 'আছেন', 'একমাত্র', 'প্রচারিত', 'কল', 'আলোচনায়', 'রূপক', 'স্বপ্ন', 'মিডিয়া', 'সময়ছিলমাত্র১০দিন', 'উদ্দেশে', 'তরুণের', 'আড়াইটায়', 'বসেছিল', 'বিক্রির', 'কমিটির', 'নাগাল', 'আরেকটা', 'সমাজ', 'আছি', 'জন্মবার্ষিকী', 'উচ্চারণ', 'ঘটনারই', 'প্রতিরূপ', '২২২২', 'অনুষ্ঠানে', 'দিচ্ছি', 'ইটিভির', 'সহসভাপতি', 'একজনই', 'ব্লকেও', '১৯৪৭', 'বিপুল', '২১টি', 'ভিক্টোরিয়া', 'খবর', 'বলতাম', 'করো', 'গানগুলোর', 'আমাকেও', 'বলব', 'পাগল', 'মন্দ', 'সদস্য', 'সেট', 'সম্রাটের', 'লাগল', 'প্রতিবাদে', 'আইনে', 'মানুষের', 'ব্যাপারে', 'মেয়েটিই', 'মুহিবুল্লাহ', 'গ্রামান্তরে', 'হাত', 'কয়েক', 'মিনিটের', 'আঁধার', 'পাবে', 'তুলেছিল', 'তৈরির', 'প্রচেষ্টাও', 'স্বাধীনতাকামী', 'একটি', 'রেডহ্যাট', 'ছয়জন', 'নিসবাটের', 'খান্না', 'তানভির', 'সংগীতকে', 'যেমন—কারমিক', 'চিত্রকলা', 'প্রমুখ', 'উত্তরাঞ্চলে', 'কার্যালয়', 'কমানো', 'ইটিভি', 'নলিনীকান্ত', 'মিলনায়তনে', 'হঠাত্ই', 'পিস্তল', 'অস্থায়ী', 'পছন্দ', 'পুনরায়', 'প্রত্যক্ষদর্শীর', 'গেয়েছেন', 'উপায়', 'দর্শকশ্রোতা', 'মঙ্গলবার', 'বাঁচলে', 'দৃষ্টিনন্দন', 'শান্তিরক্ষার', 'শরীরে', 'বদলে', 'ট্রাফিক', 'পার্লামেন্টে', 'ছবি', 'মনির', 'সিদ্ধান্ত', 'পুষ্টিকর', 'শিল্পকলা', 'প্রযুক্তি', 'বানিয়েছেন', 'পুষ্টিহীন', 'অরাজি', 'সংশ্লিষ্টদের', 'গুণী', 'জুন', 'গজল', 'নামই', 'সিনেমা—গঙ্গাযাত্রা', 'গোলাম', 'লাগিয়েই', 'সালের', 'থেকেও', 'বন্ধুরা', 'সহ্য', 'দায়িত্ব', 'দিনমজুর', 'জয়', 'হাসান', 'নহে', 'আইজ', 'ব্যাঙ্গালোর', 'প্রবালের', 'রাজনীতিকে', 'গাইলেন', 'চিকিত্সাসেবা', 'অভিবাসীদেরই', 'ঘ', 'থানায়', 'সিভিল', 'সাজ্জাদ', 'পায়খানাগুলো', 'যেতেন', 'মানের', 'রকম', 'ফয়সালার', 'ব্যক্তিগতভাবে', 'তৃতীয়', 'জরুরি', 'ক্যাসল', 'পারিশ্রমিকের', 'টিভিরও', 'প্রোমো', 'বিন্দুমাত্র', 'একেকজন', 'অভিশংসনের', 'যাচ্ছিল', 'নেন', 'অনাস্থা', 'ভঙ্গুর', 'সেতুটি', 'পংকজ', 'মিউনিসিপ্যাল', 'মালিকদের', 'কারও', 'দুজনকে', 'আশ্রয়', 'ছোটবেলাতেই', 'বছরের', 'স্পিনাররা', 'সড়ক', 'আকাশ', 'উপত্যকার', 'দূষণ', 'আসবে', 'পৌঁছানো', 'অবুঝ', 'খাচ্ছিল', 'জীবনের', 'নাট্যের', 'আধুনিক', 'মতে', 'রেখেছেন', 'যাচ্ছে', 'গালি', 'পাচ্ছেন', 'জুংগুরদি', 'বিপরীত', 'কষ্ট', 'প্রতিবাদও', 'বাইর', 'রাঙ্গুনিয়া', 'কোনটির', 'প্রতিনিধিদের', 'করিমের', 'বর্ষায়', '১৯৮১', 'রবীন্দ্রনজরুলকে', 'বেধেছে', 'প্রণোদনা', 'নদে', '২৮', 'টেন্ডার', 'ঘড়িটি', 'রূপ', '20001101', 'ওভার', 'অনুষ্ঠানটিতে', 'সেমিফাইনালে', 'মৌলা', 'কলেজ', 'যোগ্য', 'মালিনী', 'আমাগো', 'পদ্ধতিতে', 'টনক', 'আমদানিলাইসেন্সবাতিলহচ্ছে', 'কিনেই', 'পদচিহ্ন', 'সাংসদেরা', 'জনশক্তি', 'সংবিধানের', 'কামনা', 'পুড়ে', 'পোনা', 'ভর্তি', 'নেতৃত্বকে', 'কুশীলবদের', 'ভেঙে', 'উন্নয়নে', 'ভাবনাকারী', 'একনিষ্ঠভাবে', 'চুরির', 'এই', 'নম্বর', 'হত্যা', 'নাট্যকার', 'মলা', 'স্বর্ণপদক', 'বোনের', 'বদলি', 'পরিবেশিত', 'তবে', 'মন্ত্রণালয়ে', 'জিজ্ঞেস', 'হুবহু', 'শেখাতে', 'পানির', 'তত্কালীন', 'অনুন্নত', 'নাট্য', 'রিমান্ডে', 'সকালেই', 'সিনেমাটি', 'তোমাড়', 'জমে', 'জাহাজ', 'সাড়া', '১৯০', 'শ্রুত', 'দামও', 'প্রাণ', 'কোম্পানিগুলো', 'লাইভ', 'কারখানায়', 'হাঁটতে', 'শিশুদের', 'সাহিত্য', 'অতীত', 'অপর', 'ফিরবেন', 'মশালবাহকেরা', 'বন্ধুসভার', 'পরিহার', 'মেয়াদ', 'ফ্রন্ট', 'তাকিয়ে', 'পাচ্ছি', 'এলাকার', 'পেরেছি', 'বাপের', 'পড়েন', 'ক্যাডাররা', 'গানগুলো', 'নিয়েই', 'বাঁচব', 'উত্স', '৭০', 'দিতেও', 'ল্যাপটপ', 'ক্ষমা', 'নিজেই', 'শয্যা', 'আলমগীরের', 'বাতিল', 'ম্যাচে', 'শাইখ', 'মেতে', 'প্রায়', 'একদিন', 'রংমিস্তিরি', 'দেখিয়েছিলেন—রবার্ট', 'নওয়াব', 'গান্ধী', 'নেব', 'ওঠে', 'গড়ে', 'যতখানি', 'করতেন', 'ভেতরে', 'ছোটদের', 'ইনামুল', 'হঠাত্', 'বৃদ্ধাদের', 'মুক্তি', 'সংস্কারের', 'শাশ্বত', 'শতাংশ', 'সাম্পান', 'অর্ধেক', 'করব', 'পারার', 'ছন্দ', 'মেঝেতে', 'সংশোধন', 'সেটাই', 'শহরের', 'নেবেন', 'ডাকা', 'ইহাও', 'অভিনয়ের', 'দেখা', 'মঞ্চে', 'পছন্দের', 'পূরণের', 'তত্ত্বাবধায়ক', 'সরকারি', 'ভর্তির', 'উপরন্তু', 'চ্যাম্পিয়ান', 'শাসক', 'ঠেকল', 'প্রীতম', 'পরিষদের', 'মৃত্যুর', 'ক্ষেত্রে', 'আমদানি', 'মিনিট', 'জমা', 'বুঝতাম', 'ধন্য', 'বাসস্ট্যান্ডের', 'তারা', 'করবে', 'দাঙ্গার', 'প্রদর্শিত', 'নারী', '২০০', 'আতাউর', 'ব্যানারে', 'আতিকের', 'চালচ্চিত্রিক', 'নির্মিত', 'দম্পতি', 'বিষয়', 'সারা', 'আড্ডার', 'এশা', 'ফুল', 'তাহা', 'শারীরিক', 'নৌবাহিনী', 'হাইজ্যাক', 'যায়নি', 'বোল্ড', 'জানতেন', 'জন্য—গ্রহণ', 'অবস্থায়', 'বলুন', 'রাহো', 'নেয়', 'চিন্তা', 'হরতাল', 'দৃশ্য', 'ইজ', 'তোষামুদির', 'আসার', 'আরিফ', 'বাঙ্ময়ী', 'সংসদকে', 'ব্যবসায়িকভাবে', 'শান্তি', 'গুঁড়িয়ে', 'সেতুর', 'পার্শ্বচরিত্র', 'ঝগড়ার', 'ভারতবাসীর', 'এখন', 'ম্যাচ', 'শাসন', 'ঘুরতে', 'মহেশখালীর', 'মানা', 'বিপাশা', 'মারধর', 'তার', 'মানুষকে', 'কী', 'কতটা', 'কাছাকাছি', 'সুপারিশগুলো', 'বলা', 'অনুদান', 'রান', 'প্রয়োজনে', 'সপ্রতিভ', 'ট্রাস্টেই', 'খাটলেন', 'ছাপটাই', 'প্রতিদিনই', 'সাকিবমাশরাফিএতটাকাপাচ্ছে', 'সেসবের', 'প্রতিবছর', 'তাঁতিদের', 'হেমলতা', 'সাংসদ', 'আউট', 'নিসবাট', 'ভুল', 'হায়াতের', 'প্রথমেই', 'ক্ষতও', 'শহরে', 'হয়ে', 'শিশু—ভোগে', 'অনুভূতিটা', 'বিড়ালের', 'আগুন', 'ওখানে', 'ঈদ', 'উঠেছে', 'ঢাকা', 'প্রণব', 'গর্ব', 'তত', 'পাবেন', 'পূরণ', 'চ্যানেলগুলোর', 'দীর্ঘদিন', '২০০৬', 'নিপীড়নের', 'জয়ার', 'শেয়ারের', 'বজল', 'উচ্চ', 'বসেছি', 'হ্যারন', 'নাটমণ্ডলে', 'রাজনীতিতে', 'দিই', 'কায়েমি', 'উত্সব', 'নলকূপ', 'তুমি', 'প্রযুক্তিবিদেরা', 'যত্নে', 'শাহরিয়ার', 'বাক্য', 'গুলি', '৭০০', 'প্রতিফলন', 'রোগী', 'ক্যাম্পের', 'জেভিয়ার্স', 'বোধহয়', 'লাগবে', 'উপলব্ধি', 'লাখ', 'পাবলিক', 'ঠিক', '২৭৭৮টি', 'কোণে', 'দুর্দশা', 'শান্তির', 'হতেন', 'হয়তো', 'কেউ', 'এটি', 'ফোনের', 'দেলোয়ার', 'ক্ষেত্রভেদে', 'অনেকএগিয়েতবেবাকিদলগুলোবাংলাদেশেরনাগালেরবাইরেনয়', 'ক্যাডারদের', 'দল', 'গ্যারির', 'অন্যরকম', 'দেশ', 'অচিরেই', 'হাবীব', 'প্রশিক্ষণের', 'করিয়াছেন', 'তারতম্য', 'চোপরা', 'কত', 'ঘটবে', 'জোরেশোরেই', 'কমিশন', 'দ্বিগুণেরও', 'গানের', 'দেবে', 'দেশপ্রেমীদের', 'নিয়েছেন—ধর্মের', 'পাড়গুলোতে', 'গভীরতা', 'বিবেচিত', 'সত্যসাধক', 'কেনার', 'গান্ধীবাদী', 'আওয়াজ', 'এলেন', 'সাউন্ড', 'তৈরিতে', 'সিরাজ', 'ত্রয়লাস', 'বলেছে', 'পালিত', 'ভেবেছিলাম', 'বুদ্ধিতে', 'ওহিদুজ্জামান', 'কোনোটি', 'আদালতের', 'জাহাঙ্গীর', 'পয়সায়', 'ঘর', 'কাজে', 'ইনিংসে', 'ট্রফিতে', 'গেলেও', 'র্যাপ', 'আবেদন', 'গণশিক্ষাবিষয়কমন্ত্রী', 'পাঁচটির', 'গিয়েছিলেন', 'আনসার', 'পেশা', 'আমি', 'পৃথিবীতে', 'বিশ্বের', 'জেলহাজতে', 'বিদেশি', 'ভিত্তিতে', 'ভালোখেলাযায়', 'ভয়ের', 'বালো', 'ফতেপুরমেখল', 'পোহাচ্ছেন', 'ডাক্তার', 'সাময়িকভাবে', 'বারবারই', 'দয়া', 'ছাত্রনেতা', 'সেদিক', 'কোয়াশিয়রকর', '20200530', 'লক্ষ', 'পত্রিকাগুলোয়', 'কমিটিকে', 'জানতে', 'দুঃখের', 'উপবৃত্তির', 'মহেন্দ্র', 'ভারী', 'দোকানেই', 'কুর্তাপাজামা', 'গণআস্থাভোট', 'শাহিন', 'অনুষ্ঠানেই', 'রায়', 'পক্ষবিপক্ষের', 'শেষোক্ত', 'মালিক', 'নোয়াখালীর', 'ধীরগতিতে', 'মাতুব্বরের', 'লম্বা', 'জের', 'ঝড়', 'অনুরোধে', 'বাংলাভিশনে', 'পুনর্গঠনের', 'অভিনয়শিল্পীরা', 'আফরোজা', 'নেওয়া', 'পাটাতনের', 'পানামনগর', 'পারসি', 'পার্থ', 'মধ্যপ্রদেশের', 'ইতিমধ্যে', 'বেয়াদবি', 'ধারাবাহিক', 'আঁখি', 'গত', 'ওয়েস্ট', '৬১', 'জিডিপির', 'বলেন', 'দরিদ্র', 'প্রতিবেশী', 'আবার', 'তপঃ', 'প্রশাসককে', 'মাবাবা', 'অন্ত্যমিলে', 'হাকিমের', 'বহুলাংশে', 'গ', 'বাংলাদেশের', 'খারাপ', 'মাবাবার', 'খেলার', 'সালমান', 'দামের', 'হিসাবনিকাশ', 'পুরোনো', 'চিকিত্সক', 'এন্টারপ্রাইজ', 'এদিকসেদিক', 'দিয়েছে', 'বনিবনা', '৩', 'তাও', 'গ্যাস', 'আসর', 'বিচ্ছিন্ন', 'ঔপনিবেশিক', 'দর্শনার্থীর', 'মতবিনিময়', 'যশোরজেলাপ্রশাসকমহিবুলহকএসবতথ্যেরসত্যতাস্বীকারকরেছেন', '১', 'চ্যানেলগুলো', 'সেন্ট', 'প্রাসঙ্গিক', 'কর্মকর্তাদের', 'তাকে', 'হয়েছিল', 'ফোরামের', 'জবানবন্দিজেরা', 'নবাব', 'উদ্যোগটি', 'মোটরসাইকেলের', '৪১', 'সিডের', 'ঘটে', 'পুরি', 'ইতিহাস', 'বোনকে', 'একজন', 'নব্বইয়ের', 'বাড়ির', 'ফারুকীর', 'বিস্তর', 'চরিত্রের', 'চরিত্রে', 'অসুবিধা', 'নির্মীয়মাণ', 'বিটুমিনকার্পেট', 'মুভিটিও', 'এমন', 'হয়েছে', 'আদ্যাক্ষর', 'শিক্ষার্থীদের', 'দেখেই', 'বলেও', 'অনুষ্ঠানস্থলে', 'মহাপাগল', 'ধৃষ্টতা', 'মোহাম্মদরফিকওমুশফিকুররহিম', 'হলো', 'খেয়েপরে', 'উঠবে', 'দক্ষিণপশ্চিমাঞ্চলের', 'অপি', 'ওয়ান', 'হুমায়ূন', 'আলাউদ্দিন', '১২০', 'শিক্ষকদের', 'বাইজিদের', 'ভাটা', 'ঘরানায়', '১৭৬১৪', 'স্বার্থ', 'লোকজনের', 'ধারে', 'পূজামণ্ডপ', 'শীর্ষে', 'বেড়িবাঁধের', '৪৫', 'রাখা', 'ইচ্ছে', 'গানটির', 'হলেন—হ্যারিসন', 'কৃষকের', 'শতাধিক', 'সাইফুল', 'আশঙ্কা', 'নিই', 'জরিপে', 'অপেক্ষায়', 'প্রত্যাশা', 'গানচিলের', 'গ্যারি', 'সংখ্যা', 'সার্ভিস', '১৯৩৩', 'একা', 'খাদ্য', 'ট্রাভিস', 'অভিভূত', 'ভক্তদের', 'উবুন্টু', 'অশ্লীল', 'এল', 'আনুপাতিক', 'জুডের', 'গল্প', '২১৮৯', 'খাসনগর', 'দুজনের', 'এগুলো', 'গ্রাহ্য', 'অংশে', 'নির্বাচনী', 'পড়েছে', 'মাথা', 'অপ্রীতিকর', 'হতাশ', 'বাহিনী', 'বিলুপ্ত', 'বয়স', 'ভোগে', 'পাঁচটায়', 'কিন্তুসেসবচিনি২৬সেপ্টেম্বরপর্যন্তসিমেন্টেরগুদামেরক্ষিতছিল', 'রোদ্দুরে', 'পুলিশি', 'বিশ্বমন্দার', 'শোনায়', 'এসএ', 'দুয়ারে', 'শিক্ষকেরা', 'জায়গাতেই', '১৯৩৬', 'পাড়ে', 'নগর', 'সব', 'নির্মাণকাজও', 'ফটোগ্রাফির', 'কমিউনিটি', 'ডেইলি', 'এলে', 'নুরুন্নাহার', 'হয়েছেন', 'দিব্যা', 'মুখ', 'শিক্ষাসামগ্রী', 'নিক্ষেপ', 'মিরপুর', 'ঠেকে', 'ঝাঁপ', 'যাদব', 'জনকে', 'সন্ধান', 'খরচে', 'যাত্রী', 'অনাবিল', '৯', 'চলবে', 'পটিয়ার', 'আমরা২০১৪সালেরবিশ্বকাপআয়োজনেরপ্রস্তাবদেব', 'বর্ণনাটা', 'দোদুল', 'গাহিব', 'পুকুরটি', 'সম্পন্ন', 'তাদের', 'দাপটের', 'পণ্ড', 'সংঘর্ষে', 'ওয়ার্কশপে', 'গ্রহণ', 'সীমিত', 'প্রস্তুতি', 'বিশালপুর', 'বসে', 'নেই', 'চুইয়ে', 'অস্ত্রের', 'পরবান্দরে', 'ব্যাপারটাও', 'পেট্রোবাংলার', 'ভাবেন', 'ঠিকভাবে', 'মানুষ', 'চিকিত্সার', 'মুখোমুখি', 'মাদককেলেঙ্কারিরদায়থেকেমুক্তিপেলেনপেপগার্দিওলা', 'চায়না', 'শেষের', 'কয়েকজন', 'মানায়নি', 'হইয়াছে', 'আঃ', 'প্যারালাল', 'অবৈধ', 'আটটা', 'চঞ্চল', 'সুতরাং', 'মিশনেও', 'কোর্সে', 'দোকানমালিক', 'নিশ্চিত', 'সোনারগাঁয়ে', 'কিন্তুযেটাকাতারাবলেছিলওতেখেলাযায়না', 'ঘুরপাক', 'উত্তেজিত', 'বাহারি', 'দরজা', 'মহারাষ্ট্র', 'চৌম্বকীয়', 'যাত্রীদের', 'কানিজ', 'আলোর', 'থাকলে', 'যন্ত্রানুষঙ্গ', 'আসেননি', 'গাজী', 'শূন্য', 'সাতকানিয়ায়', 'গতি', 'পদক্ষেপ', 'ক্রয়বিক্রির', 'সুব্যবস্থা', 'সভার', 'উপমন্ত্রী', 'বসলেন', 'মোট', '১৪', 'নয়জন', 'খেয়াল', 'ব্রিজের', 'মোস্তফা', 'দেওয়া', 'পড়ুক', 'শাহারা', 'উত্সবস্থল', 'বেগম', 'ছাল্লাল', 'সামসুল', 'সামাজিক', 'আসছে', 'উচ্চারণও', 'গ্রামেগ্রামে', 'সাম্প্রদায়িক', 'করিব', 'নিবন্ধিত', 'পরামর্শমতো', 'দেখলাম', 'মেয়ে', 'দুই', 'সহায়তানির্ভর', 'অনুনয়ই', 'গাধানগর', 'শুধুই', 'পার্কের', 'সিমেন্টইটবালুর', 'রাখে', 'বিষয়টা', 'সাক্ষীর', 'গান্ধীর', 'মধ্যেও', 'তোরা', 'নীতিনির্ধারকেরা', 'প্রতিষ্ঠাবাষিকী', 'চায়', 'গণিত', 'অত্যাচার', 'হেরা', 'প্রবৃদ্ধি', 'কোরিয়া', 'প্রধানমন্ত্রী', 'প্রকরণ', 'অ্যাকাউন্টেন্সি', 'থাকবেন', 'ধর্মই', 'ফ্যাক্টর', 'ছড়িয়ে', 'তাঁরা', 'আয়োজনে', 'সংঘর্ষ', 'দ্য', 'নৌযানকর্মীদের', 'একবার', 'বৈতরণী', 'প্রকট', 'নড়বড়ে', 'ঐতিহ্যবাহী', 'নামতে', 'পেরেছেন', 'প্রলয়ংকরী', 'তোলার', 'পালন', 'পার্টি', 'সজলের', 'গানরাজএর', 'ভোট', 'নারায়ণগঞ্জে', 'মামুলি', 'লাঠি', 'কর্মীদের', 'প্রযোজনা', 'জলপুলিশ', 'একআদালতচ্যালেঞ্জখারিজকরেগার্দিওলারঅনুকূলেরায়দিয়েছেন', 'দিনে', 'দেখাতে', 'আরটিভিতে', 'নাতাশা', 'আয়তন', 'ঈদে', 'রাজত্বের', '৫২০', 'ছেড়েছে', 'রাষ্ট্রগুলোর', 'কেন্দ্র', 'বিষয়টি', 'গুণ', 'আরজি', 'আসন্ন', 'পাল্টা', 'টাকায়', 'এবিএম', 'ভবনে', 'এসেছেন', 'মৃত্যুসংবাদ', 'দুদিন', 'গাওয়ার', 'সৌন্দর্য', 'সকাল', 'আত্মনির্ভরশীল', 'মামলার', 'চাইব', 'অদ্ভুত', 'আবেগের', 'রচিত', 'সংস্করণগুলোরও', 'কারণেই', 'সাজিয়েছিল', 'হাতপা', 'বালতিতে', 'উপাখ্যান', 'যুবতীর', 'ঝুঁকিপূর্ণ', 'গোপন', 'নিজের', 'বাজারে', 'সূত্র', 'শেরপুরের', 'কবিতার', 'চেষ্টা', 'সিলেকশনও', 'এলাকায়', 'মেলায়', 'লিচটেনস্টেইন', 'ইহাকে', 'বেগ', 'আমিনিজেওএটাবুঝতেপারিনা', 'ইউনিভার্স', 'তত্ত্বে', 'অনুশীলন', 'প্রশংসাও', 'মলম', 'সাঁতারপুলের', 'তনিমাও', 'জরুরিভিত্তিতে', 'স্পিকার', 'তাদেরছেড়েআসারকারণটামিলানসমর্থকরাবুঝতেপেরেছে', 'বিশ্ববিদ্যালয়', 'দেয়', 'প্রতিবন্ধী', 'গতিটা', 'ফিকশনটির', 'দলের', 'টিভি', 'যৌথভাবে', 'হকসহ', 'ব্যথার', 'ফেলেছ', 'লোকবল', 'পাত্রপাত্রী', 'মেয়েকে', 'খুন', 'ক্যালসিয়াম', 'চাপা', 'শব্দের', 'হলিউডের', 'তিনিই', 'ডাঙায়', 'ধর্ষণের', 'রইল', 'বলতেন', '৮৩০', 'হারাতেই', 'ধ্বনিত', 'জেলেরা', 'সেটির', 'তিশা', 'লুসিড', 'বইকি', 'নিরুত্সাহী', 'কোম্পানিটির', 'হায়াত', 'একযোগে', 'ষড়যন্ত্র', 'ঈশপের', 'দাবিদার', 'পেছাতে', 'মুস্তাফা', 'সন্দিহান', 'নিয়ন্ত্রণে', 'যাবতীয়', 'হামলা', 'শহরবাসী', 'ধরেননি', 'চাকরির', 'প্রশংসার্হ', 'জন্যই', 'বল', 'তদন্তের', 'অপু', '০৮৩০', 'জাতীয়', 'যেমন—যাত্রী', 'শোন', 'উদ্বোধন', 'সরেজমিনে', 'সড়কটির', 'ফিলিপ', 'পর্দায়', 'নানা', 'জন্টি', 'চলে', 'সময়সূচি', 'নিচ্ছে', 'ফতেয়াবাদরামদাশহাট', 'গঠিত', 'ছেলে', 'বিশ্বাস', 'গণতন্ত্র', 'মানে', 'আন্তরিকতা', 'ফোনো', 'পরপরই', '২০১০', 'প্রশিক্ষণ', 'গোলার', 'অধ্যবসায়', 'আসামি', 'মায়াও', 'আমীন', 'ডালি', 'খবরের', 'দেখিয়েছে', '৩৫৫', 'কর্মকর্তারা', 'যন্ত্রণা', 'লেন', 'মহা', 'ভারতীয়', 'প্রতিবাদ', 'পর্যায়ে', 'অন্ত্যমিল', 'নূপুর', 'অন্তর্ভুক্ত', 'শাড়ি', 'লিখিতভাবে', 'টিমওয়ার্ক', 'হতে', 'সোয়া', 'গান্ধীজি', 'জুড', 'শ্রুতিমধুর', 'পরিবেশের', 'সেমিফাইনালভাগ্য', 'মোটরসাইকেল', 'লৌহচক্রের', 'বিশ্বাসে', 'বাংলায়', '১৯৮৯', 'প্রতিযোগিতাটাও', 'গেল', 'দুর্ঘটনায়', 'সামলানোর', 'নির্বিঘ্ন', 'আসবেন', 'সমঝদার', 'তকমা', 'মসলিন', 'রচনার', 'দুর্ভোগ', 'উন্নয়ন', 'নড়েছে', 'ছিটকে', 'ধূমকেতু', 'স্মৃতির', 'আনুষ্ঠানিক', 'ক', 'মন্দার', 'সুলতানার', 'বাস', 'মঙ্গলজনক', 'দুপুর', 'সমাজকে', 'হেরাই', 'বেরাও', 'উদ্দিনের', 'শতাংশের', 'ও', 'অঞ্চলে', 'বাস্তবে', 'সংগীতায়োজনের', 'আসলে', 'স্ক্রিন', 'পরিক্রমা', 'মুকুটনাইট', 'কুলপদ্বী', 'সৃষ্টি', 'আর্জেন্টিনা', 'জোবার্ট', 'পুরুষমানুষ', 'আকমল', 'গুলো', 'দুপুরের', 'কম্পিউটার', 'তীরে', 'যেনতেন', 'লোকলস্কর', 'সংযুক্ত', 'চার', 'পারবেন', 'পাকা', 'মহানগর', 'প্রচণ্ড', 'খেলাটা', 'প্রভাবিত', 'সূত্রে', 'কোবাদের', 'গুরুত্ব', 'ভালো', 'কান', 'দলবদলের', 'এখনো', 'আওলাদও', 'সড়কটি', 'দুইটা', 'খান', '৪৮টি', 'বিসিসি', 'কায়াড়', 'বাণিজ্যিক', 'সেবান', 'শাণিত', 'লড়াই', 'হূদয়', '৬০', 'শাখার', 'সাংবাদিক', 'দুগ্ধশিল্পের', 'সবচেয়েবেশিসমস্যাহয়মানুষকেবোঝাতে', 'সামর্থ্য', 'চোখ', 'কান্নায়', 'একই', 'হিট', 'নিয়েছিলেন', 'ভাড়া', 'জোগানদাতা', 'হিন্দুদের', 'দেহ', 'অবদান', 'পেসারেরসংখ্যাএখনঅনেকবেশি', 'দলকে', 'বেরিয়ে', 'দেশটির', 'মিছিল', 'পর্যায়ক্রমে', 'উজ্জল', 'পারেননি', 'ব্যাপার', 'আগে', 'মরিয়মের', 'মিলন', 'পারফরমারদের', 'কোয়ান্টাম', 'গেলেন', 'রপ্ত', 'নতুনপুরোনো', 'জীবন', 'চাইলে', 'দেবদাশ', 'ডিএসইর', 'অমিতাভ', 'আবারও', 'সুবর্ণার', 'তারিখ', 'থাকলেন', 'শুশ্রূষা', '১৭ক', 'দুগ্ধশিল্পকে', 'মান্য', 'বা', 'তরুণীর', 'সামুদ্রিক', '২০০৯', 'নির্বাচনের', 'র্যান্ডির', 'বৈশিষ্ট্য', 'হিলস', 'সরকারের', 'সংযম', 'বাড়ান', 'তারকা', '৪টা', 'মৌসুমে', 'আদায়', 'ছাড়িয়ে', 'সক্রিয়', 'বিজয়ী', 'বানানো', 'আজিজুল', 'বিয়ে', 'রাষ্ট্রীয়ভাবে', 'অন্যটি', 'লিংকস', 'ইস্তাম্বুলে', 'কয়েকবার', 'নাট্যব্যক্তিত্ব', 'আশা', 'রমা', 'মাস্টারি', 'অব্যাহত', 'উঠেছিল', 'প্রতিষ্ঠিত', 'আশায়', 'নজরুলের', 'শিগগিরই', 'খসড়ায়', 'ম্যারাডোনার', 'হেসে', 'সন্দেহ', 'ধীর', 'লড়তে', 'সুরাহা', 'জ্যৈষ্ঠ', 'তখন', 'শিল্পাশেঠি', 'চালায়', 'কৃতিত্ব', 'অত', 'প্রতিযোগিতাহীনভাবে', 'চিন্তাই', 'বুধবার', 'চৌধুরী', 'পানীয়', 'সাংসদের', 'নীতিনির্ধারক', 'শেষ', 'দখলদারির', 'শিল্পচর্চার', 'সাহস', 'ক্ষেত্রেই', 'বলার', 'এবং', 'বানানোর', 'বাণিজ্যমন্ত্রী', 'মোহরা', 'উপস্থাপিকা', 'চলাচলে', 'লক্ষ্যহীন', 'মাওবাদীরা', 'থাকতেই', 'তাকালেন', 'রিসোর্টে', 'এইখানে', 'পথ', 'অন্যরা', 'পাটেল', 'তাইই', 'ঘটেছিল', 'করমচাঁদ', 'বললাম', 'নির্যাতিত', 'নামতেও', 'সংঘর্ষকালে', 'সিহাব', 'রতন', 'প্রেসিডেন্ট', 'সিডি', 'লম্বরীপাড়ার', 'শেয়ারবাজারের', 'কিংবা', 'দুতিন', 'আলাপআলোচনা', 'বাজেট', 'জরিপকাজ', 'মাধ্যমে', 'স্বয়ং', 'সাহসিকতার', 'আগের', 'টাইটেলে', 'ছেলেটা', 'চাঁদের', 'শিল্পীকে', 'রাত', 'স্ক্রিনের', 'কুমার', 'রাজনীতিবিদ', 'দর্শন', 'মাদকতা', 'ধ্বংস', 'সন্তান', 'সত্যি', 'রক্ষা', 'ব্যাহত', 'মাঝিমাল্লাদের', 'অশিক্ষিতের', 'দুইটায়', 'রাজতন্ত্রে', 'জায়গাটির', 'সুরভি', 'সাড়ম্বরে', 'ঞ', 'অবধারিতভাবে', 'সুন্দর', 'হংকং', 'পারিনি', 'ব্যথায়', 'সরয়ার', 'রানের', 'আসতেন', 'আহসানকে', 'হাজারো', 'বলয়', 'পোশাকশিল্প', 'ঘণ্টার', 'করছে', 'এসো', 'অনভিতপ্রেত', 'নারীই', 'গুরুতর', 'সেবিকা', 'ব্যবস্থা', 'জানান', 'বিয়ের', 'লিপ্ত', 'শিকার', 'পার্লামেন্টেও', 'যাঁরা', 'অভিজাত', 'মান্না', 'মেলা', 'আনার', 'দেখানো', 'কেটেছে', 'জায়গায়', 'সাংস্কৃতিক', 'হোয়াইল', 'শাহরুখ', 'যেখান', 'দক্ষিণপশ্চিমাঞ্চলে', 'ছোট', 'চক্র', 'তথ্যমেলার', 'পড়ুন', 'আস্থা', 'অঙ্গনের', 'পড়ালেখা', 'কর্মচারী', 'ঘাটতি', 'শহর', 'বাধা', '০১৭১৫২৪১৭২০', 'আফছারুল', 'গেমস', 'ফিফটি', 'সংগীতে', 'প্রতিবেদনে', 'শিরোধার্য', 'রিকশাচালক', 'আয়োজন', 'হূদয়কাড়া', 'এক্স', 'পেইনের', 'ছাপিয়ে', 'ম্যাগাজিন', 'টের', 'মাধবের', 'সোহরাব', 'পরিচালিত', 'যুদ্ধের', 'মায়ের', 'ওরসের', 'বিনামূল্যে', 'দাবি', 'খোলামেলা', 'ছেলের', 'অস্ট্রেলিয়া', 'দিঘিটির', 'ওল্ফ', 'পালক', 'চমত্কারিত্ব', 'পড়লেন', 'পরম', 'সবাইকে', 'কার্তিক', 'মাহফুজ', 'শ্রোতারা', 'চিত্রনাট্যকারকে', 'সম্পর্কহীন', 'উঠল', 'এটাকেইবড়করেদেখতেহচ্ছে', 'অনুরোধ', 'এখানেওখানে', 'শিখিয়েছে', 'রাষ্ট্রকে', 'নাটকটিতে', 'ধোনিরা', 'ঘুড্ডি', 'বিদ্যুতের', 'জেলগেটে', 'প্রতিযোগিতা', 'প্রার্থী', 'তা', 'উদ্ধার', 'দুপুরে', 'বোঝা', 'নিয়ন্ত্রণকারী', 'ঙ', 'আওয়ামী', 'দলটির', 'পার্লামেন্ট', 'সিটি', 'অতি', 'অফিসের', 'আইনগত', 'ব্লানচার্ড', 'সুযোগ', 'স্বপ্নবিলাসী', 'অসন্তোষ', 'করুন', 'হব', 'ডগস', 'চিরচেনা', 'যাতে', 'লোটাস', 'খুবই', 'সাতটি', 'শিশুশ্রম', 'কথা', 'মুক্ত', 'অনুষ্ঠানটিকে', 'কথাও', 'বউ', 'সুবর্ণা', 'কথায়', 'মরতে', 'দিয়েই', 'উন্নয়নের', 'যোগ', 'মাধবকুমার', 'পেয়েছে', 'আক্ষেপ', 'গুটিয়ে', 'পরিণত', 'কানকে', 'দুতিনটি', 'পণ্যের', 'নাচটি', 'টেলিফিল্ম', 'তাগিদ', 'ব্যক্তিত্বেও', 'পায়নি', 'করা', 'সেনাপ্রধানকে', 'কোম্পানিতে', 'অজুহাতে', 'লাইনচ্যুত', 'মনোযোগ', 'বহুতল', 'ইরেশ', 'ব্যবহার', 'বাস্তবতা', 'আর্থিক', 'রীতিমতো', 'বিতর্কে', 'মার্কিন', 'চকরিয়া', 'কোন', 'শ্রাবন্তীকে', 'স্থানীরা', 'কার্যাদেশ', 'নেপাল', 'বিদ্যালয়ের', 'নাজু', 'আকর্ষণের', 'বাজারজাত', 'গ্রেনেড', 'সাইকেলওয়ালা', 'যয়', 'মোফাজ্জল', 'অপ্রতুল', 'নির্বিঘ্নে', 'পর্দা', 'আলম', 'উপস্থাপিকাদের', 'গাইড', 'সর্বক্ষণিক', 'প্রশাসকের', 'সাধন', 'ক্ষতের', 'মির্জা', 'সংশ্লিষ্ট', 'কম', 'চাঁদ', 'এক', 'মাননীয়', 'দৈর্ঘ্য', 'ছিনতাইকারীরা', 'সুবিধা', 'রাউজান', 'বিস্তারিত', 'পেয়েছেন', 'চৌধুরীর', 'মাধ্যম', '১০', 'শামীম', 'ধৈর্যের', 'আনন্দমিছিল', 'আনন্দমেলা', 'নেতাকর্মীকে', 'ভাষায়', 'জীবনে', 'দৌলা', 'স্ট্যান্ডটি', 'লিখছি', 'আবিদের', 'বাংলা', 'একটু', 'চলিত', 'বিনিময়ে', 'গেলাম', '১২টি', 'প্রেরণা', 'আকরাম', 'তো', 'কিনছে', 'সাচিবিক', 'সিডএ', 'সিডির', 'পরিচালনা', 'আহ্বান', 'বসিয়ে', 'অক্ষর', 'উত্তর', 'তপুর', 'পার্শ্ববর্তী', 'আলমগীর', 'আজও', 'পুলিশ', 'নেপালকে', 'সাতকানিয়ার', 'অবমুক্ত', 'উনি', 'এগার', 'আলোকে', 'চিরদিনের', 'জানল', 'মনে', 'যাদের', 'ফোটার', 'নিতে', 'কার্পণ্য', 'সংস্করণের', 'পারফরম্যান্সে', 'প্রবৃদ্ধির', 'শিক্ষামূলক', 'আবদুল', 'খুঁতখুঁত', 'বন্ধু', 'প্রাথমিক', 'চালাচ্ছে', 'মানুষটিকে', 'স্কুলমাঠে', 'টানা', 'স্বাস্থ্য', 'দখলদারেরা', 'ছবিটি', 'খাত', 'হইবার', 'টিনা', 'বাপু', 'ভগবান', 'সভাপতি', 'মহেশখালী', 'তোলা', 'রিসোর্ট', 'দিয়াবাড়ী', '১৯৯২', 'তাই', '২০', 'অন্যান্য', 'কিলোমিটার', 'দেয়ালে', '১৯৯', 'সুখবর', 'নিজে', 'কঠিন', 'চ্যালেঞ্জার', 'চলছে', 'তিন', 'প্রখ্যাত', 'সর্বাগ্রে', 'মাসে', 'বানু', 'পরিমাণ', 'যত্ন', 'মহাযুদ্ধপরবর্তী', 'কংগ্রেসের', 'মণ্ডল', 'প্রত্যাবর্তন', 'কোথাও', '৬১৩৫', 'কালোত্তীর্ণ', 'উপভোগ্য', 'কারাগারে', 'শ্রোতাদর্শকের', 'কুঁড়েঘরের', 'কিন্তু', 'নারীর', 'Lynk', 'হেমন্ত', 'জবাবও', 'ভক্তই', 'বিভাগটি', 'আমিষের', 'পারতেন', 'সেন্টারে', 'উপজেলা', 'করিতেছি', '৮', 'সময়সাপেক্ষ', 'পৌঁছাল', 'ঈশ্বরের', 'পরিবারে', 'পদ্মায়', 'নিষ্ঠার', 'সেগুলোর', 'সংলগ্ন', 'প্রবাল', 'ক্যামেরার', 'চক্রবর্তী', 'সেবাব্রত', 'ঘটনা', 'বহুজাতিক', 'পয়সা', 'আমিষ', 'বলতে', 'জুয়া', 'ঝোলায়', 'বাসায়', 'বন্ধুর', 'আক্রমণের', 'আগ', 'মাওবাদী', 'শিবের', 'হার্ডিঞ্জ', 'গিল্ডে', 'ম্যাচের', 'পরিবার', 'আপনারা', '৫১', 'প্রতিবছরই', 'লেজার', 'বাচ্চা', '১২—এই', 'দুমাস', 'সংস্কৃতিমুক্ত', 'থাকাকালে', 'সূচনা', 'অভাব', 'অধিগ্রহণ', 'তদারক', 'ধারাবাহিকতাই', 'অন্যমাত্রা', 'নকে', 'সেটা', 'লবণ', 'সাঁকো', 'দেননি', 'পুুষ্টি', 'টিভিম্যাগাজিন', 'প্রাণে', 'দিনরাত', 'দৃঢ়', 'পত্রিকায়', 'উদ্যোনে', 'সুপারিশের', 'ভবিষ্যতে', 'পা', 'প্রেমি', 'আহমেদকে', 'অভিনয়শিল্পী', 'আন্তরিক', 'রউফ', 'আলাদাভাবে', '১৫', 'প্রণয়ন', 'সম্পত্তি', 'আদর্শের', 'পদের', 'পাননি—এমন', 'বটে', 'গড়া', 'ছেড়েছেন', 'চিত্র', 'রিকশাচালকেরা', 'নওশীন', 'মুস্তাফিজুর', 'লাল', 'লেখক', 'প্রাণবন্ত', 'জার্নি', 'মেলে', 'হেরোইন', 'এগো', 'যাওয়া', 'প্রথমেদুএকটাদলকথাবলেছিল', 'স্বার্থে', 'রাজনৈতিকভাবে', 'এসএলআর', 'দ্বিতীয়', 'উপজেলার', 'অ্যালবামে', 'যদিও', 'নূপুুরের', 'কুলকানী', 'কারণও', 'শ্রোতাদের', 'পুলএকটাকারণতোবটেই', 'নয়', 'লাগার', 'ক্ষেত্র', 'নাটককে', 'পেয়েছি', 'এভারেস্ট', 'উত্তীর্ণ', 'অন্তহীন', 'দায়িত্বে', 'ওকে', 'ব্যবহারে', 'ব্যবহারের', 'বয়কটের', 'মাধব', 'সেপ্টেম্বর', 'পূর্ণতার', 'লতার', 'প্রধান', 'পলাতক', 'গঙ্গাযাত্রার', 'শোনা', 'বিনা', 'দ্বীপ', 'নিচে', 'নির্মাণ', 'ভ্রাম্যমাণ', 'তিনিও', 'মূসা', 'বেঁধে', 'আহমদ', 'প্রথম', 'রিঙ্কুর', 'প্রতিরোধ', 'দেবেশচন্দ্র', 'জন্য', 'কাষ্ঠকেও', 'আয়োজনের', 'লিখতে', 'থামিয়ে', 'সেঞ্চুরিয়নের', 'ভাইয়ের', 'ব্যাপারটি', 'চ্যানেলেই', 'মাথায়', 'দাঁত', 'শোনার', 'প্রেটোরিয়ায়', 'বাক্যে', 'উপস্থিতি', 'সুবিদিত', 'মাঝেমধ্যে', 'চমক', 'সমস্যায়', 'সেলিম', 'ধারাবাহিকে', 'রিকশাও', 'পরা', 'হিংসাবিদ্বেষ', 'এঁদের', 'নোটিশের', 'সুযোগে', 'শীতলক্ষ্যায়', 'অমিতাব', 'পুঁজি', 'অবশ্য', 'লাগছে', 'মিলবে', 'কর্তৃপক্ষের', 'বলিয়াছেন', 'ধরাই', 'মিল্কভিটার', 'আমরা', 'বয়সে', 'যেভাবে', 'ভাগ', 'টাঙানো', 'নাসির', 'সত্তরে', 'মিতুকে', 'ঘণ্টাই', 'মিয়ার', 'কাইফ', 'পারছে', 'রাজনীতির', '১৮৬৯', 'মাঝেমধ্যেই', 'সেনাবাহিনীর', 'দুটিতে', 'চলচ্চিত্র', 'সুদৃষ্টি', 'শিপনের', 'মেনেই', 'পাহারায়', 'পাচ্ছিলেন', 'অনুকরণং', 'চলেনি', 'এশিয়ার', 'সহযোগিতা', 'শীতকালে', 'নেপালে', 'দুবছরের', 'থাকতে', 'নিরাপদ', 'ছোটবেলায়', 'কোচ', 'অপেক্ষা', 'গ্রাফিকস', 'নিয়তি', 'শেখবাড়ির', 'জানুয়ারিপরবর্তী', 'বাজান', 'লৌহ', 'হলেন', 'ভাউচার', 'সেরে', 'চত্বরটিতে', 'বঙ্গবন্ধু', 'খাঁ', 'কথাটি', 'ইন্ডিয়া', 'টাকার', 'শ্রেণীর', 'আশ্রমটি', 'দীপিকা', 'ক্ষমতা', 'দেখিলাম', 'জুড়ে', 'হাল', 'শিক্ষাবিদসহ', 'কড়া', 'মাস', 'সহকারী', 'আলোচিত', 'গলা', 'পর', 'দে', 'হেমা', 'দেন', 'শুরুই', 'বলো', 'তাপে', 'বজায়', 'সানজিদা', 'ভূঁইয়াবাড়ি', 'ওয়াদা', 'রাধানগর', 'তিনি', 'করল', 'জহিরুল', 'ভিডিও', 'উচ্চবিদ্যালয়', 'সুমনের', 'নীতিগতভাবে', 'প্রশিক্ষণশিবিরে', 'অভ্যন্তরীণ', 'তানভীর', 'অতিথি', 'গেছেন', 'কুতুবুদ্দীন', 'উল্লেখযোগ্য', 'ফুটবল', 'বাণীতে', 'বেইলি', 'ধরলেন', 'মাহবুবুল', 'প্রশংসা', 'রাজনৈতিক', 'পরিষ্কার', 'আদালত', 'উত্পাদনে', 'গানটি', 'দিচ্ছে', 'ভবন', 'চুক্তি', 'দৃষ্টিতে', 'রণবীর', 'কৃষিবিজ্ঞানীরা', 'যেত', 'রূপকল্প', 'সংগীতায়োজন', 'অফিস', 'সাধ্যমতো', 'প্রতিপক্ষের', 'আপনিই', 'লিংক', 'পাততে', 'উত্তেজনা', 'ভণ্ডের', 'জিতে', 'থেকে', 'চাঁদাবাজি', 'গাওয়া', 'সিরাজউদ্দৌলার', 'চালানো', 'সাত', 'অস্তিত্ব', 'গ্রামোন্নয়নে', 'ইসলামিক', 'নাট্যধারা', 'ভাষার', 'বাঁচি', 'দেখিয়েছেন', 'বলয়ের', 'নবীনের', 'আর্ব', 'তেলগ্যাসই', 'নিজেও', 'একবারই', 'ঘাট', 'সম্পর্কে', 'জয়াগে', 'দেখবেন', 'মা', 'খেয়ে', 'কাহিল', 'পাগলা', 'বাস্তবায়িত', 'লাভজনক', 'মাঠে', 'টক্কর', 'ইউনিয়নে', 'কাহাকে', 'হোসেন', 'ছেলেটি', 'থাকার', 'সৈয়দ', 'ব্যর্থতার', 'সুর', 'শনিবার', 'তাইতিনিকারওপক্ষেবাবিপক্ষেকোনোমন্তব্যকরবেননা', 'পড়ায়', 'ফলাও', 'কমপ্লেক্সে', 'জনগণ', 'wwwforumnokiacom', 'সংযাত্রা', 'সাফল্য', 'জন্যও', 'দায়সারা', 'হোক', 'পপগানও', 'কণ্ঠটি', 'বনাম', 'হক', 'আহমেদ', 'কাছ', 'মিটিয়ে', 'যায়', 'পিঠ', 'হেমন্তকুমার', 'শুরুতে', 'থাকেন', 'করেছি', 'পর্যন্ত', 'দেখছি', 'দিলে', 'উদ্যোগ', 'চার্জ', 'প্রকারে', 'ডায়মন্ডসহ', 'ইতিহাসের', 'মশাল', 'ধারাবাহিকতায়', 'মাওবাদীদের', 'সংস্কৃতি', 'সিদ্ধান্তকেই', 'কর্তব্যরত', 'ফাল্গুনী', 'শিক্ষাই', 'দূর', 'ভাবছেন', 'ঢেঁকি', 'নিয়মিত', 'সাতকানিয়া', 'গ্রাম', 'উপলক্ষে', '১৯৮', 'চেষ্টাও', 'বানারীপাড়া', 'ঊর্ধ্বতন', 'মেকআপ', 'পরদিন', 'ঘোলাটে', 'পুসান', 'স্বীকার', 'সেতুটিও', 'ভবনের', 'বাংলাদেশ', 'মরিয়ম', 'ভীতসন্ত্রস্ত', 'স্বাস্থ্যহীন', 'বেশিরভাগপছন্দনীয়খেলোয়াড়ই১৬বছরেরবেশিবয়সী', 'বিদ্যুত্', 'বিশ্বব্যাংকের', 'শাওন', 'সহযোগিতারও', 'শিক্ষাকে', 'হলেও', 'ধারাকে', 'গুরুচণ্ডালী', 'খিলাড়ি', 'দর্শকের', 'কাদের', 'সুনীল', 'হচ্ছে', 'অহিংসা', 'ববি', 'আস্থাশীল', 'একদিক', 'শেয়ার', 'সান্যালের', 'কমিশনার', 'হারলে', 'জ্বলে', 'অনুষ্ঠানমালায়', 'সীমানা', 'ক্ষমতায়', 'পরিকল্পনা', 'চ্যানেলের', 'পদ', 'রক্ষায়', 'রানার', 'দক্ষতা', 'সুরে', 'সমালোচনা—সবই', 'ফেরদৌস', 'পরিচয়', 'পড়াশোনা', 'কাজকর্মও', 'ফজলে', 'সম্পূর্ণ', 'কাজটা', 'একটির', 'আশঙ্কার', '20201105', 'সালাহউদ্দিন', 'গানচিলেরই', 'পান্থ', 'নচিকেতার', 'নৌযান', 'সাধু', 'আবিদা', 'কিনা', 'মডেলশিল্পী', 'মারাত্মক', 'লিখতেই', 'মানবিক', 'ছাড়াই', 'উদ্বোধনী', 'দাঁড়াচ্ছে', 'অসম্পূর্ণ', 'জড়িয়ে', 'অনুসন্ধান', 'অসম্মানজনক', 'মেরুদণ্ডের', 'শুভ', 'পিতৃপ্রতিম', 'সবসে', 'ঘটেছে', 'কাশ্মীর', 'পড়ল', 'থাকলেই', 'গোল', 'এখানকার', 'ওর', 'চিরপ্রতিদ্বন্দ্বীদের', 'পাকিস্তানে', 'ফিরলেন', 'মহাথের', 'হাড়', 'ভিডিওচিত্র', '১২', 'গান্ধীজির', 'প্রচুর', 'সিড', 'বলিয়ে', 'অবস্থার', 'বড়ই', 'উইকেট', 'সংবাদপত্রের', 'ফেলবে', 'কবিতা', 'আলোচনা', 'জঙ্গিবাদ', 'দেখেছিলাম', 'ম্যানিলাথেকেযেখানেবাসেযেতেসময়লাগে৬ঘণ্টা', 'বেরিয়েছে', 'চাইতে', 'মহাত্মা', 'আশ্চর্য', 'উদ্যানে', 'শূন্যপদ', 'অন্যদিকে', 'ব্যাখ্যা', 'যেগুলো', 'আনোয়ারের', 'বিদ্রোহ', 'জানিয়েছেন', 'বিনিয়োগকারীদের', 'প্রগাঢ়', 'পরিস্থিতি', 'সাত্তারের', 'হাসানের', 'ফেনসিডিল', 'অবস্থাও', 'সম্মেলনের', 'সম্মেলন', 'উপহার', 'প্রচল', 'যিনি', 'জ্যাকলপস', 'বেজে', 'এমনটাই', 'হিন্দুমুসলমান', 'টাকা', 'স্বাস্থ্যের', 'দিবারাত্রি', 'আহমদকে', 'হুট', 'সভাপতিত্বে', 'অনুযায়ী', 'মীমাংসার', 'প্রমাণ', 'সমালোচনা', 'কাদা', 'আত্মত্যাগ', 'স্থাপনা', 'করছি', 'অুনষ্ঠানের', 'নেটওয়ার্কিংয়ের', 'শুনে', 'কালিয়া', 'বাজারগুলোর', 'নৃত্য', 'অনিমেষ', 'পদই', 'রাতকানা', 'মোবাইল', 'মমতায়', 'দক্ষিণে', 'রিচি', 'আগ্রহের', 'তাজ্জব', 'ভাগফল', 'ভক্তকে', 'শ্রীদেবী', 'অনীকের', 'জনপ্রিয়তার', 'বিশিষ্টজনেরা', 'মানুষই', 'ভাই', 'পর্বটি', 'জেগে', 'গ্লাস', 'দিয়েছেন', '৮০তম', '২৩০', 'পক্ষে', 'জমির', 'মাহাদীর', 'কমলে', 'পারবে', 'ধীমান', 'নিয়েছে', 'স্ত্রীপুত্র', 'ধুলোবালিতে', 'ধ্যানস্থ', 'গুড়ে', 'পারি', 'খোলে', 'লাইগদুনো', 'দখল', 'অ্যালবামটির', 'চেয়ে', 'অডিশন', 'সেলিনা', 'গ্রেপ্তার', 'ন্যস্ত', 'টিকে', 'বাঁকা', 'নাড়ছে', 'সন্ত্রাসীদের', 'সোডিয়াম', 'কেন', 'সদস্যও', 'আশার', 'পঞ্চায়েতের', '৬৩৮টি', 'র্যাপভয়েস', 'তদন্ত', 'করছেন', 'সেসব', 'অনুসারীরা', 'হবে', 'ভারতবর্ষ', 'একজনমে', 'লাইগ্গা', 'রোকেয়া', 'উত্পাদন', 'সদাহাস্য', 'বাধাগ্রস্ত', 'বিজ্ঞাপনদৌরাত্ম্যের', 'পৌঁছাতে', 'মধ্যরাত', 'সঙ্গেও', 'পাঁচছয়', 'সংরক্ষণের', 'পরিমিতিবোধ', 'বিচরণ', 'দপ্তরে', 'একত্রে', 'দীক্ষা', 'ক্লাস', 'গল্পটা', 'অমরিশ', 'তুলে', 'ক্ষুব্ধ', 'বিভাগে', 'সোপর্দ', 'ভিড়', 'সলক', 'ঐক্য', 'লস্করইতাইয়েবার', 'সাবলু', 'শক্তিশালী', 'গানেও', 'অর্জন', 'সকালে', 'শত্রুতার', 'চিকিত্সকেরা', 'মেরামত', 'উপস্থাপনা', 'পড়ালেখায়', 'উচ্চারণে', 'আউটসোর্স', 'এজেন্সি', 'মতো', 'উজ্জ্বল', 'ক্ষতি', 'দেখতেও', 'ভবিষ্যত্', 'তেরো', 'নামকরণ', 'পুষ্টি', 'ভুগছেন', 'অসংখ্য—দিয়ে', 'নোয়াখালীতেও', 'আকতারী', 'সহজে', 'খাবারের', 'পাশের', 'নীতির', 'কিছুটা', 'সূর্যতরুণে', 'মামলা', 'জেলাগুলোর', 'বোঝায়', 'দিকের', 'পক্ষের', 'হারা', 'মানুষজনই', 'আগেই', 'শিক্ষক', 'জনমতের', 'ভরাট', 'ভাবতে', 'সাজিয়েছেন', 'ভাবাই', 'চেপে', 'বললেন', 'প্রাধান্য', 'শুটিং', 'অনুষ্ঠানের', 'কৃত্রিমতার', 'কাঁচামালের', 'মূলপর্ব', 'পীড়াদায়ক', 'বাকি', 'সাঁতরে', 'একগাদা', 'httpswikiubuntucomDevelopmentCodeNames', 'লোকাল', 'জবাব', 'সিগারেট', 'সাম্প্রতিক', 'বাবুরাম', 'দাঁড়াবে', 'কীভাবেই', 'এদের', 'জন', 'হ্যারল্ড', 'ব্র্যাক', 'এলাকা', 'অলিভার', 'রইছ', 'লাভলুর', 'পৃথিবীকে', 'মান', 'বচ্চন', 'নির্ধারণ', 'মন্ত্রীদের', 'নিবন্ধন', 'প্রাচুর্যের', 'তাহলে', 'প্রাঙ্গণে', 'বৃদ্ধার', 'চেয়েছিল', 'প্রথমে', 'এসইসির', 'মাঝে', 'সম্ভাবনার', 'দেশের', '20201130', 'জানি', '৫০৫', 'জরিপকাজের', 'লাভলু', 'মুঠোফোন', 'বাড়িতে', 'আহা', 'প্রিয়', 'যৌনকর্মীর', 'শেখানো', 'একদম', 'কাশ্মীরিকে', 'কোনোমতে', 'পরিশোধ', 'রেজিস্ট্রি', 'জয়াগের', '৭২', '৫', 'বিটিভির', 'চ্যানেলগুলোতেও', 'লঘু', 'রাজধানীর', 'যেমনটি', 'সহকর্মীদের', 'ছেলেমেয়ে', 'পরিমাণ—', 'হোসেনকে', 'গতানুগতিক', 'সিনেমায়', 'স্থাবরঅস্থাবর', 'কানাডা', 'গোলামিকালের', 'বর্তমানে', 'গিললে', 'এনটিভিতে', 'দাস', 'শান্ত', 'রিমঝিম', '১৩১৪টি', 'নেতৃত্ব', 'গেলে', 'শি', 'সংঘর্ষও', 'বাঁচান', 'একরকম', 'স্মৃতিগুলো', 'মেয়েসহ', 'কারণটা', 'হোটেল', 'চারজনের', 'বাস্তবের', 'সেনাবাহিনী', 'চলছি', 'কহিতেও', 'ধর্ম', 'অর্থে', '19300201', 'ঠিকানার', 'বিদ্যালয়মহাবিদ্যালয়গামী', 'রাস্তার', 'প্রদর্শনী', '৪৯২২', 'হুকুম', 'নির্মাণপদ্ধতির', 'দিতে', 'ইব্রাহীম', 'কৃষিজীবন', 'রণবীরের', 'তাঁরধারণা', 'দুটিকে', 'টিভিতে', 'ভয়', 'অনুষ্ঠান', 'বাংলার', 'ওরাসাড়েপাঁচলাখটাকাপ্রস্তাবদেয়', 'মাই', 'দরপত্র', 'পুলটুলেরকথাবলেতাদেরপরিস্থিতিটাবোঝানোরচেষ্টাকরি', 'এবারই', 'কান্তি', 'ঢং', 'ফেলুন', 'কিংস', 'আপনি', 'কাহিনীর', 'কিডসজোনে', 'সংস্কার', 'পূজার', 'অহিংসাই', 'বরকলে', 'আন্দোলনলড়াইয়ে', 'অনুরাধা', 'অন্য', '২৮৬৮টি', 'নেতা', 'কংগ্রেস', 'বিশেষ', 'আলাদা', 'দাঁড়িয়ে', 'আইএমএফের', 'আছে', 'মনোনীত', 'দেহের', 'হতাশাজনক', 'অথচ', 'আড্ডায়', 'পরিচিত', 'অধিকারের', 'রাঙামাটি', 'অথবাটিটোয়েন্টিবিশ্বকাপওহতেপারে', 'সুনির্মিত', 'দিকে', 'শাহ', 'ঘোষের', 'শরত্কালীন', 'দশায়', 'দেখার', 'আরেকটি', 'ডলার', 'মানবাধিকার', 'নিলেন', 'অভিভাবকের', 'এটা', 'উদ্ভাবনী', 'পানি', 'পেসারদেরব্যাপারেদলগুলোরঅনীহারকারণকীবলেমনেহয়', 'কবিতাছন্দঅন্ত্যমিল', 'নিয়েছেন', 'ধারায়', 'হেভ', 'চলত', 'পৌঁছেছেন', 'জলিল', 'নিয়ন্ত্রণ', 'জানালেন', 'হাকিম', 'নিরুদ্দেশ', 'সপ্তাহ', 'শুরুর', 'অবহিত', 'আবেগ', 'আঞ্চলিক', 'অন্যান্যবারের', 'দেশব্যাপী', 'অধ্যক্ষ', 'উত্তমের', 'ব্রাজিল', 'আবহ', 'যোগ্যতা', 'ওয়াহিদা', '৩৩০', 'সংবিধান', 'হিসাবটি', 'মমতা', 'বিচার', 'ওটা', 'ইংর্যান্ড', 'শুনিনি', 'অপরদিকে', 'প্রতিদিন', 'সর্বাঙ্গসুন্দর', 'হানাহানির', 'অধিকাংশ', 'ব্যাটারিতে', 'অসচ্ছলতা', 'রামবরণ', 'কথাটিও', 'যাঁকে', 'ইঞ্জিনচালিত', 'সারাটা', 'যেন', 'হাতিয়ার', 'গ্রহণযোগ্য', 'কাউন্সিলের', 'জানানো', 'উচ্ছেদ', 'সেই', 'নাট্যকারকে', 'অসাধ্য', 'চালিয়ে', 'পোশাক', 'চুরি', 'সীমা', 'মধুসূদনসাহাদুটিমামলায়আসামি', 'ব্যান্ডগুলোর', 'সময়', 'বেশি', 'কারসাজি', 'ওয়েবসাইটে', 'জায়গার', 'ইংল্যান্ড', 'বাবাও', 'একসময়', 'টিনার', 'তেমন', 'সত্যজিতের', 'প্রয়োজন', 'যৌক্তিকতাও', 'অনেকগুলো', 'সংখ্যাবিষয়ক', 'দুন', 'দৃষ্টিকোণ', '১৪০তম', 'মেক', 'অমার্জনীয়', 'এগিয়ে', 'হিসেবে', 'নাই', 'ইকবাল', 'নেতৃত্বে', 'করজোড়ে', 'মাসব্যাপী', 'পড়ছে', 'ট্রাস্ট', 'পলিসি', 'রাখত', 'শনবাগ', 'দুধ', 'এখনোতোঅনেকপেসার', 'হাইস্কুলের', 'দলিলের', 'পুলিশে', 'রূপকল্পেও', 'পেলাম', 'আলোড়ন', 'কাপড়ের', 'মুম্বাইয়ের', 'ভাঙার', 'পূর্ণিমা', 'ছন্দে', 'ভালোবাসেন', 'মাদকের', 'জন্মদিনে', 'হামলায়', 'লাগলেও', 'ভাইকে', 'তাহের', 'করপোরেশনের', '১২টা', 'সংকেত', 'বাগেরহাট', 'ঘনফুটে', 'তথ্য', 'ব্যতিক্রমী', 'অনন্ত', 'দুটোকেই', 'পৃথিবীর', '১০বার', 'হাওয়ার', 'গণতন্ত্রের', 'বসেই', 'সেগুলো', 'শাসকদের', '১২৩০', 'শুরু', 'আসে', 'এখানে', 'ইজ্জত', 'আকুতি', 'বিপ্লব', 'সহযোদ্ধা', 'গিয়ে', 'চরাচর', 'রচনায়', '১০০', 'মদ', 'বিনোদ', 'চণ্ডীপুর', 'চারপাশে', 'কবির', 'থাকা', 'যার', 'নাটক', 'সেটাও', 'ওপরের', 'আবর্তে', 'অনুগত', 'শায়েস্তা', 'ঢাকাসহ', 'শিশু', 'অলিম্পিয়াড', 'অশ্লীলতা', 'নৌকায়', '২০২৫', 'তারাবলে', 'উপস্থাপিত', 'উদ্দেশ্যে', 'দিয়েছিল', 'বোদ্ধাজন', 'ইচ্ছেটা', 'বাই', 'যোগাযোগ', 'আধিপত্যের', 'সুপার', 'লন্ডন', 'সামরিক', 'পক্ষ', 'এবারের', 'আন্দোলনে', 'চিকিত্সাধীন', 'গাইলে', '২৩', 'নয়ন', 'অসুস্থতার', 'ট্রাস্টের', 'মাঠেও', 'ব্যবস্থাপনা', 'বৃদ্ধা', 'দ্বিগুণ', 'উদ্যমে', 'রুনা', 'বয়সভিত্তিকফুটবলেবাংলাদেশবরাবরইভালোকরেএসেছে', 'শ্রমিকদের', 'র', 'গায়ক', 'থমকে', '১৯৭২', 'সাহেব', 'নামও', 'আঙ্গিকে', 'ঈদের', 'বিজ্ঞাপনের', 'ওয়াটসনছাড়াটানাতিনইনিংসেশূন্যআছেআরও৪১জনের', 'এফওয়ানআইটি', 'অঞ্চলের', 'কর্তৃক', 'যে', 'আমিন', 'শিশুকিশোরদের', 'দক্ষ', 'পিন্দে', 'গাড়িও', 'কাশ্মীরে', 'মাত্রাতিরিক্ত', 'মেলোডিপ্রধান', 'নিবেদন', 'তালিকা', 'সিএনজি', 'ছেলেকে', 'গেম', 'আবৃত্তি', 'লোকেশনগুলো', 'কয়েকটি', 'রিয়াজ', 'বসতি', 'কথাকাটাকাটি', 'আহসান', 'অত্যন্ত', 'স্তরে', 'ডিয়েগো', 'হামলার', 'লালন', 'বহুজনের', 'দক্ষতার', 'কুিসত', 'মাত্র', 'দেখি', 'বলেছেন', 'কেউই', 'সহায়তা', 'একটুও', 'বিজ্ঞানের', 'বদরখালী', 'জেলায়', 'বিটিভি', 'বলেছিলেন', 'নামের', 'সংসার', 'আপাতত', 'ক্রমেই', 'নিধনের', 'উপপরিচালক', 'সভা', 'পেরিয়ে', 'বাজারের', 'তিনটি', 'নীতিমালা', 'অরুন্ধতী', 'খোয়া', 'সাঁতারুরা', 'আশাবাদ', 'সংরক্ষণ', 'ইন্দোরে', 'কমে', 'সাইজ', 'বিনোদনমূলক', 'দিনই', 'প্রাণপণে', 'সাক্ষী', 'ঘরে', 'চ্যানেলে', 'তারুণ্যের', 'দেশিবিদেশি', 'স্বাগত', 'ইংরেজি', 'বিছানো', 'বুঝি', 'রহমান', 'স্থানীয়', '১৬টিই', 'উত্পাতে', 'বিভাগের', 'ইচ্ছা', 'নির্বাচনে', 'কেরানীহাট', 'এসেছি', 'সর্বত্র', 'সকালের', 'মারা', 'কিনতে', 'রুমানার', 'করে', 'প্রকৌশলীকে', 'লাগানোর', 'সর্বকনিষ্ঠ', 'উঠছে', 'রাখতে', 'পেরোতে', 'হয়েছিলেন', 'দৈনিক', 'পুরস্কার', 'বিরতির', 'বক্তারা', 'মূল্যে', 'শাসননীতি', 'অভিনয়ে', 'নাটকীয়তার', 'মিঠুন', 'দেহতত্ত্ব', 'পরিচালনায়', 'খেলাই', 'পরিচালক', 'বইয়ে', 'জ্বলছে', 'বাবু', 'আইন', 'সম্ভাব্য', 'সঠিকভাবে', 'মূলমন্ত্র', 'উঁচুতলার', 'বন্ধ', 'ছেড়ে', 'প্রযোজিত', 'সড়কের', 'বাড়ে', 'প্রতীক্ষা', 'মুগ্ধ', 'সামলাতে', 'বিশেষজ্ঞ', 'দখলদারদের', 'অসাধারণ', 'অসুখ', 'যত', 'সুরভির', 'করেছিলেন', 'চোরেরা', 'বিশ্বে', 'কাগজ', 'বলি', 'পাওয়া', 'স্টাইল', 'মৃত্যু', 'কোরো', 'পরত', 'তারকাকেই', 'হোঁচট', 'টেনশন', 'জোড়া', 'পেলেন', 'প্রথাগত', 'নদীগুলোর', 'ঝাড়ু', 'সম্পর্কই', 'মিলিয়ে', '20201230', 'নিরাপত্তাব্যবস্থার', 'একজনকে', 'বৈঠক', 'সড়কগুলোর', 'সেটটি', 'স্থায়ী', 'আনন্দ', 'তারাও', 'আপনাদের', 'নূরজাহানকে', 'ব্রিটিশের', 'নাটক—ভালোবাসা', 'অনুষ্ঠানগুলোর', 'দৃশ্যগুলো', 'বলছে', 'অপচয়', 'আশ্রমে', 'একলা', 'হইয়া', 'জয়াগ', 'এপি', 'হারে', 'সংবাদ', 'অবস্থান', 'থেকেছি', 'বারের', 'ম্যান', 'মানুষটি', 'আমাকেবিক্রিকরাটাক্লাবেরপ্রয়োজনেই', 'করেছিলাম', 'মাহলুমা', 'প্রাক্তন', 'সুচিন্তিত', 'গাড়ি', 'কাউন্সিল', 'খাবারদাবার', 'সংকেতের', 'নিসবাটও', 'চিংড়ি', 'বক্তা', '২৮৮৭টি', 'টেলিনাট্য', 'স্ট্রিট', 'মেয়েটিকে', 'নিঃসঙ্গ', 'বিরতি', 'অনেকটুকুই', 'গেয়ে', 'আজ', 'বর্ণিল', 'দীপককে', 'সম্ভবত', 'পত্রসাহিত্য', 'ছয়', 'প্রতিরক্ষা', 'উপস্থাপন', 'মুন্না', 'রাখেনি', 'মারাঠি', 'ওজারতির', 'তাড়নাও', 'ফিরতে', 'চেয়েছিলেন', 'তখনখুববিব্রতহতেহয়', 'সদ্ব্যবহারে', 'গিয়েছে', '৫০০', 'লেখা', 'ইটের', 'চরিত্রগুলোতে', 'আয়োজকেরা', 'সবে', 'অভিজ্ঞতা', 'আটজন', 'নই', 'খেলা', 'বিষয়ে', 'জোহানেসবার্গে', 'থাকো', 'ভক্ত', 'বৃদ্ধাশ্রমের', 'আশপাশের', 'প্রাদেশিক', 'সংগীতের', 'একেক', 'ধান', 'চেয়ারম্যান', 'আপনার', 'এসব', 'বংশের', 'প্রতিশ্রুতি', 'এর', 'অপ্রাসঙ্গিক', 'মাপের', 'চোখের', 'বিতর্কের', '৬৫', 'ঋণের', 'জীবকোষ', 'কীভাবে', 'যশোরেরঅভয়নগরউপজেলানির্বাহীকর্মকর্তাপ্রত্যাহার', 'জানুয়ারি', '২', 'চিঠি', 'পরের', 'দিনের', 'রয়েল', 'ব্যাপারটা', 'ওসব', '20201205', 'আলীর', 'ভিডিওতে', 'ইন্ডিজ', 'পাপেটরাও', 'এবার', 'দায়বদ্ধতা', 'বিধ্বস্ত', 'ব্যতিক্রম', 'রিডিফাইনড', 'উত্সবের', 'সমুদ্রবক্ষের', 'একে', 'সহযোগী', 'গানই', 'চলমান', 'আফ্রিকা', 'দাতব্য', 'অধিকাংশই', 'জড়িত', 'অনেকেই', 'ভূমিকায়', 'সংগীত', '৪৮', 'থুবড়ে', 'পল্লব', 'বাবাড়', 'স্পর্শ', 'তুলতে', 'কটি', 'তথ্যপ্রযুক্তি', 'কর্মকর্তার', 'রামগঞ্জ', 'বস', 'মূল', 'রোজ', 'পাই', 'গ্রামগঞ্জে', 'মোটরসাইকেলে', 'প্রকৃতি', 'সিডএর', 'দাঁড়াতে', 'খোদ', 'গ্রামে', 'সার্বভৌমত্বকে', 'উপক্রম', 'কারণে', 'করছিলেন', 'ইসলাম', 'স্টার', 'করাও', 'করিলাম', 'তরুণ', 'জানলে', 'সিরিয়াস', 'ভূঁইয়াবাড়ির', 'ফতেপুর—একের', 'হোসাইন', 'ছাত্রবেতন', 'স্পষ্ট', 'দিয়ে', 'জিতল', 'হুদা', 'আমাকে', 'কর্মশালাও', 'নির্বাচিতএককিশোরযেতেইপারলনাপাসপোর্টনাথাকায়', 'লোকেরা', 'দলে', 'সাংবিধানিক', 'ঝ', 'সঙ্গী', 'অর্থায়ন', 'নমুনা', 'মিয়া', 'মৃত্যুকষ্টকে', 'কাটালাম—গানই', 'আগামীকাল', 'কর্তৃপক্ষ', 'এন্ড', 'আর', 'পাওয়ায়', 'পর্যন্তও', 'লেনদেন', 'সম্মেলনে', 'এবারও', 'দেয়নি', 'মাইল', 'মেহেদি', 'সকলের', 'পিসিবিসভাপতিকীভাবেএটাবলেনবুঝতেপারছিনা', 'অনীক', 'সংবাদমাধ্যম', 'সবাইবলেপেসারছাড়াইনাকিদলহয়', 'চমত্কার', 'বন্দ্যোপাধ্যায়ের', '১১০০', 'রাজ্যে', 'দুর্বৃত্তরা', 'মেলার', 'সাবলীল', 'খুব', 'শুনতে', 'বাড়ছে', 'শাহরুখের', 'সমাধানে', 'অলস', 'নিপীড়িত', 'উচ্চবেতনের', 'সীমাবদ্ধতা', 'বৈচিত্র্য', 'নিপতিত', 'যেতে', 'সাক্ষীদের', 'কনসার্টগুলো', 'কিশোর', 'দেবেন্দ্রনারায়ণ', 'নিজ', 'ডেকে', 'ভূমিকাকে', 'ক্ষুণ্ন', 'করার', 'মম', 'মাপতে', 'বড়', 'কাউন্দিয়া', 'চলচ্চিত্রসংশ্লিষ্ট', 'কালবেঁচেগেছেনআরেকটিলজ্জাথেকে', 'হোয়াইট', 'আশ্বাস', 'আটায়', 'যাবে', 'এফবিসিসিআইয়ের', 'একে৪৭', 'দিগন্ত', 'কহে', 'নিহত', 'করত', 'সোজা', 'বিপ্লবের', 'দাসের', 'এতটুকু', 'পড়ান', 'নিজস্ব', 'আন্তর্জাতিক', 'দিক', 'খাদ্যই—রোগ', 'পোশাকপরিচ্ছদটাও', 'দেড়', 'ভিটামিন', 'শিক্ষানীতির', 'পায়ে', 'সাংসদদের', 'নাটকে', 'গিটার', 'আজগুবি', 'ছিলেন', 'কার্যকর', 'আসা', 'ওয়াসা', 'ব্যস্ততম', 'মো', 'টুইঙ্কল', 'অনুষ্ঠিত', 'ওতপ্রোতভাবে', 'কাজ', 'কামরান', 'দাঁড়ান', 'পালের', 'দুটির', 'জেনে', 'মাহমুদের', 'চিহ্নিত', 'তবু', 'দুজন', 'গণআন্দোলন', 'পদধূলি', 'ব্যান্ড', 'মিল', 'হার্ডি', 'কলেজে', 'প্রহার', 'সাজানো', '১১টি', 'বিশ্ব', 'যুদ্ধ', 'মন', 'ধামাইল', 'প্রয়াতের', 'আছেনতিনবাংলাদেশি—হাবিবুলবাশার', 'বিনিয়োগ', 'ঘন্টা', 'পৃষ্ঠপোষকতা', 'আবদুস', 'ইন', 'ফোর্ড', 'সেটি', 'সুমঙ্গল', 'অনীককে', 'লিখেছেন', 'এসেছিলেন', 'টেম্পোচালকেরা', 'রকমের', 'লাগেনি', 'খুঁজলে', 'হানিফ', 'মোহে', 'মাঝ', 'রূপান্তর', 'হওয়ার', 'ফর্মুলায়', 'হাসপাতাল', 'দুধের', 'সেদিকেই', 'পদপ্রত্যাশীরা', 'আসনসংখ্যা', 'টিভির', 'বিপাশার', 'কাপাসিয়া', 'দীননাথ', 'কয়েল', 'যানজট', 'ইট', 'চারজন', 'সেনাবাহিনীতে', 'উচিত', 'ধরত', 'এত্তোটুক', 'ছিলাম', 'হাঁকডাকে', 'স্থাপনের', 'একাডেমীর', 'বসাতে', 'কোনটি', 'এতগুলো', 'শুনি', 'বাধ্য', 'ফলে', 'শিক্ষককে', 'আমোদ', 'কমিউনিকেশন', 'খাবার', 'নিশ্চয়ই', 'সবাই', 'ব্যবসা', 'আমিকেনপাইনা', 'নৌপরিবহনমন্ত্রী', 'শাহজাহান', 'সেখানেও', 'আসবেন—এই', 'শিল্পী', 'ছাপা', 'নজর', 'বুঝিয়ে', 'সোলায়মান', 'গোছের', 'ডোমিনিকার', 'জাতিকে', '০৯০০', 'দেখেন', 'পালিয়েছে', 'বিজ্ঞাপনে', 'গাঁয়ের', 'ওগো', 'দুর্বলতা', 'মিরাকল', 'নেত্রী', 'আরেফিন', 'গায়কিতেও', 'ওয়েব', 'উপস্থাপকদের', 'বিশ্বব্যাংকআইএমএফের', 'স্থাপন', 'বিদেশ', 'সঙ্গে—সম্পর্কই', 'অর্জনে', 'কনে', 'আনন্দে', 'বিশ্রাম', 'অফিসে', 'মাথার', 'ছ', 'জমিদার', 'পাড়ুকোনের', 'এলিটা', 'প্রিমিয়ার', 'বিধবা', 'শূন্যতার', 'দার্শনিকের', 'নৃত্যশিল্পীর', 'একইভাবে', 'সদস্যরা', 'পুরো', 'বাদশাহ', 'বুঝেই', 'চ', 'আইলা', 'অসংখ্য', 'বছরে', 'লাইট', 'বরাবর', 'বিবাহিত', 'অর্থনীতি', 'দেখিয়ে', 'পাশ্চাত্যের', 'চলেছেন', 'যাতায়াতের', 'প্রতিষ্ঠানগুলো', 'আয়তনে', 'ইত্যাদি', 'আনোয়ার', 'অর্গানবাদকের', 'ইচ্ছেমতো', 'জার্মান', 'হেনস্তা', 'অদিত', 'একুস্টিক', 'শীর্ষনেতা', '৬', 'ফতেয়াবাদের', 'নালিতাবাড়ী', 'শোনেন', 'সচল', 'বসুধা', 'ব্যয়', 'নিয়েও', 'পরার', 'অব', '১৯৮২', 'টিম', 'তাকাতেই', 'রামগঞ্জে', 'এটাই', '৬০১', 'ঈদউত্সব', 'কার্যক্রম', 'যেদিন', 'ফিরে', 'কনটেন্টের', 'হামিদ', 'অবসরে', 'অভিযান', 'মিলার', 'বলত', 'হাঁটাচলা', 'অস্ত্রবহুল', 'শিক্ষকের', 'স্নাতক', 'কাঁচা', 'প্রশ্ন', 'ধীরে', 'সঞ্জয়', 'বিচারপ্রত্যাশীরা', 'আমরাই', 'এজেন্টই', 'নিতান্তই', '১০টি', 'বর্তমান', 'রাষ্ট্র', 'কথাই', 'মতবিরোধ', 'টেলিভিশন', 'অবজ্ঞাঅবহেলা', 'শুক্রবার', 'দেখতে', 'এহছান', 'বইসহ', 'উত্পাদনক্ষমতা', 'আশ্রমের', 'যুক্তরাষ্ট্রেও', 'তুলেছেন', 'টানাপোড়েন', 'প্রযোজক', 'ঘৃণ্যতম', 'অভিনয়জীবন', 'কীত্তনখোলা', 'বিভাগ', 'প্রকৌশলী', 'সালে', 'প্রকল্পের', 'সাঁতারপুলে', 'রাতও', 'অপূর্ব', 'স্রেফ', '৬০টি', 'দারুচিনি', 'বিসিবিরকাছথেকেএব্যাপারে', 'এটিও', '৫৫৫', 'চিনি', 'সান্ত্বনা', 'প্রচার', 'কোষ্ঠকাঠিন্য', 'টেকনাফ', 'নেতিবাচক', 'বিদ্যালয়ে', 'দিকনির্দেশনা', 'মেয়র', 'ডাউলিনকে', 'অসহিষ্ণু', 'এককথায়', 'দিনভর', 'মৌলিকতা', 'দেওয়াও', 'শিকারের', 'গ্যাসের', 'ধোনিও', '20201202', 'পর্যাপ্ত', 'ঝগড়া', 'মেজবাউর', 'নাচ', 'যাত্রা', 'সাল', 'এসবের', 'পড়ত', 'শুষ্ক', 'কিছুতেই', 'সেভাবেই', 'অপারগতা', 'অনেককেই', 'দূরপাল্লার', 'ক্যারিয়ার', 'কাদামাটি', 'স্কুল', 'চাল', 'হন', 'অ্যাসিস্ট্যান্টের', 'ইটবিছানো', 'সংস্থাগুলো', 'জামিনে', 'উল্টো', 'দাদাস্য', 'বিয়েটা', 'যা', 'আধাশহুরে', 'সেরা', 'শাহাবুদ্দিন', 'অনুপাত', 'নির্বাচন', 'সশস্ত্র', 'নার', 'সংগ্রহ', 'কর্মজীবন', 'পেলেই', 'বিক্ষোভ', 'ব্যক্তির', 'যাকের', 'স্বপন', 'গ্যাসভিত্তিক', 'রক্তশূন্যতা', 'আলো', 'চরিত্রটি', 'তিশমার', 'সবল', 'প্রতিরোধে', 'রূপরেখা', 'রাস্তা', '৭', 'রক্ত', 'মুসলমানেরা', 'লায়লার', 'অনুমোদিত', 'খাতুন', '১৭টি', 'জেলে', 'ভবনটি', 'অনেকটাই', 'প্রজন্মের', 'ভাইটি', 'শোনান', 'ছাড়া', 'শয্যার', 'ছবিতে', 'ঘেরা', 'কেরানির', 'নিমগ্নতা', 'দিয়েছি', 'নাতে', 'অবসান', 'কিছু', 'বিক্রেতাদের', 'মর্যাদা', 'জনসাধারণের', 'অপরাধপ্রবণতা', 'পড়িয়াছি', 'তামিম', 'স্টাডিজ', 'বাজে', 'লেগেছে', 'সি', 'সুপারিশ', 'খামছে', 'লাগিয়ে', 'কলাকুশলীসহ', 'সামলানো', 'আড়াই', 'পাঠের', 'মিলে', 'বিঘ্ন', 'অনুসরণ', 'নাট্যসম্প্রদায়ের', 'ঊর্ধ্বে', 'আবু', 'স্ত্রীর', 'ধোনি', 'ব্যাংকের', 'তাড়াতাড়ি', 'মেড', 'একুশে', 'কিরিবাতিকে', 'কাপুর', 'অনুসারীকে', 'বিচারের', 'উঠে', 'নষ্ট', 'প্রচারের', 'সমালোচিত', 'জনশক্তিকে', 'শোধনাগার', 'কর্মক্ষম', 'ক্ষেমানন্দ', 'আমার—দুজনকেই', 'গতিটাকে', 'বলিউড', 'দুটি—কবিতা', 'মাঝখানে', 'ব্রত', 'মেরামতের', 'এমনই', 'গানচিল', 'কাজের', 'ভারত', 'অস্থিতিশীল', 'আগ্রহই', 'আমিশা', 'দুছেলে', '_END', 'দেখবে', 'অনুপযোগী', '১৯৪২এর', 'তত্পরতা', 'নগরে', 'চালু', '১১১০', 'চাই', 'জেলার', 'START_', 'দিনগুলোতে', 'সংগত', 'চিঁড়ে', 'সচেষ্ট', 'মহানগরের', 'জল', 'যেমন', 'বিজ্ঞপ্তিতে', 'দুবার', 'ক্ষণ্ডকালীন', 'বয়সী', 'পড়েছিলাম', 'রয়েছেন', 'এদিকে', 'অভিযোগ', 'এতে', 'বুঝতে', 'এত', '২১', 'রাস্তাও', 'পড়ছি', 'অর্থনৈতিক', 'তিনবার', 'ওদের', 'ঘনফুটের', 'শ্রমিক', 'পাঠক', 'পদক্ষেপের', 'হাতকে', 'অধরাই', 'উত্সবে', 'ঠিকানা', 'সিএস', 'সবুজশান্ত', 'জানার', 'গাছতলায়', 'নগরের', 'চেন্নাই', 'গৃহবন্দী', 'পরিশ্রম', 'জয়ের', 'আসতে', 'হলকা', 'হায়দার', 'কাটানোর', 'ব্যবসায়ী', 'ফাঁড়ি', 'প্রমাণিত', 'মিলিত', 'অবকাঠামোগত', 'সংবাদের', 'অনুসন্ধানের', 'ভানিব', 'সঙ্গে', 'দেশে', 'তাঁহাদের', 'তারপরও', 'মনিস্বপন', 'জেগেছে', '২০০৩', 'সম্ভাবনা', 'নোভা', 'জোড়ায়', '৬৭', 'আপ', 'হ্যাঁ', 'বলছেন', 'বালু', 'অস্ত্রশস্ত্র', 'হলিউডে', 'পাঁচজনের', 'পেতেই', 'স্পিরিট', 'মেগাওয়াট', 'বুকার', 'রহমতউল্লাহ', 'ছিনতাইয়ের', 'সতর্কবার্তা', '৪০০', 'মতামতের', 'রাজ', 'অনুভূতি', 'সখ্যের', 'লিটার', 'চ্যাম্পিয়ানস', 'কলাম', 'বরাদ্দ', 'হাসপাতালে', 'আড়ালে', 'চলতে', 'হিন্দুরা', 'পদে', 'দিয়েছিলেন', 'উপস্থাপনায়', 'মাদার্শার', 'কাল্পনিক', 'যারা', 'ইসলামের', 'রক্তপিপাসু', 'আমিভাবলামএরচেয়েবেশিআরকেদেবে', 'মক্ত', 'কিছুই', 'অর্থাত্', 'করেছে', 'প্রসঙ্গে', 'ভোর', 'কমিউনিস্ট', 'গান', 'দ্বার', 'টিউমার', 'যোগাযোগব্যবস্থা', '২০৬১', 'চেয়েই', 'আয়ের', 'বছরখানেক', 'কাছে', 'বেলাইনে', 'আদর্শ', 'আসেনি', 'হার', 'তবেভালোখেলারচেষ্টাকরব', 'তলোয়ার', 'উচ্চবিদ্যালয়ে', 'হবার', '২৯৭', 'আশঙ্কাজনক', 'ভবা', 'সামনে', 'চলাচল', 'ডি', 'গীত', 'পারে', 'সংগ্রাম', 'পটিয়ায়', 'পারলেন', 'যুক্তরাষ্ট্রে', 'নাকি', 'সুনির্দিষ্ট', 'সংবর্ধিত', 'উপজেলায়', 'বালকের', 'হাড়ের', 'টেবিলে', 'সবার', 'গাড়ির', 'পেয়ে', 'জিতেন্দ্র', 'পুনরুদ্ধারের', 'জেদি', 'সিনেট', 'ওয়াজ', 'কাঁটা', 'শ্বেতাঙ্গ', 'বসের', 'গাইছি', 'গ্রুপিংলবিংয়ে', 'খেলাধুলার', 'দূরে', 'দৈর্ঘ্যের', 'ভালোই', 'সম্পর্ক', 'কবুল', 'ক্রীড়া', 'পাতায়', 'নাচের', 'ছাড়াও', 'স্পিকারের', 'পুরোপুরি', 'নদীতে', 'পরিপূর্ণ', 'দুর্ঘটনা', 'বলিলাম', 'হয়রানি', 'ধরনের', 'সাউথওয়েলস', 'সভায়', 'সেদিন', 'কয়েকটিতে', 'দমনের', 'বিব্রত', 'ফোনে', 'সুষ্ঠু', 'নারীসহ', 'নদীর', 'সবই', 'তৈরি', 'যাচ্ছেতাই', 'হোটেলে', 'থাকলেও', 'আজীবন', 'দর্শক', 'বিটিভিতে', 'নকশালদের', 'সম্প্রতি', 'বিজয়', 'কিছুক্ষণের', 'একধরনের', 'সরকার', 'দেওয়ার', 'শিল্পীদের', 'শিখিয়েছেন', 'বাংলাদেশে', 'পাঠানো', 'বরাবরের', 'গো', 'চাহিদা', 'দশটা', 'ছোটবড়', 'নিয়োগপ্রাপ্ত', 'বহুদিন', 'নৌপথকে', 'খুলে', 'হাফিজুর', 'বাহিনীকে', 'সেনা', 'কো', 'আহ্বানের', 'চশমা', 'ক্রান্তি', 'তাইওয়ান', 'খানের', 'সন্ধ্যার', 'তোর', 'নাট্যশালায়ও', 'স্লোভেকিয়া', 'আদায়ের', 'ডাকাতির', 'স্লোগান', 'পরে', 'শত', 'এন্ড্রু', 'সংকটের', 'ভাঙতে', 'উপাদান', 'রবীন্দ্রনাথ', 'সহিতেও', 'সিনেমাগুলো', 'বলিব', 'করেছেন', 'উপযুক্ত', 'মাদার্শা', 'সিনিয়র', 'অংশের', 'আদৃতের', 'আরও', 'কণ্ঠে', 'ইকুয়াল', 'করেই', 'ভুবনে', 'প্রীতি', 'আকবর', 'চট্টগ্রামসভার', 'টলিয়ে', 'টন', 'অন্তর্বর্তী', 'এটিকে', 'বৃদ্ধি', '—থাকে', 'অংশটুকুর', 'বণ্টনে', '১৯৪৬', 'শীত', 'দখলের', 'বয়ফ্রেন্ড', 'লাগানো', 'ভারতে', 'ফসফরাসযুক্ত', 'মুহাম্মদ', 'সুরের', 'দাম', 'নির্দিষ্ট', 'আইডিয়া', 'মজা', 'ঝুলে', 'এজেন্ট', 'কমিশনের', 'রয়েছে', 'ওয়াসিম', 'হামলাকারীদের', 'চালের', 'বিশ্ববিদ্যালয়ের', 'কেঁপে', 'করলেও', 'সিনেমার', 'চ্যাপ্টা', 'সুমন', 'একেবারেই', 'ভরপুর', 'ক্যায়সা', 'সুস্থধারা', 'ধারাটা', 'করি', 'সকালবেলা', 'চোয়াল', 'মাহমুদ', 'কলের', 'টু', 'জেমস', 'জমিদারবাড়িতে', 'আলোকিত', 'লোকজন', 'শিল্পীরা', 'উদ্যোগের', 'ইউনিয়নগুলোর', 'উদারতা', 'গেছে', 'যান', 'আজাদ', 'স্মৃতি', 'এম', 'গঠনে', 'তোলে', '৪০', 'ভুয়া', 'ওঠার', 'কাশ্মীরি', 'দুঃখ', 'বাঁধতে', 'পুলক', 'পাস', '২১৫', 'চূড়ান্ত', 'জমাট', 'শিক্ষার', 'বসদের', 'চলাফেরা', 'বিলিভে', 'বেড়ে', 'নতুন', 'সাদিয়ার', 'চৌধুরীকে', 'বাকী', '৫১৫', 'প্রতিষ্ঠাতা', 'শ্রীরামপুর', 'এখনই', 'করলে—হয়', 'বিচ্যুতি', 'বাহিনীর', 'ঘূর্ণিঝড়', 'সেবানকেও', 'গনপ্রজাতন্ত্রী', 'পরিদর্শনে', 'ভজন', 'ধ্যান', 'ইলেকট্রনিকসের', 'মামলায়', 'রিকশা', 'অনিয়মের', 'আমরাও', 'দক্ষিন', 'সরাসরি', 'মূলধারার', 'দেহের—সঠিকভাবে', 'ফুলদানিটি', 'নিয়মনীতি', 'আগেও', 'পাতার', 'জবাবে', 'মদের', 'উপস্থিত', 'বছর', 'দেখেছি', 'সম্প্রচার', 'আহ্বায়ক', 'স্বামী', 'কুসুম', 'মধ্যেই', 'ট্রফি', 'মাড়ির', 'দিন', 'নতুনদের', 'সমর্থননাকিতারাপায়নি', 'ফারুক', 'শামসুল', 'ব্রিটিশ', 'ক্যাম্প', 'যেকোনো', 'উদ্দেশ্যপ্রণোদিত', 'সাগরের', 'দীর্ঘ', 'একেবারে', 'জেল', 'সমস্যার', 'রেজা', 'ভাষা', 'কাদেরী', 'আটক', 'থাকে', 'অজ্ঞাতনামা', 'সমাবর্তনের', 'চালাচ্ছি', 'সমবেত', 'পারত', 'আইসল্যান্ডের', 'আচ্ছন্ন', '73', 'সিডরে', 'নানাজনের', 'বৈঠকে', 'আসিফের', 'প্রিন্স', 'আনন্দের', 'কর্মশালার', 'শাহাদাত্', 'স্বামীর', 'উদ্দিন', 'আনিস', 'নৌবাহিনীও', 'আবুল', 'ছাড়', 'অসুস্থ', 'পড়েছিলেন', 'অমানবিক', 'শিক্ষাক্ষেত্রে', 'দলবল', 'কর্মকর্তা', 'অনুপ্রেরণার', 'উচ্ছেদে', 'দুর্ঘটনার', 'প্রকাশ', 'যতই', 'ল্যাপটপের', '১৫২৫', 'অভিনেতা', 'সামাল', 'লাইনে', 'নয়টি', 'পরিস্থিতিতে', 'করতে', '163', 'ছটফট', 'ভাগে', 'রামধুন', 'ততখানি', 'মদনমোহন', 'চলচ্চিত্রের', 'এনেই', 'থাক', 'ঘণ্টা', 'ভট্টশালী', 'আটকে', 'লাইসেন্সের', 'পড়ে', 'হাঁটি', 'প্রকার—জীবিত', 'বেছে', 'চিত্রনাট্য', 'বরখাস্ত', 'করুণ', 'আওতা', 'কাছেই', 'ফতেয়াবাদ', 'দিকটি', 'খুশি', 'হূদয়ে', 'ফেলেছে', 'ভাইটা', 'দায়ের', 'দৃষ্টি', 'অনুষ্ঠানটির', 'সেরকম', 'চরম', 'আলমকে', 'ধন্যবাদ', 'আয়োডিন', 'সভানেত্রী', 'রোধকল্পে', 'টহল', 'শামসুর', 'বিজ্ঞাপন', 'অযোগ্য', 'চালাতে', 'মুখেড়', 'রাতে', '১১', 'চরিত্রটা', 'বাড়বে', 'ক্রসিং', 'আগুনের', 'ঢুকে', 'কোম্পানি', 'এককভাবে', 'সৌন্দর্যকে', 'মতিঝিল', 'ফাটল', 'পূর্বপাশের', 'একনায়ক', 'স্ত্রী', 'সঠিক', 'রাজ্জাক', 'মাসুম', 'রচনা', 'গ্রামের', '৩০টি', 'ধারা', 'সর্বজনীন', 'তৌকীর', 'অভিজ্ঞতাটা', 'লাভ', 'সার্বিক', 'বাংলাদেশও', 'প্রকল্প', 'মাছে', 'সন্দেহের', 'জল্লাদ', 'বুদ্ধির', 'গল্পটি', 'ঘটছে', 'পরিবেশ', 'সেটিই', 'জিল্লুরের', 'নাচগান', 'নিজেকে', 'টান', 'সেবিকাদের', 'বলে', 'হাতে', 'বিকল্প', 'তাঁকে', 'কণ্ঠ', 'নন্দিত', 'সুস্থ', 'মাহী', 'ধুতি', 'মাধ্যমিকের', 'হাট', 'সকল', 'স্ত্রীরাই', 'হওয়া', 'বিশেষভাবে', 'বক্তব্য', 'মুনশিয়ানা', 'কলিম', 'সমাধান', 'হওয়ায়', 'এতেও', 'লইয়া', 'পুরস্কারের', '’', 'পড়াচ্ছেন', 'বার্ষিক', 'আগলে', 'বয়সেও', 'বিভিন্ন', 'ধারণ', 'শাহেদ', 'অরণ্য', 'অহিংস', 'টেলি', 'ওই', 'প্রজ্ঞাপন', 'চেয়েছেন', 'শিশুরা', 'ড়', 'অনুকরণের', 'অভিনীত', 'সবাইকেই', 'মত্স্যসম্পদ', 'নেতাদের', 'দুর্নীতিমুক্ত', 'শেখান', 'পুকুরটিই', 'সদস্যদের', 'বৃত্তে', 'বৃন্দাবনের', 'বারবার', 'নির্বাহী', 'নিউজিল্যান্ড', '১৯১৪', 'ওকালতি', 'নাব্যতা', 'ফলস', 'আইচ', 'ফিজিকসে', 'জ', 'থাকায়', 'শক্তির', 'সত্ত্বেও', 'তাজিন', 'দরকার', 'আপস', 'ঘোষও', 'অসংকোচে', 'ব্যবস্থায়', 'অভিনয়গুণে', 'রাষ্ট্রপতির', 'সংলাপটি', 'পান', 'সরবরাহ', 'নাট্যমাতা', 'মুখে', 'সঙ্গেই', 'অহংকার', 'র্যাব', 'আইপিও', 'ব্যাংক', 'ইনডিপেনডেন্ট', 'বৃন্দাবন', 'সিদ্ধান্তের', 'বাঙালি', 'অক্ষয়', 'তুলনায়', 'শেখ', 'বি', 'পেতে', 'কেশবপুর', 'খ', 'অর্থনীতিবিদ', 'সেতু', 'খেলেছেন', 'চালান', 'পদ্ধতি', 'পেলে', '১১টা', 'ছেলেমেয়েদের', 'খুলবে', 'চট্টোপাধ্যায়', 'আত্মরক্ষার', 'কাহিনী', 'দুজনই', 'জুরে', 'চ্যানেল', 'যাতায়াত', 'পুনর্মিলনী', 'বৃহস্পতিবার', 'বলেননি', 'ইতিবাচক', 'গিয়েছিল', 'গুণের', 'ক্রেজ', 'পাড়ি', 'তালা', '000000', 'মানবতাবাদী', 'চীনের', 'উপত্যকায়', 'দশমিক', 'অন্তঃসারশূন্য', 'সাফ', 'আমাদের', 'পার', 'দুইই', 'যখন', 'মার্কা', 'পুষ্টিহীনতায়', '২১অক্টোবরএকটাঅন্যরকমপরীক্ষারমুখোমুখিহবেনকাকা', 'মুক্তির', 'রুমি', 'শুভেচ্ছা', 'গভীর', 'মাহবুব', 'প্রান্তেই', 'নিলে', 'দফা', 'উলুছড়ি', 'রসিকলাল', 'নইলে', 'আংশিক', 'রকিব', 'হতদরিদ্রদের', 'ঘটনার', 'বেড়াও', 'প্যাকেজের', 'সে', 'কিছুদিন', 'লীগ', 'বলিয়াছি', 'সম্পদেরই', 'জাপান', 'উইকেটকিপার', 'কুমারগো', 'গায়কভেদে', 'ফিলিপাইনেথাকাখাওয়াবাবদবাংলাদেশকে২২হাজারডলারদিচ্ছেনহাম্মাম', 'মেনে', 'ফিউশন', 'ওষ্ঠাগত', 'দর্শকদের', 'তাত্পর্য', 'অবলম্বনে', 'অটোরিকশাচালকেরা', 'কোমরে', 'পেসারদেরজন্যজাতীয়দলেঢোকারপ্রতিদ্বন্দ্বিতাবেড়েছে', 'একসঙ্গে', 'লাগত', 'বাবা', 'খুশির', 'আই', 'চললেন', 'হয়েছি', 'রাকিবুর', 'পুলিশের', 'মাটি', 'কতিপয়', 'স্বনামধন্য', 'পেয়েছিলেন', 'ঘটনাস্থলে', 'স্বরচিত', 'বাঁচবে', 'পাশাপাশি', 'কি', 'ভারতী', 'শিক্ষাপ্রতিষ্ঠানগুলো', 'ঘোষণাকারীরা', 'সিংগার', 'পারেন', 'সংগ্রামের', 'থেকেই', 'মোহনা', 'খ্যাতিমান', 'পানিতেই', 'কিলোমিটারে', 'ওপর', 'সহজবোধ্য', 'নেবে', 'চোখে', 'শিষ্যরা', 'ভট্টরাইয়ের', 'খাদ্যই', 'এআরওদের', 'চ্যানেলটি', 'জলাশয়', 'হুমকি', 'দি', 'হাসিনার', 'বিএনপি', 'গানেই', 'বাস্তব', 'ছোঁয়া', 'কথাগুলো', 'উইলিয়াম', 'মাইজভাণ্ডারীর', 'সাংবাদিকদের', 'পেয়েই', 'বিন্যাসে', 'অ্যাশলে', 'পাইলাম', 'জনবলসংকট', 'আশুতোষের', 'দোকানের', 'সম্ভব', 'ব্যবহূত', 'অন্তরীক্ষ', 'প্রকৃত', 'মঞ্চ', 'কে', 'লাগলেন', '১২০০', 'মেসন', 'সবচেয়ে', 'আসুক', 'কষ্টকর', 'প্রদর্শন', 'ভয়েস', 'বিকাশ', 'কেন্দ্রে', 'বাদ', 'আলী', 'ভাব', 'সেখানে', 'আগামী', 'নাড়তে', 'পরিবারের', 'নুরুল', 'বাঘ', 'ই', 'উত্পাদনেও', 'প্রশাসনের', 'নিশ্চয়তা', 'সাদামাটা', 'বৃদ্ধাশ্রম', 'কর্তৃপক্ষকেও', 'সুসম্পর্ক', 'লতা', 'কাপড়ে', 'পার্লামেন্টের', 'হিসাব', 'গড়তে', 'হেফাজত', 'গুনছে', 'ওয়ানডে', 'জিজ্ঞাসাবাদ', 'প্রবীণ', 'গান্ধীকে', 'গল্পের', 'প্রতিক্রিয়া', 'নাথ', 'অধ্যাপক', 'অধিকার', '৩০০', 'নেওয়ার', 'শত্রু', 'পরিমিতি', '১৯৪৮', 'সেম্যাচেমিলানসমর্থকেরাকীভাবেনেবেনএইব্রাজিলিয়ানফুটবলারকে', 'বেশির', '৯০০', 'অন্যত্র', 'ধরা', 'গায়কিতে', 'সেটাকেও', 'আকর্ষণীয়', 'শিল্পীর', 'বিদায়', 'নির্ভর', 'আইডিয়াল', 'মুখের', 'আশাবাদী', 'পায়খানা', 'আপত্তি', 'পড়াশোনার', '২০১৩সালেরমেজুনেচ্যাম্পিয়নসট্রফিরসম্ভাবনারকথাবলাআছে', 'অথচখাতাকলমেএসবচিনিবিক্রিহয়েছেবলেদেখানোহয়েছে', 'নাতিনাতনিতে', 'চ্যাম্পিয়ন', 'অন্তর', 'ডিভোর্সের', 'কামাল', 'প্রতি', 'ক্রিক', 'উপভোগ', 'কার্যালয়ে', 'ডাকার', 'অনুষ্ঠানসূচি', 'সাবেরী', 'ঠুকে', 'অনুষ্ঠানমালা', 'তবেহুইপেরবৈঠকেউপস্থিতব্যবসায়ীদেরকয়েকজনতদন্তেঅভিযুক্তহয়েছেন', 'তাঁর', 'উপসংঘরাজ', 'অডিশনের', 'অসমাপ্ত', 'পরিবেশনা', 'ভুলভ্রান্তির', 'বেলা', 'ওটিসি', 'শিখি', 'অর্থের', 'সতর্ক', 'ছাদ', 'আপনাকে', 'হস্তক্ষেপের', 'মোহন', 'খাওয়াদাওয়া', 'প্রতিপক্ষ', 'সেভাবে', 'অনুবাদ', 'অ্যান্ডোরার', 'সম্মাননা', 'জন্মের', 'বৃদ্ধের', 'মুভিটির', 'ক্ষুদ্র', 'আইটেম', 'অবস্থা', 'নেতাকর্মীদের', 'আশাপ্রদ', 'পেত', 'দ্বারা', 'মহলে', 'খাদ্যের', 'কোয়েলা', 'কাল', 'আবাসিক', 'আবিষ্কার', 'উদ্ঘাটিত', 'সময়ের', 'সংস্কৃতির', 'জনপদ', 'অডিও', 'বিকেল', 'তাহলেই', 'পারছেন', 'প্রয়োজনীয়', 'আসেন', 'সুমতি', 'নাটকেও', 'বীরশ্রেষ্ঠ', 'মন্ত্রী', 'যথাযথ', '২৯', 'সাম্পানওয়ালা', 'নাম', 'দেওয়ান', 'প্রতিটি', 'অর্থ', 'চিকিত্সকের', 'লিনাক্স', 'দুর্বল', 'সেমিস্টারে', 'শনবাগও', 'সংগ্রামে', 'জয়া', 'অনেকের', 'কয়েকজনকে', 'পৌঁছাইনি', 'চন্দ্রঘোনার', 'নীপার', 'ভারতের', 'সারাক্ষণ', 'সংলাপ', 'জনপ্রিয়', '৪৯', 'লক্ষ্য', 'এ', 'জেবিএল', 'এলআরবি', 'টাকাও', 'উপযোগী', 'জেলখানায়', 'ছায়ায়', 'পরিবর্তন', 'সদরদূরছড়ি', 'নবী', 'বাড়ি', 'এসময়', 'দারুণ', 'আরবি', 'এটিএন', 'খুঁজে', 'কামরুল', 'বিবেচ্য', 'অনুষ্ঠানটি', 'ঘরের', 'এদিন', 'পঙ্গু', 'ধার্মিক', 'দেখেছেন', 'কাউকে', 'সংবর্ধনা', 'বৈধতা', 'বাঙ্কের', 'আমমানুষ', 'প্রযোজনায়', 'কুঁড়েঘরটিও', 'পোহাচ্ছে', 'ইউনিয়নের', 'আকর্ষণ', 'বিএনপির', 'প্রজননস্বাস্থ্য', '১৬', 'গোপালনের', 'আব্দুর', 'দেওল', 'সুস্মিতা', 'রেখেছিলেন', 'অনুপস্থিত', 'ফেলে', 'নিবন্ধনহীন', 'পূবালী', 'রামুর', 'বয়ান', 'লোক', 'এমটিভির', 'নীরব', 'দর্শকনন্দিত', '২৭', 'কাউন্সিলে', 'শিখে', 'শিক্ষা', 'কমিটি', 'নোয়াখালীতে', 'পরিচালনায়ও', 'ভিশনেরই', 'uf06c', '২০টি', 'মার্ক্সবাদীলেনিনবাদী', 'ও—হয়', 'অস্তিত্বও', 'পর্বতের', 'রোগটি', 'আনন্দ—প্রতিটি', 'জন্ম', 'শব্দ', 'দ্রুতই', 'সৃষ্টির', 'ইতিহাসাজয়', '১৮৯৩', 'বাচ্চাদের', 'কর্মশালা', 'করপোরেশন', 'বাধার', 'যাচ্ছেন', 'পূর্ণ', 'অবশ্যই', 'রাখবেন', 'বিরল', 'দাবির', 'হলে', 'করেন', 'সৌভাগ্য', 'দেবগন', 'আভাস', 'ঈশ্বরপ্রীতি', 'জ্ঞানশ্রী', 'ঘুরে', 'কখনো', 'স্ট্যান্ডে', 'সান্ত্বনার', 'যাওয়ার', 'চলছিল', 'ঘটনায়', 'কিরিবাতিতে', 'যন্ত্রণায়', 'আড্ডা', 'একটা', 'লিখবেন', 'এসেছে', 'দেশপ্রেম', 'হিরার', 'ঈদগাহ', 'লিখিত', 'দেশগুলোর', 'আইএফসি', '৪৩০', 'আরেক', 'খরচ', 'বিশ্বাসী', 'দিয়া', 'মুসলমানদের', 'শাসকেরা', 'বিশ্বাসই', 'চার্টার্ড', 'রাজশাহীর', 'তেলের', 'উদ্যান', 'গানটিতে', 'তাঁরাও', 'ফরেন', 'বনে', 'চারটির', 'ঠিকঠাক', 'আইসিএলফেরত', 'মাত্রায়', 'পেশ', 'উচ্চারণগত', 'করবেন', 'আটটার', 'জানে', 'হতো', 'দুরবস্থা', 'পতাকা', 'শেখার', 'গণপিটুনি', 'সাবসিডিতে', 'ধানও', 'জনৈক', 'বদল', 'অপির', 'উত্তেজনার', 'দিঘির', 'পালনও', 'বিয়েই', 'সময়ে', 'দুটি', 'জুটিতে', 'উদ্দেশ্যের', 'ঘড়ির', 'শিল্পীদেরও', '৩৩', 'কঠোর', 'জিয়াউল', 'আলি', 'ভয়াবহতায়', 'করলাম', 'মূলত', 'মজ্জাই', 'সাড়ে', 'বানিয়েছিলেন', 'মুঙ্গেশকর', 'এভাবে', 'বটেই', 'বিপ্লবী', 'লিওটা', 'জনপ্রতিনিধিরা', 'ভানতে', 'প্রেম', 'হিন্দি', 'তত্পরতাও', 'প্রার্থনা', 'মাসুদ', '১১০৫', 'বৃষ্টির', 'পাঁচ', '৫০', 'তালিকায়', 'বাস্তবায়ন', 'ভূমি', 'কথার', 'ভাড়ায়', 'আনিসুল', 'জট', 'বেড়েছে', 'লোভক্রোধ', 'প্রতিযোগীরা', 'অভিনেতাঅভিনেত্রী', 'মনস্তাত্ত্বিক', 'এনটিভি', 'মনোনয়ন', 'স্থানে', 'মহানগরে', 'বসল', 'অ্যন্ড', 'নিপীড়ন', 'লারা', 'গুরুত্বপূর্ণ', 'সমান', 'ভদ্রজনের', 'আবদ্ধ', 'একাধিকবার', 'বাইরে', 'নিজেদের', 'চট্টগ্রাম', 'শরীর', 'সহজ', '২৪', 'বিশৃঙ্খলায়', 'বোটটাও', 'জ্বর', 'বানানটি', 'বিরক্তির', 'সুরও', 'গায়কি', 'গরম', 'আফ্রিকায়', 'পাকিস্তান', 'জাতির', 'রিমোট'}\n"
          ],
          "name": "stdout"
        }
      ]
    },
    {
      "cell_type": "code",
      "metadata": {
        "id": "WZKcnQkggNSa",
        "colab_type": "code",
        "colab": {}
      },
      "source": [
        "input_token_index = dict([(word,i) for i, word in enumerate(Source_vocabulary)])\n",
        "target_token_index= dict([(word,i) for i, word in enumerate(target_vocabulary)])"
      ],
      "execution_count": null,
      "outputs": []
    },
    {
      "cell_type": "code",
      "metadata": {
        "id": "8IS-xCkJi8Fn",
        "colab_type": "code",
        "colab": {
          "base_uri": "https://localhost:8080/",
          "height": 33
        },
        "outputId": "671561a7-5f0a-4227-b8e6-5d566ba9b1cd"
      },
      "source": [
        "embeddings_index = dict()\n",
        "f = open('drive/My Drive/Colab Notebooks/glove.txt', 'r', encoding='utf8', errors='ignore') #bn_w2v_model.text\n",
        "for line in f:\n",
        "    values = line.split()\n",
        "    word = values[0]\n",
        "    coefs = np.asarray(values[1:], dtype='float32')\n",
        "    embeddings_index[word] = coefs\n",
        "f.close()\n",
        "print('Loaded %s word vectors.' % len(embeddings_index))"
      ],
      "execution_count": null,
      "outputs": [
        {
          "output_type": "stream",
          "text": [
            "Loaded 400000 word vectors.\n"
          ],
          "name": "stdout"
        }
      ]
    },
    {
      "cell_type": "code",
      "metadata": {
        "id": "dYKHLIK8jQW9",
        "colab_type": "code",
        "colab": {
          "base_uri": "https://localhost:8080/",
          "height": 1000
        },
        "outputId": "b614b3a0-baa5-4e04-8ab0-711c812a8edc"
      },
      "source": [
        "embedding_matrix = np.zeros((num_source_tokens, 50))\n",
        "for word,i in input_token_index.items():\n",
        "    embedding_vector = embeddings_index.get(word)\n",
        "    if embedding_vector is not None:\n",
        "        embedding_matrix[i] = embedding_vector\n",
        "    else:\n",
        "        print(word)\n",
        "        print(\"Not Found\")"
      ],
      "execution_count": null,
      "outputs": [
        {
          "output_type": "stream",
          "text": [
            "perosn\n",
            "Not Found\n",
            "rainit\n",
            "Not Found\n",
            "esho\n",
            "Not Found\n",
            "shatkania\n",
            "Not Found\n",
            "mehendi\n",
            "Not Found\n",
            "lavlu\n",
            "Not Found\n",
            "zillurs\n",
            "Not Found\n",
            "nirob\n",
            "Not Found\n",
            "mejbaur\n",
            "Not Found\n",
            "wahiduzzaman\n",
            "Not Found\n",
            "moveableimmovable\n",
            "Not Found\n",
            "abujh\n",
            "Not Found\n",
            "himthe\n",
            "Not Found\n",
            "badarkhali\n",
            "Not Found\n",
            "nalinikant\n",
            "Not Found\n",
            "patiencethis\n",
            "Not Found\n",
            "gadhanagor\n",
            "Not Found\n",
            "ahmmed\n",
            "Not Found\n",
            "hasinas\n",
            "Not Found\n",
            "surovie\n",
            "Not Found\n",
            "panchayet\n",
            "Not Found\n",
            "nalitabari\n",
            "Not Found\n",
            "mahathero\n",
            "Not Found\n",
            "dhinnesh\n",
            "Not Found\n",
            "abhaynagar\n",
            "Not Found\n",
            "panamnagar\n",
            "Not Found\n",
            "17614\n",
            "Not Found\n",
            "afsarul\n",
            "Not Found\n",
            "anandamela\n",
            "Not Found\n",
            "star14\n",
            "Not Found\n",
            "kondia\n",
            "Not Found\n",
            "ramdashat\n",
            "Not Found\n",
            "wwwdigitalbagerhatorg\n",
            "Not Found\n",
            "hemonto\n",
            "Not Found\n",
            "daruchini\n",
            "Not Found\n",
            "harrdy\n",
            "Not Found\n",
            "capasiaa\n",
            "Not Found\n",
            "adrita\n",
            "Not Found\n",
            "galm\n",
            "Not Found\n",
            "fourmonths\n",
            "Not Found\n",
            "kidszone\n",
            "Not Found\n",
            "coela\n",
            "Not Found\n",
            "ensurity\n",
            "Not Found\n",
            "pulak\n",
            "Not Found\n",
            "dompara\n",
            "Not Found\n",
            "chondipur\n",
            "Not Found\n",
            "chokher\n",
            "Not Found\n",
            "conjuming\n",
            "Not Found\n",
            "hassans\n",
            "Not Found\n",
            "mohommad\n",
            "Not Found\n",
            "groupinglobbying\n",
            "Not Found\n",
            "lashkaretaiba\n",
            "Not Found\n",
            "haoyar\n",
            "Not Found\n",
            "bhattashali\n",
            "Not Found\n",
            "maubadi\n",
            "Not Found\n",
            "sangsar\n",
            "Not Found\n",
            "kochiya\n",
            "Not Found\n",
            "shontan\n",
            "Not Found\n",
            "bazal\n",
            "Not Found\n",
            "upajela\n",
            "Not Found\n",
            "baper\n",
            "Not Found\n",
            "survie\n",
            "Not Found\n",
            "nisbutt\n",
            "Not Found\n",
            "nowshin\n",
            "Not Found\n",
            "september2009\n",
            "Not Found\n",
            "shampatti\n",
            "Not Found\n",
            "milanayatan\n",
            "Not Found\n",
            "maheshkhali\n",
            "Not Found\n",
            "01715241720\n",
            "Not Found\n",
            "vadontro\n",
            "Not Found\n",
            "rangunia\n",
            "Not Found\n",
            "bondhusova\n",
            "Not Found\n",
            "somthing\n",
            "Not Found\n",
            "systemwe\n",
            "Not Found\n",
            "nurjahan\n",
            "Not Found\n",
            "compalaint\n",
            "Not Found\n",
            "joyag\n",
            "Not Found\n",
            "banglavision\n",
            "Not Found\n",
            "khannasir\n",
            "Not Found\n",
            "ahmeds\n",
            "Not Found\n",
            "khandivya\n",
            "Not Found\n",
            "odit\n",
            "Not Found\n",
            "ekla\n",
            "Not Found\n",
            "prothomalo\n",
            "Not Found\n",
            "6135\n",
            "Not Found\n",
            "sampanwala\n",
            "Not Found\n",
            "aktari\n",
            "Not Found\n",
            "hisher\n",
            "Not Found\n",
            "sirazuddoula\n",
            "Not Found\n",
            "upzilla\n",
            "Not Found\n",
            "tomarh\n",
            "Not Found\n",
            "jacklepos\n",
            "Not Found\n",
            "garv\n",
            "Not Found\n",
            "alomgir\n",
            "Not Found\n",
            "4922\n",
            "Not Found\n",
            "mohibul\n",
            "Not Found\n",
            "quasidisease\n",
            "Not Found\n",
            "gorokghata\n",
            "Not Found\n",
            "…don\n",
            "Not Found\n",
            "bacchan\n",
            "Not Found\n",
            "tvmagazine\n",
            "Not Found\n",
            "tanima\n",
            "Not Found\n",
            "192928\n",
            "Not Found\n",
            "123000\n",
            "Not Found\n",
            "koler\n",
            "Not Found\n",
            "mohara\n",
            "Not Found\n",
            "shanbag\n",
            "Not Found\n",
            "nandit\n",
            "Not Found\n",
            "tazin\n",
            "Not Found\n",
            "subrana\n",
            "Not Found\n",
            "dhomktu\n",
            "Not Found\n",
            "poemsrhymematching\n",
            "Not Found\n",
            "fatekharkul\n",
            "Not Found\n",
            "motijhil\n",
            "Not Found\n",
            "chonamia\n",
            "Not Found\n",
            "ramganj\n",
            "Not Found\n",
            "mewho\n",
            "Not Found\n",
            "majhe\n",
            "Not Found\n",
            "mayjune\n",
            "Not Found\n",
            "hemalota\n",
            "Not Found\n",
            "fhilip\n",
            "Not Found\n",
            "srabanti\n",
            "Not Found\n",
            "oldage\n",
            "Not Found\n",
            "nazruls\n",
            "Not Found\n",
            "gasbased\n",
            "Not Found\n",
            "faruki\n",
            "Not Found\n",
            "maubadis\n",
            "Not Found\n",
            "ontorikkho\n",
            "Not Found\n",
            "probal\n",
            "Not Found\n",
            "newold\n",
            "Not Found\n",
            "2868\n",
            "Not Found\n",
            "debesh\n",
            "Not Found\n",
            "euphorias\n",
            "Not Found\n",
            "june2009\n",
            "Not Found\n",
            "benifit\n",
            "Not Found\n",
            "dakha\n",
            "Not Found\n",
            "satkania\n",
            "Not Found\n",
            "daribari\n",
            "Not Found\n",
            "bangmoyi\n",
            "Not Found\n",
            "shovon\n",
            "Not Found\n",
            "briddhasram\n",
            "Not Found\n",
            "miar\n",
            "Not Found\n",
            "leadersactivists\n",
            "Not Found\n",
            "canorous\n",
            "Not Found\n",
            "fotepurmekhol\n",
            "Not Found\n",
            "otherwisei\n",
            "Not Found\n",
            "ohida\n",
            "Not Found\n",
            "hafizur\n",
            "Not Found\n",
            "mukutnight\n",
            "Not Found\n",
            "carmic\n",
            "Not Found\n",
            "chakaria\n",
            "Not Found\n",
            "jaishtha\n",
            "Not Found\n",
            "actoralso\n",
            "Not Found\n",
            "nepals\n",
            "Not Found\n",
            "1200pm\n",
            "Not Found\n",
            "suborans\n",
            "Not Found\n",
            "tubewell\n",
            "Not Found\n",
            "2189\n",
            "Not Found\n",
            "saidits\n",
            "Not Found\n",
            "subarna\n",
            "Not Found\n",
            "aynababa\n",
            "Not Found\n",
            "khokon\n",
            "Not Found\n",
            "raozan\n",
            "Not Found\n",
            "mukherh\n",
            "Not Found\n",
            "reproductivehealth\n",
            "Not Found\n",
            "1thousand\n",
            "Not Found\n",
            "©\n",
            "Not Found\n",
            "ghur\n",
            "Not Found\n",
            "orosh\n",
            "Not Found\n",
            "ganchil\n",
            "Not Found\n",
            "againwill\n",
            "Not Found\n",
            "ghuddi\n",
            "Not Found\n",
            "shakibmashrafi\n",
            "Not Found\n",
            "abids\n",
            "Not Found\n",
            "dollor\n",
            "Not Found\n",
            "kayarh\n",
            "Not Found\n",
            "roquib\n",
            "Not Found\n",
            "rimzheem\n",
            "Not Found\n",
            "mohamedan\n",
            "Not Found\n",
            "shipan\n",
            "Not Found\n",
            "thathya\n",
            "Not Found\n",
            "bedao\n",
            "Not Found\n",
            "amader\n",
            "Not Found\n",
            "natyamata\n",
            "Not Found\n",
            "marrage\n",
            "Not Found\n",
            "ownersplease\n",
            "Not Found\n",
            "autarchy\n",
            "Not Found\n",
            "rasiklal\n",
            "Not Found\n",
            "gardiola\n",
            "Not Found\n",
            "163000\n",
            "Not Found\n",
            "thiefs\n",
            "Not Found\n",
            "shwapon\n",
            "Not Found\n",
            "mofazzal\n",
            "Not Found\n",
            "sumangal\n",
            "Not Found\n",
            "typesalive\n",
            "Not Found\n",
            "lynks\n",
            "Not Found\n",
            "httpswikiubuntucomdevelopmentcodenames\n",
            "Not Found\n",
            "selfdepended\n",
            "Not Found\n",
            "pubali\n",
            "Not Found\n",
            "closedtone\n",
            "Not Found\n",
            "ontohin\n",
            "Not Found\n",
            "selfsacrificing\n",
            "Not Found\n",
            "loadsheding\n",
            "Not Found\n",
            "humyon\n",
            "Not Found\n",
            "lomboripara\n",
            "Not Found\n",
            "ganraj\n",
            "Not Found\n",
            "nonacceptance\n",
            "Not Found\n",
            "foteyabad\n",
            "Not Found\n",
            "shashon\n",
            "Not Found\n",
            "selfwritten\n",
            "Not Found\n",
            "ironc\n",
            "Not Found\n",
            "nobab\n",
            "Not Found\n",
            "brusts\n",
            "Not Found\n",
            "joyagath\n",
            "Not Found\n",
            "wwwforumnokiacom\n",
            "Not Found\n",
            "bijori\n",
            "Not Found\n",
            "exicited\n",
            "Not Found\n",
            "pinde\n",
            "Not Found\n",
            "shatru\n",
            "Not Found\n",
            "southwales\n",
            "Not Found\n",
            "ligduno\n",
            "Not Found\n",
            "dhuti\n",
            "Not Found\n",
            "mungeshkar\n",
            "Not Found\n",
            "ganchils\n",
            "Not Found\n",
            "eidfestival\n",
            "Not Found\n",
            "ailana\n",
            "Not Found\n",
            "hasanehsan\n",
            "Not Found\n",
            "jungurdi\n",
            "Not Found\n",
            "kaderi\n",
            "Not Found\n",
            "varat\n",
            "Not Found\n",
            "nolini\n",
            "Not Found\n",
            "radhanagar\n",
            "Not Found\n",
            "sheban\n",
            "Not Found\n",
            "shonbag\n",
            "Not Found\n",
            "kalimuddin\n",
            "Not Found\n",
            "rambharan\n",
            "Not Found\n",
            "miakamrul\n",
            "Not Found\n",
            "bhuiya\n",
            "Not Found\n",
            "hoiya\n",
            "Not Found\n",
            "tarashankar\n",
            "Not Found\n",
            "greencalm\n",
            "Not Found\n",
            "exebution\n",
            "Not Found\n",
            "atiqs\n",
            "Not Found\n",
            "porabondor\n",
            "Not Found\n",
            "incedent\n",
            "Not Found\n",
            "dhela\n",
            "Not Found\n",
            "20201130\n",
            "Not Found\n",
            "ahosan\n",
            "Not Found\n",
            "machinationhe\n",
            "Not Found\n",
            "patelbobby\n",
            "Not Found\n",
            "biplob\n",
            "Not Found\n",
            "bishash\n",
            "Not Found\n",
            "borther\n",
            "Not Found\n",
            "brindaban\n",
            "Not Found\n",
            "thake\n",
            "Not Found\n",
            "2887\n",
            "Not Found\n",
            "wellliked\n",
            "Not Found\n",
            "howeverthe\n",
            "Not Found\n",
            "seikh\n",
            "Not Found\n",
            "prachandas\n",
            "Not Found\n",
            "debendranayana\n",
            "Not Found\n",
            "post11minute\n",
            "Not Found\n",
            "singersactors\n",
            "Not Found\n",
            "apurbo\n",
            "Not Found\n",
            "fatherthe\n",
            "Not Found\n",
            "khushir\n",
            "Not Found\n",
            "babarh\n",
            "Not Found\n",
            "supliment\n",
            "Not Found\n",
            "yeras\n",
            "Not Found\n",
            "kirtonkhola\n",
            "Not Found\n",
            "deher\n",
            "Not Found\n",
            "asutush\n",
            "Not Found\n",
            "separeted\n",
            "Not Found\n",
            "601member\n",
            "Not Found\n",
            "lynk\n",
            "Not Found\n",
            "durchori\n",
            "Not Found\n",
            "chokhe\n",
            "Not Found\n",
            "oldmen\n",
            "Not Found\n",
            "harrased\n",
            "Not Found\n",
            "sorroundings\n",
            "Not Found\n",
            "khashnagar\n",
            "Not Found\n",
            "alokito\n",
            "Not Found\n",
            "mollik\n",
            "Not Found\n",
            "kutubuddin\n",
            "Not Found\n",
            "touqir\n",
            "Not Found\n",
            "dudly\n",
            "Not Found\n",
            "ranbirs\n",
            "Not Found\n",
            "towquir\n",
            "Not Found\n",
            "detalis\n",
            "Not Found\n",
            "shitalakshya\n",
            "Not Found\n",
            "bhikhu\n",
            "Not Found\n",
            "bycycle\n",
            "Not Found\n",
            "costive\n",
            "Not Found\n",
            "shaheb\n",
            "Not Found\n",
            "towkir\n",
            "Not Found\n",
            "cobad\n",
            "Not Found\n",
            "berao\n",
            "Not Found\n",
            "20201205\n",
            "Not Found\n",
            "lovewithout\n",
            "Not Found\n",
            "madhushudhun\n",
            "Not Found\n",
            "2778\n",
            "Not Found\n",
            "milkvita\n",
            "Not Found\n",
            "lebels\n",
            "Not Found\n",
            "023000\n",
            "Not Found\n",
            "–jonota\n",
            "Not Found\n",
            "lailars\n",
            "Not Found\n",
            "gahchil\n",
            "Not Found\n",
            "sablu\n",
            "Not Found\n",
            "rupantar\n",
            "Not Found\n",
            "bondhu\n",
            "Not Found\n",
            "trophe\n",
            "Not Found\n",
            "chyannika\n",
            "Not Found\n",
            "biddhasram\n",
            "Not Found\n",
            "matubbor\n",
            "Not Found\n",
            "jaker\n",
            "Not Found\n",
            "shortrit\n",
            "Not Found\n",
            "borkol\n",
            "Not Found\n",
            "10times\n",
            "Not Found\n",
            "ramgonj\n",
            "Not Found\n",
            "merilprothom\n",
            "Not Found\n",
            "rattri\n",
            "Not Found\n",
            "keshabpur\n",
            "Not Found\n",
            "samsur\n",
            "Not Found\n",
            "finsidil\n",
            "Not Found\n",
            "yerash\n",
            "Not Found\n",
            "desher\n",
            "Not Found\n",
            "dowla\n",
            "Not Found\n",
            "gyanosree\n",
            "Not Found\n",
            "healthless\n",
            "Not Found\n",
            "anent\n",
            "Not Found\n",
            "muhibbullah\n",
            "Not Found\n",
            "bhaba\n",
            "Not Found\n",
            "krisoker\n",
            "Not Found\n",
            "rangmastiri\n",
            "Not Found\n",
            "parcent\n",
            "Not Found\n",
            "bosss\n",
            "Not Found\n",
            "recate\n",
            "Not Found\n",
            "selfcompleted\n",
            "Not Found\n",
            "joyin\n",
            "Not Found\n",
            "mokammel\n",
            "Not Found\n",
            "cognized\n",
            "Not Found\n",
            "20201202\n",
            "Not Found\n",
            "topus\n",
            "Not Found\n",
            "113000\n",
            "Not Found\n",
            "endlisteners\n",
            "Not Found\n",
            "shokal\n",
            "Not Found\n",
            "hindusmuslims\n",
            "Not Found\n",
            "teledirector\n",
            "Not Found\n",
            "lusid\n",
            "Not Found\n",
            "eyes2\n",
            "Not Found\n",
            "fotepur\n",
            "Not Found\n",
            "izaz\n",
            "Not Found\n",
            "maizbhandari\n",
            "Not Found\n",
            "oppi\n",
            "Not Found\n",
            "edisode\n",
            "Not Found\n",
            "in190\n",
            "Not Found\n",
            "azaadi\n",
            "Not Found\n",
            "himher\n",
            "Not Found\n",
            "201617\n",
            "Not Found\n",
            "mohona\n",
            "Not Found\n",
            "dhamail\n",
            "Not Found\n",
            "aranno\n",
            "Not Found\n",
            "akhando\n",
            "Not Found\n",
            "gangajatra\n",
            "Not Found\n",
            "ashikoshe\n",
            "Not Found\n",
            "eternalcompetitor\n",
            "Not Found\n",
            "asifs\n",
            "Not Found\n",
            "2186\n",
            "Not Found\n",
            "programmenews\n",
            "Not Found\n",
            "adviolence\n",
            "Not Found\n",
            "ulochori\n",
            "Not Found\n",
            "humaiun\n",
            "Not Found\n",
            "startedat\n",
            "Not Found\n",
            "familythey\n",
            "Not Found\n",
            "pallab\n",
            "Not Found\n",
            "duti\n",
            "Not Found\n",
            "rakibur\n",
            "Not Found\n",
            "heshe\n",
            "Not Found\n",
            "kulpodi\n",
            "Not Found\n",
            "shongket\n",
            "Not Found\n",
            "vottoshali\n",
            "Not Found\n",
            "bitumin\n",
            "Not Found\n",
            "afroza\n",
            "Not Found\n",
            "jovert\n",
            "Not Found\n",
            "koromchad\n",
            "Not Found\n",
            "khemmanand\n",
            "Not Found\n",
            "robery\n",
            "Not Found\n",
            "sanjida\n",
            "Not Found\n",
            "mazzai\n",
            "Not Found\n",
            "startit\n",
            "Not Found\n",
            "dodul\n",
            "Not Found\n",
            "shaon\n",
            "Not Found\n",
            "guiter\n",
            "Not Found\n",
            "akhi\n",
            "Not Found\n",
            "patiyas\n",
            "Not Found\n",
            "oilgas\n",
            "Not Found\n",
            "redhat\n",
            "Not Found\n",
            "torned\n",
            "Not Found\n",
            "bishalpur\n",
            "Not Found\n",
            "lazyaimless\n",
            "Not Found\n",
            "nayanthara\n",
            "Not Found\n",
            "trophyindia\n",
            "Not Found\n",
            "ittadi\n",
            "Not Found\n",
            "shooted\n",
            "Not Found\n",
            "pein\n",
            "Not Found\n",
            "sodiumb\n",
            "Not Found\n",
            "jahirul\n",
            "Not Found\n",
            "dancedance\n",
            "Not Found\n",
            "constitutioneveryone\n",
            "Not Found\n",
            "youthis\n",
            "Not Found\n",
            "shanu\n",
            "Not Found\n",
            "nochiketa\n",
            "Not Found\n",
            "3taka\n",
            "Not Found\n",
            "anushthan\n",
            "Not Found\n",
            "…marriage\n",
            "Not Found\n",
            "pritom\n",
            "Not Found\n",
            "oneday\n",
            "Not Found\n",
            "kaniz\n",
            "Not Found\n",
            "shreshtha\n",
            "Not Found\n",
            "sonjattra\n",
            "Not Found\n",
            "nurunnahar\n",
            "Not Found\n",
            "charecter\n",
            "Not Found\n",
            "jonmodine\n",
            "Not Found\n",
            "deshpremi\n",
            "Not Found\n",
            "ozaroti\n",
            "Not Found\n",
            "dadaasimanamang\n",
            "Not Found\n",
            "gangaazatras\n",
            "Not Found\n",
            "uf06c\n",
            "Not Found\n",
            "adiba\n",
            "Not Found\n",
            "challaenger\n",
            "Not Found\n",
            "3hour\n",
            "Not Found\n",
            "banaripara\n",
            "Not Found\n",
            "cementbricksand\n",
            "Not Found\n",
            "shurjotorun\n",
            "Not Found\n",
            "solayman\n",
            "Not Found\n",
            "bankimf\n",
            "Not Found\n",
            "bosudha\n",
            "Not Found\n",
            "jahangirs\n",
            "Not Found\n",
            "huminity\n",
            "Not Found\n",
            "bangladeshishabibul\n",
            "Not Found\n",
            "mahfuj\n",
            "Not Found\n",
            "durpath\n",
            "Not Found\n",
            "sideeffects\n",
            "Not Found\n",
            "criticismsall\n",
            "Not Found\n",
            "chandraghona\n",
            "Not Found\n",
            "kaliganga\n",
            "Not Found\n",
            "uposonghoraj\n",
            "Not Found\n"
          ],
          "name": "stdout"
        }
      ]
    },
    {
      "cell_type": "code",
      "metadata": {
        "id": "tgVph9wNjdX2",
        "colab_type": "code",
        "colab": {
          "base_uri": "https://localhost:8080/",
          "height": 33
        },
        "outputId": "bcec9d4d-70a7-4fff-d020-e653d1e29ac4"
      },
      "source": [
        "embedding_matrix.shape"
      ],
      "execution_count": null,
      "outputs": [
        {
          "output_type": "execute_result",
          "data": {
            "text/plain": [
              "(4024, 50)"
            ]
          },
          "metadata": {
            "tags": []
          },
          "execution_count": 20
        }
      ]
    },
    {
      "cell_type": "code",
      "metadata": {
        "id": "vfdVA1YjjeAZ",
        "colab_type": "code",
        "colab": {
          "base_uri": "https://localhost:8080/",
          "height": 167
        },
        "outputId": "cf10b530-4c56-4736-8101-9f4539650a5f"
      },
      "source": [
        "print(embedding_matrix[0])"
      ],
      "execution_count": null,
      "outputs": [
        {
          "output_type": "stream",
          "text": [
            "[-0.65503001  0.55212998 -0.28143999 -1.10759997 -0.80285001 -0.50288999\n",
            " -0.45263001 -0.56634003 -0.40766001  0.065814    0.24498001 -0.41909\n",
            "  0.55291998 -0.34400001 -0.62248999  0.07158     0.22541     0.41833001\n",
            "  0.31944001  0.50634003  1.02390003  0.013704    0.10401     0.77249002\n",
            " -0.76463002 -1.31060004  0.063183   -1.40390003 -2.01230001 -0.60715002\n",
            "  2.69309998  0.98837     0.29280999 -1.37609994  0.18759     0.022284\n",
            " -0.37362999  1.04170001  0.062304    0.30410001 -0.39769    -0.60825998\n",
            "  1.12720001  1.18570006 -0.25953001  0.2388     -0.30450001  0.75515997\n",
            " -0.68009001 -0.57788002]\n"
          ],
          "name": "stdout"
        }
      ]
    },
    {
      "cell_type": "code",
      "metadata": {
        "id": "O47bu87Xjlm5",
        "colab_type": "code",
        "colab": {}
      },
      "source": [
        "\n",
        "# Create matrix with zeros for source and target data -\n",
        "encoder_input_data_train = np.zeros(\n",
        "    (len(input_texts_train), max_source_seq_length),\n",
        "    dtype='float32')\n",
        "decoder_input_data_train = np.zeros(\n",
        "    (len(target_texts_train), max_target_seq_length),\n",
        "    dtype='float32')\n",
        "\n",
        "# Create matrix with zeros for target label\n",
        "decoder_target_data_train = np.zeros(\n",
        "    (len(target_texts_train), max_target_seq_length, num_target_tokens),\n",
        "    dtype='float32')"
      ],
      "execution_count": null,
      "outputs": []
    },
    {
      "cell_type": "code",
      "metadata": {
        "id": "kRHgxBgSjs1L",
        "colab_type": "code",
        "colab": {}
      },
      "source": [
        "\n",
        "# update the matrix data with the index from the unique index -\n",
        "for i, (input_text, target_text) in enumerate(zip(input_texts_train, target_texts_train)):\n",
        "    for t, word in enumerate(nltk.word_tokenize(input_text)):\n",
        "        encoder_input_data_train[i, t] = input_token_index[word]\n",
        "    for t, word in enumerate(nltk.word_tokenize(target_text)):\n",
        "        # decoder_target_data is ahead of decoder_input_data by one timestep\n",
        "        decoder_input_data_train[i, t] = target_token_index[word]\n",
        "        if t > 0:\n",
        "            # decoder_target_data will be ahead by one timestep\n",
        "            # and will not include the start character.\n",
        "            # will update as one hot vector at the labels \n",
        "            decoder_target_data_train[i, t - 1, target_token_index[word]] = 1."
      ],
      "execution_count": null,
      "outputs": []
    },
    {
      "cell_type": "code",
      "metadata": {
        "id": "DTb0AmB-jv-m",
        "colab_type": "code",
        "colab": {
          "base_uri": "https://localhost:8080/",
          "height": 67
        },
        "outputId": "b65fff29-e17a-4cab-bdb1-6b2c84e7f6ce"
      },
      "source": [
        "\n",
        "print(encoder_input_data_train.shape)\n",
        "print(decoder_input_data_train.shape)\n",
        "print(decoder_target_data_train.shape)"
      ],
      "execution_count": null,
      "outputs": [
        {
          "output_type": "stream",
          "text": [
            "(1424, 21)\n",
            "(1424, 25)\n",
            "(1424, 25, 5171)\n"
          ],
          "name": "stdout"
        }
      ]
    },
    {
      "cell_type": "code",
      "metadata": {
        "id": "pVkAV6najyVy",
        "colab_type": "code",
        "colab": {}
      },
      "source": [
        "embedding_size = 50"
      ],
      "execution_count": null,
      "outputs": []
    },
    {
      "cell_type": "code",
      "metadata": {
        "id": "TnjM37Gij33o",
        "colab_type": "code",
        "colab": {}
      },
      "source": [
        "# Encoder Input\n",
        "encoder_inputs = Input(shape=(None,))\n",
        "# Embedding layer (non-trainable) with the Glove Embedding weights\n",
        "encoder_embedd=  Embedding(num_source_tokens, embedding_size , weights=[embedding_matrix],\n",
        "                input_shape=(max_source_seq_length,), trainable=False)(encoder_inputs)\n",
        "# LSTM Layer\n",
        "encoder = LSTM(50, return_state=True)\n",
        "encoder_outputs, state_h, state_c = encoder(encoder_embedd)\n",
        "encoder_states = [state_h, state_c] # Encoder States"
      ],
      "execution_count": null,
      "outputs": []
    },
    {
      "cell_type": "code",
      "metadata": {
        "id": "To8mkDqQj6tx",
        "colab_type": "code",
        "colab": {}
      },
      "source": [
        "# decoder code goes here\n",
        "\n",
        "decoder_inputs = Input(shape=(None,))\n",
        "# Decoder Embedding with Keras Default Embedding (will be trained)\n",
        "decoder_embedd=  Embedding(num_target_tokens, embedding_size)\n",
        "final_decoder= decoder_embedd(decoder_inputs)\n",
        "# Decoder LSTM Layers\n",
        "decoder_lstm = LSTM(50, return_sequences=True, return_state=True)\n",
        "\n",
        "# Set up the decoder, using `encoder_states` as initial state.\n",
        "decoder_outputs, _, _ = decoder_lstm(final_decoder,\n",
        "                                     initial_state=encoder_states)\n",
        "\n",
        "# Softmax & Dense Layer\n",
        "decoder_dense = Dense(num_target_tokens, activation='softmax')\n",
        "decoder_outputs = decoder_dense(decoder_outputs)"
      ],
      "execution_count": null,
      "outputs": []
    },
    {
      "cell_type": "code",
      "metadata": {
        "id": "e2qLX2sGkBjp",
        "colab_type": "code",
        "colab": {
          "base_uri": "https://localhost:8080/",
          "height": 417
        },
        "outputId": "40e1480a-dcb3-4b48-bb6b-f510ed905861"
      },
      "source": [
        "model_seq= Model([encoder_inputs, decoder_inputs], decoder_outputs)\n",
        "model_seq.compile(optimizer='rmsprop',loss='categorical_crossentropy', metrics=['acc'])\n",
        "model_seq.summary()"
      ],
      "execution_count": null,
      "outputs": [
        {
          "output_type": "stream",
          "text": [
            "Model: \"model_2\"\n",
            "__________________________________________________________________________________________________\n",
            "Layer (type)                    Output Shape         Param #     Connected to                     \n",
            "==================================================================================================\n",
            "input_1 (InputLayer)            (None, None)         0                                            \n",
            "__________________________________________________________________________________________________\n",
            "input_2 (InputLayer)            (None, None)         0                                            \n",
            "__________________________________________________________________________________________________\n",
            "embedding_1 (Embedding)         (None, None, 50)     201200      input_1[0][0]                    \n",
            "__________________________________________________________________________________________________\n",
            "embedding_2 (Embedding)         (None, None, 50)     258550      input_2[0][0]                    \n",
            "__________________________________________________________________________________________________\n",
            "lstm_1 (LSTM)                   [(None, 50), (None,  20200       embedding_1[0][0]                \n",
            "__________________________________________________________________________________________________\n",
            "lstm_2 (LSTM)                   [(None, None, 50), ( 20200       embedding_2[0][0]                \n",
            "                                                                 lstm_1[0][1]                     \n",
            "                                                                 lstm_1[0][2]                     \n",
            "__________________________________________________________________________________________________\n",
            "dense_1 (Dense)                 (None, None, 5171)   263721      lstm_2[0][0]                     \n",
            "==================================================================================================\n",
            "Total params: 763,871\n",
            "Trainable params: 562,671\n",
            "Non-trainable params: 201,200\n",
            "__________________________________________________________________________________________________\n"
          ],
          "name": "stdout"
        }
      ]
    },
    {
      "cell_type": "code",
      "metadata": {
        "id": "QjD04AV2kE6M",
        "colab_type": "code",
        "colab": {
          "base_uri": "https://localhost:8080/",
          "height": 1000
        },
        "outputId": "f4684bbc-45ec-4a1b-c135-65538cc45afc"
      },
      "source": [
        "history=model_seq.fit([encoder_input_data_train, decoder_input_data_train], decoder_target_data_train,\n",
        "          batch_size=64,\n",
        "          epochs=30,\n",
        "          validation_split=0.15)  \n",
        "model_seq.save('seq2seq_source_target.h5')"
      ],
      "execution_count": null,
      "outputs": [
        {
          "output_type": "stream",
          "text": [
            "WARNING:tensorflow:From /usr/local/lib/python3.6/dist-packages/tensorflow/python/ops/math_grad.py:1250: add_dispatch_support.<locals>.wrapper (from tensorflow.python.ops.array_ops) is deprecated and will be removed in a future version.\n",
            "Instructions for updating:\n",
            "Use tf.where in 2.0, which has the same broadcast rule as np.where\n",
            "WARNING:tensorflow:From /usr/local/lib/python3.6/dist-packages/keras/backend/tensorflow_backend.py:422: The name tf.global_variables is deprecated. Please use tf.compat.v1.global_variables instead.\n",
            "\n",
            "Train on 1210 samples, validate on 214 samples\n",
            "Epoch 1/30\n",
            "1210/1210 [==============================] - 10s 8ms/step - loss: 2.7736 - acc: 0.0378 - val_loss: 2.6803 - val_acc: 0.0400\n",
            "Epoch 2/30\n",
            "1210/1210 [==============================] - 9s 8ms/step - loss: 2.5571 - acc: 0.0400 - val_loss: 2.6062 - val_acc: 0.0400\n",
            "Epoch 3/30\n",
            "1210/1210 [==============================] - 9s 8ms/step - loss: 2.4603 - acc: 0.0400 - val_loss: 2.5941 - val_acc: 0.0400\n",
            "Epoch 4/30\n",
            "1210/1210 [==============================] - 9s 8ms/step - loss: 2.4117 - acc: 0.0400 - val_loss: 2.6034 - val_acc: 0.0400\n",
            "Epoch 5/30\n",
            "1210/1210 [==============================] - 10s 8ms/step - loss: 2.3840 - acc: 0.0400 - val_loss: 2.6036 - val_acc: 0.0400\n",
            "Epoch 6/30\n",
            "1210/1210 [==============================] - 9s 8ms/step - loss: 2.3641 - acc: 0.0400 - val_loss: 2.6330 - val_acc: 0.0400\n",
            "Epoch 7/30\n",
            "1210/1210 [==============================] - 9s 8ms/step - loss: 2.3487 - acc: 0.0400 - val_loss: 2.6285 - val_acc: 0.0400\n",
            "Epoch 8/30\n",
            "1210/1210 [==============================] - 9s 8ms/step - loss: 2.3339 - acc: 0.0400 - val_loss: 2.6573 - val_acc: 0.0400\n",
            "Epoch 9/30\n",
            "1210/1210 [==============================] - 9s 8ms/step - loss: 2.3203 - acc: 0.0400 - val_loss: 2.6836 - val_acc: 0.0400\n",
            "Epoch 10/30\n",
            "1210/1210 [==============================] - 9s 8ms/step - loss: 2.3073 - acc: 0.0400 - val_loss: 2.6939 - val_acc: 0.0400\n",
            "Epoch 11/30\n",
            "1210/1210 [==============================] - 9s 8ms/step - loss: 2.2938 - acc: 0.0400 - val_loss: 2.6802 - val_acc: 0.0394\n",
            "Epoch 12/30\n",
            "1210/1210 [==============================] - 9s 8ms/step - loss: 2.2792 - acc: 0.0400 - val_loss: 2.7312 - val_acc: 0.0393\n",
            "Epoch 13/30\n",
            "1210/1210 [==============================] - 9s 8ms/step - loss: 2.2664 - acc: 0.0399 - val_loss: 2.7170 - val_acc: 0.0400\n",
            "Epoch 14/30\n",
            "1210/1210 [==============================] - 9s 8ms/step - loss: 2.2523 - acc: 0.0403 - val_loss: 2.7390 - val_acc: 0.0400\n",
            "Epoch 15/30\n",
            "1210/1210 [==============================] - 9s 8ms/step - loss: 2.2386 - acc: 0.0405 - val_loss: 2.7312 - val_acc: 0.0409\n",
            "Epoch 16/30\n",
            "1210/1210 [==============================] - 9s 8ms/step - loss: 2.2270 - acc: 0.0408 - val_loss: 2.7795 - val_acc: 0.0400\n",
            "Epoch 17/30\n",
            "1210/1210 [==============================] - 9s 8ms/step - loss: 2.2150 - acc: 0.0412 - val_loss: 2.7597 - val_acc: 0.0413\n",
            "Epoch 18/30\n",
            "1210/1210 [==============================] - 9s 8ms/step - loss: 2.2022 - acc: 0.0414 - val_loss: 2.7815 - val_acc: 0.0411\n",
            "Epoch 19/30\n",
            "1210/1210 [==============================] - 9s 8ms/step - loss: 2.1905 - acc: 0.0418 - val_loss: 2.7650 - val_acc: 0.0413\n",
            "Epoch 20/30\n",
            "1210/1210 [==============================] - 9s 8ms/step - loss: 2.1804 - acc: 0.0420 - val_loss: 2.7910 - val_acc: 0.0409\n",
            "Epoch 21/30\n",
            "1210/1210 [==============================] - 9s 8ms/step - loss: 2.1689 - acc: 0.0424 - val_loss: 2.7915 - val_acc: 0.0409\n",
            "Epoch 22/30\n",
            "1210/1210 [==============================] - 9s 8ms/step - loss: 2.1584 - acc: 0.0423 - val_loss: 2.7869 - val_acc: 0.0413\n",
            "Epoch 23/30\n",
            "1210/1210 [==============================] - 9s 8ms/step - loss: 2.1479 - acc: 0.0424 - val_loss: 2.7983 - val_acc: 0.0413\n",
            "Epoch 24/30\n",
            "1210/1210 [==============================] - 9s 8ms/step - loss: 2.1372 - acc: 0.0427 - val_loss: 2.8021 - val_acc: 0.0411\n",
            "Epoch 25/30\n",
            "1210/1210 [==============================] - 9s 8ms/step - loss: 2.1265 - acc: 0.0429 - val_loss: 2.8065 - val_acc: 0.0413\n",
            "Epoch 26/30\n",
            "1210/1210 [==============================] - 9s 7ms/step - loss: 2.1168 - acc: 0.0427 - val_loss: 2.8182 - val_acc: 0.0409\n",
            "Epoch 27/30\n",
            "1210/1210 [==============================] - 9s 8ms/step - loss: 2.1062 - acc: 0.0429 - val_loss: 2.8268 - val_acc: 0.0406\n",
            "Epoch 28/30\n",
            "1210/1210 [==============================] - 9s 7ms/step - loss: 2.0971 - acc: 0.0431 - val_loss: 2.8150 - val_acc: 0.0411\n",
            "Epoch 29/30\n",
            "1210/1210 [==============================] - 9s 7ms/step - loss: 2.0866 - acc: 0.0432 - val_loss: 2.8316 - val_acc: 0.0409\n",
            "Epoch 30/30\n",
            "1210/1210 [==============================] - 9s 7ms/step - loss: 2.0765 - acc: 0.0431 - val_loss: 2.8229 - val_acc: 0.0402\n"
          ],
          "name": "stdout"
        }
      ]
    },
    {
      "cell_type": "code",
      "metadata": {
        "id": "8sYJRSMdkJPr",
        "colab_type": "code",
        "colab": {}
      },
      "source": [
        "encoder_input_data_test = np.zeros(\n",
        "    (len(input_texts_test), max_source_seq_length),\n",
        "    dtype='float32')"
      ],
      "execution_count": null,
      "outputs": []
    },
    {
      "cell_type": "code",
      "metadata": {
        "id": "urGOyMl7kT8m",
        "colab_type": "code",
        "colab": {}
      },
      "source": [
        "for i, (input_text, target_text) in enumerate(zip(input_texts_test, target_texts_test)):\n",
        "    for t, word in enumerate(nltk.word_tokenize(input_text)):\n",
        "        encoder_input_data_test[i, t] = input_token_index[word]"
      ],
      "execution_count": null,
      "outputs": []
    },
    {
      "cell_type": "code",
      "metadata": {
        "id": "zLXL8FsfkYSa",
        "colab_type": "code",
        "colab": {
          "base_uri": "https://localhost:8080/",
          "height": 33
        },
        "outputId": "e33afc25-2889-4f85-8443-0dc9a8e4f1b8"
      },
      "source": [
        "\n",
        "print(encoder_input_data_test.shape)"
      ],
      "execution_count": null,
      "outputs": [
        {
          "output_type": "stream",
          "text": [
            "(357, 21)\n"
          ],
          "name": "stdout"
        }
      ]
    },
    {
      "cell_type": "code",
      "metadata": {
        "id": "wOabP9ANkabN",
        "colab_type": "code",
        "colab": {}
      },
      "source": [
        "reverse_target_char_index = dict(\n",
        "    (i, char) for char, i in target_token_index.items())"
      ],
      "execution_count": null,
      "outputs": []
    },
    {
      "cell_type": "code",
      "metadata": {
        "id": "QosDxtvLkdHt",
        "colab_type": "code",
        "colab": {
          "base_uri": "https://localhost:8080/",
          "height": 250
        },
        "outputId": "7a469466-ad3a-4fb6-dea1-a26add395ff7"
      },
      "source": [
        "# Encoder Model\n",
        "encoder_model = Model(encoder_inputs, encoder_states)\n",
        "encoder_model.summary()"
      ],
      "execution_count": null,
      "outputs": [
        {
          "output_type": "stream",
          "text": [
            "Model: \"model_3\"\n",
            "_________________________________________________________________\n",
            "Layer (type)                 Output Shape              Param #   \n",
            "=================================================================\n",
            "input_1 (InputLayer)         (None, None)              0         \n",
            "_________________________________________________________________\n",
            "embedding_1 (Embedding)      (None, None, 50)          201200    \n",
            "_________________________________________________________________\n",
            "lstm_1 (LSTM)                [(None, 50), (None, 50),  20200     \n",
            "=================================================================\n",
            "Total params: 221,400\n",
            "Trainable params: 20,200\n",
            "Non-trainable params: 201,200\n",
            "_________________________________________________________________\n"
          ],
          "name": "stdout"
        }
      ]
    },
    {
      "cell_type": "code",
      "metadata": {
        "id": "vAGmNbgkkjBu",
        "colab_type": "code",
        "colab": {}
      },
      "source": [
        "# Decoder Model\n",
        "# Decoder States\n",
        "decoder_state_input_h = Input(shape=(50,))\n",
        "decoder_state_input_c = Input(shape=(50,))\n",
        "decoder_states_inputs = [decoder_state_input_h, decoder_state_input_c]\n",
        "\n",
        "# Decoder Embedding with pre trained weights\n",
        "final_dex2= decoder_embedd(decoder_inputs)\n",
        "\n",
        "# Decoder LSTM with Pretrained weights\n",
        "decoder_outputs2, state_h2, state_c2 = decoder_lstm(final_dex2, initial_state=decoder_states_inputs)\n",
        "decoder_states2 = [state_h2, state_c2]\n",
        "# Decoder Dense with Pretrained Weights\n",
        "decoder_outputs2 = decoder_dense(decoder_outputs2)\n",
        "# Decoder Final Model\n",
        "decoder_model = Model(\n",
        "    [decoder_inputs] + decoder_states_inputs,\n",
        "    [decoder_outputs2] + decoder_states2)"
      ],
      "execution_count": null,
      "outputs": []
    },
    {
      "cell_type": "code",
      "metadata": {
        "id": "prGFVImlkqKP",
        "colab_type": "code",
        "colab": {}
      },
      "source": [
        "\n",
        "def decode_sequence(input_seq):\n",
        "    # Encode the input as state vectors.\n",
        "    states_value = encoder_model.predict(input_seq)\n",
        "    # Generate empty target sequence of length 1.\n",
        "    target_seq = np.zeros((1,1))\n",
        "    # Populate the first character of target sequence with the start character.\n",
        "    target_seq[0, 0] = target_token_index['START_']\n",
        "\n",
        "    # Sampling loop for a batch of sequences\n",
        "    # (to simplify, here we assume a batch of size 1).\n",
        "    stop_condition = False\n",
        "    decoded_sentence = ''\n",
        "    while not stop_condition:\n",
        "        output_tokens, h, c = decoder_model.predict(\n",
        "            [target_seq] + states_value)\n",
        "\n",
        "        # Sample a token\n",
        "        sampled_token_index = np.argmax(output_tokens[0, -1, :])\n",
        "        sampled_char = reverse_target_char_index[sampled_token_index]\n",
        "\n",
        "        # Exit condition: either hit max length\n",
        "        # or find stop character.\n",
        "        if (sampled_char == '_END' or\n",
        "           len(decoded_sentence) > max_target_seq_length):\n",
        "            decoded_sentence = 'START_ '+ decoded_sentence + ' _END'\n",
        "            stop_condition = True\n",
        "        else:\n",
        "            decoded_sentence += ' '+sampled_char  \n",
        "\n",
        "        # Update the target sequence (of length 1).\n",
        "        target_seq = np.zeros((1,1))\n",
        "        target_seq[0, 0] = sampled_token_index\n",
        "\n",
        "        # Update states\n",
        "        states_value = [h, c]\n",
        "        \n",
        "        \n",
        "    return decoded_sentence"
      ],
      "execution_count": null,
      "outputs": []
    },
    {
      "cell_type": "code",
      "metadata": {
        "id": "dEdbQImRkv2k",
        "colab_type": "code",
        "colab": {}
      },
      "source": [
        "actual_seq, predicted_seq = list(), list()\n",
        "for seq_index in range(len(encoder_input_data_test)):\n",
        "    input_seq = encoder_input_data_test[seq_index: seq_index + 1]\n",
        "    decoded_sent = decode_sequence(input_seq)\n",
        "    predicted_seq.append(nltk.word_tokenize(decoded_sent))\n",
        "    actual_seq.append([nltk.word_tokenize(target_texts_test[seq_index])])"
      ],
      "execution_count": null,
      "outputs": []
    },
    {
      "cell_type": "code",
      "metadata": {
        "id": "F4Cpwv0Kk1G9",
        "colab_type": "code",
        "colab": {
          "base_uri": "https://localhost:8080/",
          "height": 167
        },
        "outputId": "49834dc2-9692-44d4-8a08-73f18a1d6e4e"
      },
      "source": [
        "print(\"BLEU Score on Test Set : \")\n",
        "print('BLEU-1: %f' % corpus_bleu(actual_seq, predicted_seq, weights=(1.0, 0, 0, 0)))\n",
        "print('BLEU-2: %f' % corpus_bleu(actual_seq, predicted_seq, weights=(0.5, 0.5, 0, 0)))\n",
        "print('BLEU-3: %f' % corpus_bleu(actual_seq, predicted_seq, weights=(0.3, 0.3, 0.3, 0)))\n",
        "print('BLEU-4: %f' % corpus_bleu(actual_seq, predicted_seq, weights=(0.25, 0.25, 0.25, 0.25)))"
      ],
      "execution_count": null,
      "outputs": [
        {
          "output_type": "stream",
          "text": [
            "BLEU Score on Test Set : \n",
            "BLEU-1: 0.227775\n",
            "BLEU-2: 0.026255\n",
            "BLEU-3: 0.107357\n",
            "BLEU-4: 0.152664\n"
          ],
          "name": "stdout"
        },
        {
          "output_type": "stream",
          "text": [
            "/usr/local/lib/python3.6/dist-packages/nltk/translate/bleu_score.py:490: UserWarning: \n",
            "Corpus/Sentence contains 0 counts of 3-gram overlaps.\n",
            "BLEU scores might be undesirable; use SmoothingFunction().\n",
            "  warnings.warn(_msg)\n"
          ],
          "name": "stderr"
        }
      ]
    },
    {
      "cell_type": "code",
      "metadata": {
        "id": "iul-esziXnM6",
        "colab_type": "code",
        "colab": {
          "base_uri": "https://localhost:8080/",
          "height": 100
        },
        "outputId": "492d163e-c73f-4b46-d1cf-8d07312edfe3"
      },
      "source": [
        "score = corpus_bleu(actual_seq, predicted_seq)\n",
        "print(score*100)"
      ],
      "execution_count": null,
      "outputs": [
        {
          "output_type": "stream",
          "text": [
            "15.266404620599769\n"
          ],
          "name": "stdout"
        },
        {
          "output_type": "stream",
          "text": [
            "/usr/local/lib/python3.6/dist-packages/nltk/translate/bleu_score.py:490: UserWarning: \n",
            "Corpus/Sentence contains 0 counts of 3-gram overlaps.\n",
            "BLEU scores might be undesirable; use SmoothingFunction().\n",
            "  warnings.warn(_msg)\n"
          ],
          "name": "stderr"
        }
      ]
    },
    {
      "cell_type": "markdown",
      "metadata": {
        "id": "xrbm1DtHr8LF",
        "colab_type": "text"
      },
      "source": [
        "#Attention"
      ]
    },
    {
      "cell_type": "code",
      "metadata": {
        "id": "UMxsECVEk17i",
        "colab_type": "code",
        "colab": {}
      },
      "source": [
        "# Import additional libraries\n",
        "from keras.layers import Activation, dot, concatenate\n",
        "from keras.layers import TimeDistributed"
      ],
      "execution_count": null,
      "outputs": []
    },
    {
      "cell_type": "code",
      "metadata": {
        "id": "2ufKYaDxlDvW",
        "colab_type": "code",
        "colab": {}
      },
      "source": [
        "\n",
        "# Define Encoder and Decoder Input\n",
        "encoder_input = Input(shape=(max_source_seq_length,))\n",
        "decoder_input = Input(shape=(max_target_seq_length,))"
      ],
      "execution_count": null,
      "outputs": []
    },
    {
      "cell_type": "code",
      "metadata": {
        "id": "956o0ccRlGQG",
        "colab_type": "code",
        "colab": {}
      },
      "source": [
        "encoder = Embedding(num_source_tokens, embedding_size , weights=[embedding_matrix] , \n",
        "                    input_length=max_source_seq_length , mask_zero=True , trainable=False)(encoder_input) #\n",
        "# Encoder LSTM\n",
        "encoder = LSTM(embedding_size, return_sequences=True, unroll=True)(encoder)\n",
        "# Last word from encoder to fed to the decoder input\n",
        "encoder_last = encoder[:,-1,:]"
      ],
      "execution_count": null,
      "outputs": []
    },
    {
      "cell_type": "code",
      "metadata": {
        "id": "OEZNMa3ilJj2",
        "colab_type": "code",
        "colab": {}
      },
      "source": [
        "# Decoder Embedding with Normal Keras Embedding (will be trained)\n",
        "decoder = Embedding(num_target_tokens, embedding_size, \n",
        "                    mask_zero=True, input_length=max_target_seq_length)(decoder_input) #, mask_zero=True\n",
        "# Decoder LSTM\n",
        "decoder = LSTM(embedding_size, return_sequences=True, unroll=True)(decoder, initial_state=[encoder_last, encoder_last])"
      ],
      "execution_count": null,
      "outputs": []
    },
    {
      "cell_type": "code",
      "metadata": {
        "id": "2n1n3S94lLpu",
        "colab_type": "code",
        "colab": {}
      },
      "source": [
        "# Attention dot product of the encoder and decoder weights\n",
        "attention = dot([decoder, encoder], axes=[2, 2])\n",
        "# Attention Softmax to get the optimum weight\n",
        "attention = Activation('softmax', name='attention')(attention)#\n",
        "\n",
        "# Context dot product of pre attention weight with encoder\n",
        "context = dot([attention, encoder], axes=[2,1])"
      ],
      "execution_count": null,
      "outputs": []
    },
    {
      "cell_type": "code",
      "metadata": {
        "id": "SVskfbgalOju",
        "colab_type": "code",
        "colab": {}
      },
      "source": [
        "# Decoder combined context \n",
        "decoder_combined_context = concatenate([context, decoder])\n",
        "\n",
        "# Time Distributed Layer with activation and softmax\n",
        "output = TimeDistributed(Dense(embedding_size, activation=\"tanh\"))(decoder_combined_context)\n",
        "output = TimeDistributed(Dense(num_target_tokens, activation=\"softmax\"))(output)"
      ],
      "execution_count": null,
      "outputs": []
    },
    {
      "cell_type": "code",
      "metadata": {
        "id": "1E15EDp3lSF4",
        "colab_type": "code",
        "colab": {}
      },
      "source": [
        "# Final Model\n",
        "model_attention = Model(inputs=[encoder_input, decoder_input], outputs=[output])\n",
        "model_attention.compile(optimizer='rmsprop', loss='categorical_crossentropy',metrics=['acc']) # 'adam'"
      ],
      "execution_count": null,
      "outputs": []
    },
    {
      "cell_type": "code",
      "metadata": {
        "id": "mwI1DRgklWFY",
        "colab_type": "code",
        "colab": {
          "base_uri": "https://localhost:8080/",
          "height": 600
        },
        "outputId": "0dc9005d-480f-4ace-da4c-77f10f6ad54b"
      },
      "source": [
        "model_attention.summary()"
      ],
      "execution_count": null,
      "outputs": [
        {
          "output_type": "stream",
          "text": [
            "Model: \"model_8\"\n",
            "__________________________________________________________________________________________________\n",
            "Layer (type)                    Output Shape         Param #     Connected to                     \n",
            "==================================================================================================\n",
            "input_12 (InputLayer)           (None, 25)           0                                            \n",
            "__________________________________________________________________________________________________\n",
            "input_11 (InputLayer)           (None, 21)           0                                            \n",
            "__________________________________________________________________________________________________\n",
            "embedding_8 (Embedding)         (None, 25, 50)       258550      input_12[0][0]                   \n",
            "__________________________________________________________________________________________________\n",
            "embedding_7 (Embedding)         (None, 21, 50)       201200      input_11[0][0]                   \n",
            "__________________________________________________________________________________________________\n",
            "lstm_8 (LSTM)                   (None, 25, 50)       20200       embedding_8[0][0]                \n",
            "__________________________________________________________________________________________________\n",
            "lstm_7 (LSTM)                   (None, 21, 50)       20200       embedding_7[0][0]                \n",
            "__________________________________________________________________________________________________\n",
            "dot_5 (Dot)                     (None, 25, 21)       0           lstm_8[0][0]                     \n",
            "                                                                 lstm_7[0][0]                     \n",
            "__________________________________________________________________________________________________\n",
            "attention (Activation)          (None, 25, 21)       0           dot_5[0][0]                      \n",
            "__________________________________________________________________________________________________\n",
            "dot_6 (Dot)                     (None, 25, 50)       0           attention[0][0]                  \n",
            "                                                                 lstm_7[0][0]                     \n",
            "__________________________________________________________________________________________________\n",
            "concatenate_3 (Concatenate)     (None, 25, 100)      0           dot_6[0][0]                      \n",
            "                                                                 lstm_8[0][0]                     \n",
            "__________________________________________________________________________________________________\n",
            "time_distributed_5 (TimeDistrib (None, 25, 50)       5050        concatenate_3[0][0]              \n",
            "__________________________________________________________________________________________________\n",
            "time_distributed_6 (TimeDistrib (None, 25, 5171)     263721      time_distributed_5[0][0]         \n",
            "==================================================================================================\n",
            "Total params: 768,921\n",
            "Trainable params: 567,721\n",
            "Non-trainable params: 201,200\n",
            "__________________________________________________________________________________________________\n"
          ],
          "name": "stdout"
        }
      ]
    },
    {
      "cell_type": "code",
      "metadata": {
        "id": "zCd5MEQtrZHt",
        "colab_type": "code",
        "colab": {
          "base_uri": "https://localhost:8080/",
          "height": 976
        },
        "outputId": "74f078a9-fc30-4961-ebc5-f8b125393220"
      },
      "source": [
        "from keras.utils import plot_model\n",
        "plot_model(model_attention, to_file='model.png', show_shapes=True)"
      ],
      "execution_count": null,
      "outputs": [
        {
          "output_type": "execute_result",
          "data": {
            "image/png": "[encoded data removed]",
            "text/plain": [
              "<IPython.core.display.Image object>"
            ]
          },
          "metadata": {
            "tags": []
          },
          "execution_count": 51
        }
      ]
    },
    {
      "cell_type": "code",
      "metadata": {
        "id": "iOqodjz9lbXz",
        "colab_type": "code",
        "colab": {
          "base_uri": "https://localhost:8080/",
          "height": 1000
        },
        "outputId": "297e523b-ac79-448d-9565-a32888c718a7"
      },
      "source": [
        "history=model_attention.fit([encoder_input_data_train, decoder_input_data_train], decoder_target_data_train,\n",
        "              batch_size=64,\n",
        "              epochs=50,\n",
        "              validation_split=0.15)\n",
        "model_attention.save('seq2seq_attention_source_target.h5')"
      ],
      "execution_count": null,
      "outputs": [
        {
          "output_type": "stream",
          "text": [
            "Train on 1210 samples, validate on 214 samples\n",
            "Epoch 1/50\n",
            "1210/1210 [==============================] - 13s 11ms/step - loss: 2.7536 - acc: 0.0979 - val_loss: 2.6370 - val_acc: 0.1060\n",
            "Epoch 2/50\n",
            "1210/1210 [==============================] - 9s 7ms/step - loss: 2.5222 - acc: 0.1063 - val_loss: 2.5933 - val_acc: 0.1060\n",
            "Epoch 3/50\n",
            "1210/1210 [==============================] - 9s 7ms/step - loss: 2.4495 - acc: 0.1063 - val_loss: 2.5949 - val_acc: 0.1060\n",
            "Epoch 4/50\n",
            "1210/1210 [==============================] - 9s 7ms/step - loss: 2.4131 - acc: 0.1063 - val_loss: 2.6171 - val_acc: 0.1060\n",
            "Epoch 5/50\n",
            "1210/1210 [==============================] - 9s 7ms/step - loss: 2.3919 - acc: 0.1063 - val_loss: 2.6094 - val_acc: 0.1060\n",
            "Epoch 6/50\n",
            "1210/1210 [==============================] - 9s 7ms/step - loss: 2.3703 - acc: 0.1065 - val_loss: 2.6219 - val_acc: 0.1060\n",
            "Epoch 7/50\n",
            "1210/1210 [==============================] - 9s 7ms/step - loss: 2.3548 - acc: 0.1064 - val_loss: 2.6539 - val_acc: 0.1060\n",
            "Epoch 8/50\n",
            "1210/1210 [==============================] - 9s 7ms/step - loss: 2.3409 - acc: 0.1066 - val_loss: 2.6884 - val_acc: 0.1060\n",
            "Epoch 9/50\n",
            "1210/1210 [==============================] - 9s 7ms/step - loss: 2.3280 - acc: 0.1064 - val_loss: 2.6913 - val_acc: 0.1060\n",
            "Epoch 10/50\n",
            "1210/1210 [==============================] - 9s 7ms/step - loss: 2.3156 - acc: 0.1068 - val_loss: 2.7109 - val_acc: 0.1075\n",
            "Epoch 11/50\n",
            "1210/1210 [==============================] - 9s 7ms/step - loss: 2.3037 - acc: 0.1085 - val_loss: 2.7413 - val_acc: 0.1075\n",
            "Epoch 12/50\n",
            "1210/1210 [==============================] - 9s 7ms/step - loss: 2.2915 - acc: 0.1093 - val_loss: 2.7284 - val_acc: 0.1055\n",
            "Epoch 13/50\n",
            "1210/1210 [==============================] - 9s 7ms/step - loss: 2.2792 - acc: 0.1099 - val_loss: 2.7709 - val_acc: 0.1070\n",
            "Epoch 14/50\n",
            "1210/1210 [==============================] - 9s 7ms/step - loss: 2.2656 - acc: 0.1109 - val_loss: 2.7516 - val_acc: 0.1060\n",
            "Epoch 15/50\n",
            "1210/1210 [==============================] - 9s 7ms/step - loss: 2.2510 - acc: 0.1117 - val_loss: 2.7661 - val_acc: 0.1070\n",
            "Epoch 16/50\n",
            "1210/1210 [==============================] - 9s 7ms/step - loss: 2.2374 - acc: 0.1121 - val_loss: 2.7342 - val_acc: 0.1075\n",
            "Epoch 17/50\n",
            "1210/1210 [==============================] - 9s 7ms/step - loss: 2.2194 - acc: 0.1133 - val_loss: 2.7394 - val_acc: 0.1075\n",
            "Epoch 18/50\n",
            "1210/1210 [==============================] - 9s 7ms/step - loss: 2.2038 - acc: 0.1140 - val_loss: 2.7254 - val_acc: 0.1080\n",
            "Epoch 19/50\n",
            "1210/1210 [==============================] - 9s 7ms/step - loss: 2.1877 - acc: 0.1140 - val_loss: 2.7426 - val_acc: 0.1075\n",
            "Epoch 20/50\n",
            "1210/1210 [==============================] - 9s 7ms/step - loss: 2.1724 - acc: 0.1144 - val_loss: 2.7428 - val_acc: 0.1085\n",
            "Epoch 21/50\n",
            "1210/1210 [==============================] - 9s 7ms/step - loss: 2.1566 - acc: 0.1145 - val_loss: 2.7487 - val_acc: 0.1080\n",
            "Epoch 22/50\n",
            "1210/1210 [==============================] - 9s 7ms/step - loss: 2.1405 - acc: 0.1152 - val_loss: 2.7459 - val_acc: 0.1095\n",
            "Epoch 23/50\n",
            "1210/1210 [==============================] - 9s 7ms/step - loss: 2.1248 - acc: 0.1165 - val_loss: 2.7516 - val_acc: 0.1095\n",
            "Epoch 24/50\n",
            "1210/1210 [==============================] - 9s 7ms/step - loss: 2.1107 - acc: 0.1168 - val_loss: 2.7255 - val_acc: 0.1045\n",
            "Epoch 25/50\n",
            "1210/1210 [==============================] - 9s 7ms/step - loss: 2.0945 - acc: 0.1171 - val_loss: 2.7746 - val_acc: 0.1090\n",
            "Epoch 26/50\n",
            "1210/1210 [==============================] - 9s 7ms/step - loss: 2.0817 - acc: 0.1180 - val_loss: 2.7382 - val_acc: 0.1055\n",
            "Epoch 27/50\n",
            "1210/1210 [==============================] - 9s 7ms/step - loss: 2.0670 - acc: 0.1188 - val_loss: 2.7425 - val_acc: 0.1020\n",
            "Epoch 28/50\n",
            "1210/1210 [==============================] - 9s 7ms/step - loss: 2.0509 - acc: 0.1188 - val_loss: 2.7683 - val_acc: 0.1045\n",
            "Epoch 29/50\n",
            "1210/1210 [==============================] - 9s 7ms/step - loss: 2.0394 - acc: 0.1204 - val_loss: 2.7525 - val_acc: 0.1000\n",
            "Epoch 30/50\n",
            "1210/1210 [==============================] - 9s 7ms/step - loss: 2.0243 - acc: 0.1207 - val_loss: 2.7505 - val_acc: 0.0996\n",
            "Epoch 31/50\n",
            "1210/1210 [==============================] - 9s 7ms/step - loss: 2.0087 - acc: 0.1228 - val_loss: 2.7588 - val_acc: 0.1025\n",
            "Epoch 32/50\n",
            "1210/1210 [==============================] - 9s 7ms/step - loss: 1.9967 - acc: 0.1234 - val_loss: 2.7604 - val_acc: 0.0966\n",
            "Epoch 33/50\n",
            "1210/1210 [==============================] - 9s 7ms/step - loss: 1.9837 - acc: 0.1235 - val_loss: 2.7692 - val_acc: 0.0991\n",
            "Epoch 34/50\n",
            "1210/1210 [==============================] - 9s 7ms/step - loss: 1.9687 - acc: 0.1242 - val_loss: 2.7720 - val_acc: 0.1005\n",
            "Epoch 35/50\n",
            "1210/1210 [==============================] - 9s 7ms/step - loss: 1.9570 - acc: 0.1252 - val_loss: 2.7693 - val_acc: 0.0926\n",
            "Epoch 36/50\n",
            "1210/1210 [==============================] - 9s 7ms/step - loss: 1.9440 - acc: 0.1271 - val_loss: 2.7854 - val_acc: 0.0971\n",
            "Epoch 37/50\n",
            "1210/1210 [==============================] - 9s 7ms/step - loss: 1.9325 - acc: 0.1254 - val_loss: 2.7731 - val_acc: 0.0911\n",
            "Epoch 38/50\n",
            "1210/1210 [==============================] - 9s 7ms/step - loss: 1.9204 - acc: 0.1272 - val_loss: 2.7883 - val_acc: 0.0961\n",
            "Epoch 39/50\n",
            "1210/1210 [==============================] - 9s 7ms/step - loss: 1.9067 - acc: 0.1282 - val_loss: 2.7834 - val_acc: 0.0901\n",
            "Epoch 40/50\n",
            "1210/1210 [==============================] - 9s 7ms/step - loss: 1.8964 - acc: 0.1292 - val_loss: 2.7892 - val_acc: 0.0961\n",
            "Epoch 41/50\n",
            "1210/1210 [==============================] - 9s 7ms/step - loss: 1.8843 - acc: 0.1293 - val_loss: 2.7864 - val_acc: 0.0867\n",
            "Epoch 42/50\n",
            "1210/1210 [==============================] - 9s 7ms/step - loss: 1.8729 - acc: 0.1313 - val_loss: 2.7967 - val_acc: 0.0882\n",
            "Epoch 43/50\n",
            "1210/1210 [==============================] - 9s 7ms/step - loss: 1.8607 - acc: 0.1325 - val_loss: 2.7990 - val_acc: 0.0862\n",
            "Epoch 44/50\n",
            "1210/1210 [==============================] - 9s 7ms/step - loss: 1.8485 - acc: 0.1322 - val_loss: 2.8022 - val_acc: 0.0867\n",
            "Epoch 45/50\n",
            "1210/1210 [==============================] - 9s 7ms/step - loss: 1.8383 - acc: 0.1332 - val_loss: 2.8060 - val_acc: 0.0872\n",
            "Epoch 46/50\n",
            "1210/1210 [==============================] - 9s 7ms/step - loss: 1.8277 - acc: 0.1345 - val_loss: 2.8070 - val_acc: 0.0872\n",
            "Epoch 47/50\n",
            "1210/1210 [==============================] - 9s 7ms/step - loss: 1.8172 - acc: 0.1365 - val_loss: 2.8172 - val_acc: 0.0842\n",
            "Epoch 48/50\n",
            "1210/1210 [==============================] - 9s 7ms/step - loss: 1.8046 - acc: 0.1372 - val_loss: 2.8221 - val_acc: 0.0901\n",
            "Epoch 49/50\n",
            "1210/1210 [==============================] - 9s 7ms/step - loss: 1.7966 - acc: 0.1395 - val_loss: 2.8150 - val_acc: 0.0862\n",
            "Epoch 50/50\n",
            "1210/1210 [==============================] - 9s 7ms/step - loss: 1.7824 - acc: 0.1415 - val_loss: 2.8254 - val_acc: 0.0852\n"
          ],
          "name": "stdout"
        },
        {
          "output_type": "stream",
          "text": [
            "/usr/local/lib/python3.6/dist-packages/keras/engine/network.py:896: UserWarning: Layer lstm_8 was passed non-serializable keyword arguments: {'initial_state': [<tf.Tensor 'strided_slice_2:0' shape=(?, 50) dtype=float32>, <tf.Tensor 'strided_slice_2:0' shape=(?, 50) dtype=float32>]}. They will not be included in the serialized model (and thus will be missing at deserialization time).\n",
            "  '. They will not be included '\n"
          ],
          "name": "stderr"
        }
      ]
    },
    {
      "cell_type": "code",
      "metadata": {
        "id": "bXcsT7-CvRxp",
        "colab_type": "code",
        "colab": {
          "base_uri": "https://localhost:8080/",
          "height": 336
        },
        "outputId": "1e698c78-8a05-429e-dd7e-8f7f7c90e1e0"
      },
      "source": [
        "import matplotlib.pyplot as plt\n",
        "def plot_history(history):\n",
        "    acc = history.history['acc']\n",
        "    val_acc = history.history['val_acc']\n",
        "    loss = history.history['loss']\n",
        "    val_loss = history.history['val_loss']\n",
        "    x = range(1, len(acc) + 1)\n",
        "    \n",
        "    plt.figure(figsize=(12, 5))\n",
        "    plt.subplot(1, 2, 1)\n",
        "    plt.plot(x, acc, 'b', label='Training acc')\n",
        "    plt.plot(x, val_acc, 'r', label='Validation acc')\n",
        "    plt.title('Training and validation accuracy')\n",
        "    plt.legend()\n",
        "    plt.subplot(1, 2, 2)\n",
        "    plt.plot(x, loss, 'b', label='Training loss')\n",
        "    plt.plot(x, val_loss, 'r', label='Validation loss')\n",
        "    plt.title('Training and validation loss')\n",
        "    plt.legend()\n",
        "plot_history(history)"
      ],
      "execution_count": null,
      "outputs": [
        {
          "output_type": "display_data",
          "data": {
            "image/png": "[encoded data removed]",
            "text/plain": [
              "<Figure size 864x360 with 2 Axes>"
            ]
          },
          "metadata": {
            "tags": [],
            "needs_background": "light"
          }
        }
      ]
    },
    {
      "cell_type": "code",
      "metadata": {
        "id": "pfsgVEJBlhC2",
        "colab_type": "code",
        "colab": {}
      },
      "source": [
        "def decode_sequence_attention(input_seq):\n",
        "    decoded_sentence = ''\n",
        "    # encoder input\n",
        "    encoder_input = input_seq.reshape(1,max_source_seq_length)\n",
        "    # create blank matrix for decoder data\n",
        "    decoder_input = np.zeros(shape=(len(encoder_input), max_target_seq_length))\n",
        "    # update the first element with the start index\n",
        "    decoder_input[:,0] = target_token_index['START_']\n",
        "    # loop through the max length\n",
        "    for i in range(1, max_target_seq_length):\n",
        "        # Predict the index of the next word\n",
        "        output = model_attention.predict([encoder_input, decoder_input]).argmax(axis=2)\n",
        "        decoder_input[:,i] = output[:,i]\n",
        "    # Reverse to get the sentence from the word index\n",
        "    for d in decoder_input[:,0:][0]:\n",
        "        if (reverse_target_char_index[d] == '_END'):\n",
        "            decoded_sentence += ' '+reverse_target_char_index[d]\n",
        "            break\n",
        "        decoded_sentence += ' '+reverse_target_char_index[d]\n",
        "    return decoded_sentence.strip()"
      ],
      "execution_count": null,
      "outputs": []
    },
    {
      "cell_type": "code",
      "metadata": {
        "id": "8g4vT2jTlh7I",
        "colab_type": "code",
        "colab": {
          "base_uri": "https://localhost:8080/",
          "height": 50
        },
        "outputId": "12f91863-2caa-49ed-8592-c8e1d98c2f78"
      },
      "source": [
        "print(target_texts_train[10])\n",
        "print(decode_sequence_attention(encoder_input_data_train[10]))"
      ],
      "execution_count": null,
      "outputs": [
        {
          "output_type": "stream",
          "text": [
            "START_  অনুষ্ঠানটির স্লোগান ছিল ‘শিশুশ্রম আমরা চিরদিনের জন্য বিদায় করব’ _END\n",
            "START_ কিন্তু ‘ এ এ কোনো একটি জন্য কাজ ছিল ছিল _END\n"
          ],
          "name": "stdout"
        }
      ]
    },
    {
      "cell_type": "code",
      "metadata": {
        "id": "EHeHhFIvllex",
        "colab_type": "code",
        "colab": {
          "base_uri": "https://localhost:8080/",
          "height": 33
        },
        "outputId": "334c5da1-7cb6-4875-d3c1-b982012d7972"
      },
      "source": [
        "len(encoder_input_data_test)"
      ],
      "execution_count": null,
      "outputs": [
        {
          "output_type": "execute_result",
          "data": {
            "text/plain": [
              "357"
            ]
          },
          "metadata": {
            "tags": []
          },
          "execution_count": 87
        }
      ]
    },
    {
      "cell_type": "code",
      "metadata": {
        "id": "GoVoxLxuloHh",
        "colab_type": "code",
        "colab": {}
      },
      "source": [
        "actual_attention, predicted_attention = list(), list()\n",
        "for seq_index in range(len(encoder_input_data_test)):\n",
        "    input_seq = encoder_input_data_test[seq_index: seq_index + 1]\n",
        "    decoded_sent = decode_sequence_attention(input_seq)\n",
        "    predicted_attention.append(nltk.word_tokenize(decoded_sent))\n",
        "    actual_attention.append([nltk.word_tokenize(target_texts_test[seq_index])])"
      ],
      "execution_count": null,
      "outputs": []
    },
    {
      "cell_type": "code",
      "metadata": {
        "id": "jqUP_Dsdlraj",
        "colab_type": "code",
        "colab": {
          "base_uri": "https://localhost:8080/",
          "height": 167
        },
        "outputId": "3d005f42-ffbf-4042-afe3-33dc7a5e12e8"
      },
      "source": [
        "print(\"BLEU Score : \")\n",
        "print('BLEU-1: %f' % corpus_bleu(actual_attention, predicted_attention, weights=(1.0, 0, 0, 0)))\n",
        "print('BLEU-2: %f' % corpus_bleu(actual_attention, predicted_attention, weights=(0.5, 0.5, 0, 0)))\n",
        "print('BLEU-3: %f' % corpus_bleu(actual_attention, predicted_attention, weights=(0.3, 0.3, 0.3, 0)))\n",
        "print('BLEU-4: %f' % corpus_bleu(actual_attention, predicted_attention, weights=(0.25, 0.25, 0.25, 0.25)))"
      ],
      "execution_count": null,
      "outputs": [
        {
          "output_type": "stream",
          "text": [
            "BLEU Score : \n",
            "BLEU-1: 0.216520\n",
            "BLEU-2: 0.042173\n",
            "BLEU-3: 0.149630\n",
            "BLEU-4: 0.205360\n"
          ],
          "name": "stdout"
        },
        {
          "output_type": "stream",
          "text": [
            "/usr/local/lib/python3.6/dist-packages/nltk/translate/bleu_score.py:490: UserWarning: \n",
            "Corpus/Sentence contains 0 counts of 3-gram overlaps.\n",
            "BLEU scores might be undesirable; use SmoothingFunction().\n",
            "  warnings.warn(_msg)\n"
          ],
          "name": "stderr"
        }
      ]
    },
    {
      "cell_type": "code",
      "metadata": {
        "id": "QRew2WGQ833v",
        "colab_type": "code",
        "colab": {
          "base_uri": "https://localhost:8080/",
          "height": 100
        },
        "outputId": "df07ed08-7b3f-4d82-d7b6-6f7820246a4e"
      },
      "source": [
        "score = corpus_bleu(actual_attention,  predicted_attention)\n",
        "print(score*100)"
      ],
      "execution_count": null,
      "outputs": [
        {
          "output_type": "stream",
          "text": [
            "22.31408329362082\n"
          ],
          "name": "stdout"
        },
        {
          "output_type": "stream",
          "text": [
            "/usr/local/lib/python3.6/dist-packages/nltk/translate/bleu_score.py:490: UserWarning: \n",
            "Corpus/Sentence contains 0 counts of 3-gram overlaps.\n",
            "BLEU scores might be undesirable; use SmoothingFunction().\n",
            "  warnings.warn(_msg)\n"
          ],
          "name": "stderr"
        }
      ]
    },
    {
      "cell_type": "code",
      "metadata": {
        "id": "ZZHUHG2wvBCX",
        "colab_type": "code",
        "colab": {}
      },
      "source": [
        ""
      ],
      "execution_count": null,
      "outputs": []
    }
  ]
}